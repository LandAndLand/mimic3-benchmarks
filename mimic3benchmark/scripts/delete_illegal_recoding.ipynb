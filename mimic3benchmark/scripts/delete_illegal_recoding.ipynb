{
 "metadata": {
  "language_info": {
   "codemirror_mode": {
    "name": "ipython",
    "version": 3
   },
   "file_extension": ".py",
   "mimetype": "text/x-python",
   "name": "python",
   "nbconvert_exporter": "python",
   "pygments_lexer": "ipython3",
   "version": "3.7.4-final"
  },
  "orig_nbformat": 2,
  "kernelspec": {
   "name": "python3",
   "display_name": "Python 3"
  }
 },
 "nbformat": 4,
 "nbformat_minor": 2,
 "cells": [
  {
   "source": [
    "The following command attempts to fix some issues (ICU stay ID is missing) and removes the events that have missing information"
   ],
   "cell_type": "markdown",
   "metadata": {}
  },
  {
   "cell_type": "code",
   "execution_count": 1,
   "metadata": {},
   "outputs": [],
   "source": [
    "import pandas as pd\n",
    "import os\n",
    "import numpy as np\n",
    "\n",
    "from tqdm import tqdm\n",
    "\n",
    "subjects_root_path = 'data/root'"
   ]
  },
  {
   "cell_type": "code",
   "execution_count": 2,
   "metadata": {},
   "outputs": [
    {
     "output_type": "stream",
     "name": "stdout",
     "text": [
      "33798\n"
     ]
    }
   ],
   "source": [
    "def is_subject_folder(x):\n",
    "    # isdigit() 方法检测字符串是否只由数字组成。\n",
    "    return str.isdigit(x)\n",
    "subdirectories = os.listdir(subjects_root_path)\n",
    "# 得到文件名称全部是数字的文件夹\n",
    "subjects = list(filter(is_subject_folder, subdirectories))\n",
    "# 所有的icustays的病人个数\n",
    "print(len(subjects))"
   ]
  },
  {
   "source": [
    "### 只是小测试，看看isnull.any()输出是什么"
   ],
   "cell_type": "markdown",
   "metadata": {}
  },
  {
   "cell_type": "code",
   "execution_count": 3,
   "metadata": {},
   "outputs": [
    {
     "output_type": "execute_result",
     "data": {
      "text/plain": [
       "' s = 3\\n#stays_df = pd.read_csv(os.path.join(subjects_root_path, str(s), \\'stays.csv\\'), index_col=False,\\n                            #dtype={\\'HADM_ID\\': str, \"ICUSTAY_ID\": str})\\n#print(stays_df)\\n#stays_df[\\'ICUSTAY_ID\\'].isnull().any()\\n\\nlist1 = [None, 1, 2, None, None]\\nisnull_df = pd.Series(list1)\\nprint(isnull_df)\\n# 判断isnull_df里面是否有空值，只要有空值就为True\\nprint(isnull_df.isnull().any())\\nprint(isnull_df.isnull().sum()) '"
      ]
     },
     "metadata": {},
     "execution_count": 3
    }
   ],
   "source": [
    "\"\"\" s = 3\n",
    "#stays_df = pd.read_csv(os.path.join(subjects_root_path, str(s), 'stays.csv'), index_col=False,\n",
    "                            #dtype={'HADM_ID': str, \"ICUSTAY_ID\": str})\n",
    "#print(stays_df)\n",
    "#stays_df['ICUSTAY_ID'].isnull().any()\n",
    "\n",
    "list1 = [None, 1, 2, None, None]\n",
    "isnull_df = pd.Series(list1)\n",
    "print(isnull_df)\n",
    "# 判断isnull_df里面是否有空值，只要有空值就为True\n",
    "print(isnull_df.isnull().any())\n",
    "print(isnull_df.isnull().sum()) \"\"\""
   ]
  },
  {
   "cell_type": "code",
   "execution_count": 4,
   "metadata": {},
   "outputs": [],
   "source": [
    "n_events = 0                   # total number of events\n",
    "empty_hadm = 0                 # HADM_ID is empty in events.csv. We exclude such events.\n",
    "no_hadm_in_stay = 0            # HADM_ID does not appear in stays.csv. We exclude such events.\n",
    "no_icustay = 0                 # ICUSTAY_ID is empty in events.csv. We try to fix such events.\n",
    "recovered = 0                  # empty ICUSTAY_IDs are recovered according to stays.csv files (given HADM_ID)\n",
    "could_not_recover = 0          # empty ICUSTAY_IDs that are not recovered. This should be zero.\n",
    "icustay_missing_in_stays = 0   # ICUSTAY_ID does not appear in stays.csv. We exclude such events."
   ]
  },
  {
   "source": [
    "# 使用stay.csv修复events.csv的ICUSTAY_ID的nan"
   ],
   "cell_type": "markdown",
   "metadata": {}
  },
  {
   "cell_type": "code",
   "execution_count": 5,
   "metadata": {},
   "outputs": [],
   "source": [
    "if os.path.exists('delete_nan_in_events_csv.logs'):\n",
    "    os.remove('delete_nan_in_events_csv.logs')\n",
    "\n"
   ]
  },
  {
   "cell_type": "code",
   "execution_count": 6,
   "metadata": {
    "tags": []
   },
   "outputs": [
    {
     "output_type": "stream",
     "name": "stderr",
     "text": [
      "Iterating over subjects: 100%|██████████| 33798/33798 [32:07<00:00, 17.54it/s]n_events: 252617853\n",
      "empty_hadm: 5139379\n",
      "no_hadm_in_stay: 31810107\n",
      "no_icustay: 15556328\n",
      "recovered: 15556328\n",
      "could_not_recover: 0\n",
      "icustay_missing_in_stays: 7096130\n",
      "\n"
     ]
    }
   ],
   "source": [
    "import logging\n",
    "logging.basicConfig(\n",
    "    filename = 'delete_nan_in_events_csv.logs',\n",
    "    filemode = 'a',\n",
    "    format='%(asctime)s [%(levelname)s] %(message)s',\n",
    "    datefmt = '%H:%M:%S',\n",
    "    level = logging.DEBUG,\n",
    ")\n",
    "logger = logging.getLogger()\n",
    "\n",
    "\n",
    "# 遍历这些病人的文件夹\n",
    "num_subjects = len(subjects)\n",
    "for subject in tqdm(subjects, total = num_subjects, desc='Iterating over subjects'):\n",
    "    '''\n",
    "    stays.csv的每行记录的内容是：病人每次住院的记录（每次住院只能有一个HADM-ID\\icustay_id）\n",
    "    '''\n",
    "\n",
    "    log = f'当前处理的是{subject} 病人'\n",
    "    logger.info(log)\n",
    "    subject = str(subject)\n",
    "    stays_df = pd.read_csv(os.path.join(subjects_root_path, subject, 'stays.csv'), index_col=False)\n",
    "    #\n",
    "    stays_df.columns = stays_df.columns.str.upper()\n",
    "    #print(stays_df.dtypes)\n",
    "    #assert that there is no row with empty ICUSTAY_ID or HADM_ID\n",
    "    assert(not stays_df['ICUSTAY_ID'].isnull().any())\n",
    "    assert(not stays_df['HADM_ID'].isnull().any())\n",
    "\n",
    "    # assert there are no repetitions of ICUSTAY_ID or HADM_ID\n",
    "    # since admissions with multiple ICU stays were excluded\n",
    "    assert(len(stays_df['ICUSTAY_ID'].unique()) == len(stays_df['ICUSTAY_ID']))\n",
    "    # 如果患者在住院期间发生了ICU的转移，就会出现同一个HADM_ID对应不同的ICUSTAY_ID，\n",
    "    # 所以HADM_ID去重之后就与去重之前的个数不再相等\n",
    "    assert(len(stays_df['HADM_ID'].unique()) == len(stays_df['HADM_ID']))\n",
    "\n",
    "    events_df = pd.read_csv(os.path.join(subjects_root_path, subject, 'events.csv'), index_col=False)\n",
    "    # 把ID里面的空值设置为-1， 然后把ID类型转换为int\n",
    "    #print('events_df的数据类型：')\n",
    "    #print(events_df.dtypes)\n",
    "    events_df.columns = events_df.columns.str.upper()\n",
    "    n_events += events_df.shape[0]\n",
    "    nan_hadm = events_df['HADM_ID'].isnull().sum()\n",
    "    empty_hadm += nan_hadm\n",
    "    #print(f'住院ID为空的记录个数为： {empty_hadm}')\n",
    "    log = f'住院ID为空的记录个数为： {nan_hadm}'\n",
    "    logger.info(log)\n",
    "    # we drop all events for them HADM_ID is empty\n",
    "    # TODO: maybe we can recover HADM_ID by looking at ICUSTAY_ID\n",
    "    # 删除掉events.csv中住院ID HADM_ID为空的数据\n",
    "    events_df = events_df.dropna(subset=['HADM_ID'])\n",
    "    \"\"\" \n",
    "    events.csv中的数据的ICUSTAY_ID仍可能为空；\n",
    "    这里没有立刻删除ICUSTAY_ID为空的数据是想要根据HADM_ID来修复\n",
    "    \"\"\"\n",
    "    #events_df = events_df.dropna(subset=['ICUSTAY_ID'])\n",
    "    events_df[['HADM_ID', 'ICUSTAY_ID']] = events_df[['HADM_ID', 'ICUSTAY_ID']].fillna(-1).astype(int)\n",
    "    #print('stays_df: ')\n",
    "    #print(stays_df)\n",
    "    #print('填补nan为-1、且将ID转换为Int的events_df')\n",
    "    #print(events_df)\n",
    "\n",
    "    merged_df = events_df.merge(stays_df, on=['HADM_ID'], how='left', suffixes=['', '_r'], indicator=True)\n",
    "    #print('events_df和stays_df在HADM_ID是left合并的结果：')\n",
    "    #print(merged_df)\n",
    "    # we drop all events for which HADM_ID is not listed in stays.csv\n",
    "    # since there is no way to know the targets of that stay (for example mortality)\n",
    "    no_hadm_in_stay += (merged_df['_merge'] == 'left_only').sum()\n",
    "    merged_df = merged_df[merged_df['_merge'] == 'both']\n",
    "\n",
    "    # 转换ICUSTAY_ID的-1为Nan\n",
    "    import numpy as np\n",
    "    mask_non = merged_df['ICUSTAY_ID'] == -1\n",
    "    merged_df.loc[mask_non, 'ICUSTAY_ID'] = np.nan\n",
    "    #print(merged_df.loc[mask_non])\n",
    "    #print(merged_df)\n",
    "\n",
    "    # if ICUSTAY_ID is empty in stays.csv, we try to recover it\n",
    "    # we exclude all events for which we could not recover ICUSTAY_ID\n",
    "    cur_no_icustay = merged_df['ICUSTAY_ID'].isnull().sum()\n",
    "    #print(f'当前events.csv里面还有 {cur_no_icustay} 条ICUSTAY_ID为NAN的记录')\n",
    "    log = f'当前events.csv里面还有 {cur_no_icustay} 条ICUSTAY_ID为NAN的记录'\n",
    "    logger.info(log)\n",
    "    no_icustay += cur_no_icustay\n",
    "    # 使用stays.csv中与events.csv的HADM_ID相对应的ICUSTAY_ID来补充events.csv中的None\n",
    "    merged_df.loc[:, 'ICUSTAY_ID'] = merged_df['ICUSTAY_ID'].fillna(merged_df['ICUSTAY_ID_r'])\n",
    "    cur_cover = cur_no_icustay - merged_df['ICUSTAY_ID'].isnull().sum()\n",
    "    recovered += cur_cover\n",
    "    cur_not_recover = merged_df['ICUSTAY_ID'].isnull().sum()\n",
    "    could_not_recover += cur_not_recover\n",
    "    #print(f'修复了 {cur_cover} 条ICUSTAY_ID为NAN的记录')\n",
    "    #print(f'还剩下{cur_not_recover}条无法修复， 这些记录将被删除')\n",
    "    log = f'修复了 {cur_cover} 条ICUSTAY_ID为NAN的记录, 还剩下{cur_not_recover}条无法修复， 这些记录将被删除'\n",
    "    logger.info(log)\n",
    "    merged_df = merged_df.dropna(subset=['ICUSTAY_ID'])\n",
    "\n",
    "    # now we take a look at the case when ICUSTAY_ID is present in events.csv, but not in stays.csv\n",
    "    # this mean that ICUSTAY_ID in events.csv is not the same as that of stays.csv for the same HADM_ID\n",
    "    # we drop all such events\n",
    "    icustay_missing_in_stays += (merged_df['ICUSTAY_ID'] != merged_df['ICUSTAY_ID_r']).sum()\n",
    "    merged_df = merged_df[(merged_df['ICUSTAY_ID'] == merged_df['ICUSTAY_ID_r'])]\n",
    "\n",
    "    to_write = merged_df[['SUBJECT_ID', 'HADM_ID', 'ICUSTAY_ID', 'CHARTTIME', 'ITEMID', 'VALUE', 'VALUEUOM']]\n",
    "    to_write.to_csv(os.path.join(subjects_root_path, subject, 'events.csv'), index=False)\n",
    "print('n_events: {}'.format(n_events))\n",
    "print('empty_hadm: {}'.format(empty_hadm))\n",
    "print('no_hadm_in_stay: {}'.format(no_hadm_in_stay))\n",
    "print('no_icustay: {}'.format(no_icustay))\n",
    "print('recovered: {}'.format(recovered))\n",
    "print('could_not_recover: {}'.format(could_not_recover))\n",
    "print('icustay_missing_in_stays: {}'.format(icustay_missing_in_stays))\n",
    "\n",
    "log = 'n_events: {}; \\n empty_hadm: {}; \\n no_hadm_in_stay: {} \\n no_icustay: {} \\n recovered: {} \\n could_not_recover: {} \\n icustay_missing_in_stays: {} '.format(n_events, empty_hadm, no_hadm_in_stay, no_icustay, recovered, could_not_recover, icustay_missing_in_stays)"
   ]
  },
  {
   "cell_type": "code",
   "execution_count": 7,
   "metadata": {},
   "outputs": [],
   "source": [
    "#a = merged_df.loc[mask_non, 'ICUSTAY_ID'] "
   ]
  },
  {
   "cell_type": "code",
   "execution_count": 8,
   "metadata": {},
   "outputs": [],
   "source": [
    "#prirged_df.loc[:, 'ICUSTAY_ID'])"
   ]
  },
  {
   "cell_type": "code",
   "execution_count": 9,
   "metadata": {},
   "outputs": [
    {
     "output_type": "execute_result",
     "data": {
      "text/plain": [
       "\"\\nif 'ICUSTAY_ID' not in labevents:\\n    labevents['ICUSTAY_ID'] = ''\\nfor s in subjects:\\n    # 写入lab和out信息\\n    print(f'当前处理的病人ID是: {s}')\\n    mask_lab = labevents['SUBJECT_ID'] == s\\n    mask_out = outputevents['SUBJECT_ID'] == s\\n    lab = labevents[mask_lab][obs_header]\\n    print('*************lab 得到的信息***************')\\n    print(lab)\\n    out = outputevents[mask_out][obs_header]\\n    print('**************out 得到的信息***************')\\n    print(out)\\n \""
      ]
     },
     "metadata": {},
     "execution_count": 9
    }
   ],
   "source": [
    "'''\n",
    "if 'ICUSTAY_ID' not in labevents:\n",
    "    labevents['ICUSTAY_ID'] = ''\n",
    "for s in subjects:\n",
    "    # 写入lab和out信息\n",
    "    print(f'当前处理的病人ID是: {s}')\n",
    "    mask_lab = labevents['SUBJECT_ID'] == s\n",
    "    mask_out = outputevents['SUBJECT_ID'] == s\n",
    "    lab = labevents[mask_lab][obs_header]\n",
    "    print('*************lab 得到的信息***************')\n",
    "    print(lab)\n",
    "    out = outputevents[mask_out][obs_header]\n",
    "    print('**************out 得到的信息***************')\n",
    "    print(out)\n",
    " '''   "
   ]
  }
 ]
}