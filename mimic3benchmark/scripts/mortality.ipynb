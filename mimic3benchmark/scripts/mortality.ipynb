{
 "metadata": {
  "language_info": {
   "codemirror_mode": {
    "name": "ipython",
    "version": 3
   },
   "file_extension": ".py",
   "mimetype": "text/x-python",
   "name": "python",
   "nbconvert_exporter": "python",
   "pygments_lexer": "ipython3",
   "version": "3.8.6-final"
  },
  "orig_nbformat": 2,
  "kernelspec": {
   "name": "python3",
   "display_name": "Python 3.8.6 64-bit ('normal')",
   "metadata": {
    "interpreter": {
     "hash": "304dd9ef76ad2d6bf7237ef8f6fde70bef676e0aff923029a3f8742854b86f8f"
    }
   }
  }
 },
 "nbformat": 4,
 "nbformat_minor": 2,
 "cells": [
  {
   "cell_type": "code",
   "execution_count": 1,
   "metadata": {},
   "outputs": [],
   "source": [
    "import pandas as pd\n",
    "from tqdm import tqdm\n",
    "import random"
   ]
  },
  {
   "cell_type": "code",
   "execution_count": 34,
   "metadata": {},
   "outputs": [],
   "source": [
    "root_path = 'data/root'\n",
    "train_path = os.path.join(root_path, 'train')\n",
    "test_path = os.path.join(root_path, 'test')\n",
    "mortality_path = 'data/in-hospital-mortality'"
   ]
  },
  {
   "cell_type": "code",
   "execution_count": 3,
   "metadata": {},
   "outputs": [],
   "source": [
    "if not os.path.exists(mortality_path):\n",
    "    os.makedirs(mortality_path)"
   ]
  },
  {
   "source": [
    "# 加载病人3的诊断信息"
   ],
   "cell_type": "markdown",
   "metadata": {}
  },
  {
   "cell_type": "code",
   "execution_count": 4,
   "metadata": {},
   "outputs": [
    {
     "output_type": "execute_result",
     "data": {
      "text/plain": [
       "   Icustay  Ethnicity  Gender        Age  Height     Weight  Length of Stay  \\\n",
       "0   211552          4       2  76.575342     NaN  96.800003          6.0646   \n",
       "\n",
       "   Mortality  Diagnosis 4019  Diagnosis 4280  ...  Diagnosis 570  \\\n",
       "0          0               0               0  ...              0   \n",
       "\n",
       "   Diagnosis 71590  Diagnosis 2869  Diagnosis 2763  Diagnosis 5770  \\\n",
       "0                0               0               0               0   \n",
       "\n",
       "   Diagnosis V5865  Diagnosis 99662  Diagnosis 28860  Diagnosis 36201  \\\n",
       "0                0                0                0                0   \n",
       "\n",
       "   Diagnosis 56210  \n",
       "0                0  \n",
       "\n",
       "[1 rows x 136 columns]"
      ],
      "text/html": "<div>\n<style scoped>\n    .dataframe tbody tr th:only-of-type {\n        vertical-align: middle;\n    }\n\n    .dataframe tbody tr th {\n        vertical-align: top;\n    }\n\n    .dataframe thead th {\n        text-align: right;\n    }\n</style>\n<table border=\"1\" class=\"dataframe\">\n  <thead>\n    <tr style=\"text-align: right;\">\n      <th></th>\n      <th>Icustay</th>\n      <th>Ethnicity</th>\n      <th>Gender</th>\n      <th>Age</th>\n      <th>Height</th>\n      <th>Weight</th>\n      <th>Length of Stay</th>\n      <th>Mortality</th>\n      <th>Diagnosis 4019</th>\n      <th>Diagnosis 4280</th>\n      <th>...</th>\n      <th>Diagnosis 570</th>\n      <th>Diagnosis 71590</th>\n      <th>Diagnosis 2869</th>\n      <th>Diagnosis 2763</th>\n      <th>Diagnosis 5770</th>\n      <th>Diagnosis V5865</th>\n      <th>Diagnosis 99662</th>\n      <th>Diagnosis 28860</th>\n      <th>Diagnosis 36201</th>\n      <th>Diagnosis 56210</th>\n    </tr>\n  </thead>\n  <tbody>\n    <tr>\n      <th>0</th>\n      <td>211552</td>\n      <td>4</td>\n      <td>2</td>\n      <td>76.575342</td>\n      <td>NaN</td>\n      <td>96.800003</td>\n      <td>6.0646</td>\n      <td>0</td>\n      <td>0</td>\n      <td>0</td>\n      <td>...</td>\n      <td>0</td>\n      <td>0</td>\n      <td>0</td>\n      <td>0</td>\n      <td>0</td>\n      <td>0</td>\n      <td>0</td>\n      <td>0</td>\n      <td>0</td>\n      <td>0</td>\n    </tr>\n  </tbody>\n</table>\n<p>1 rows × 136 columns</p>\n</div>"
     },
     "metadata": {},
     "execution_count": 4
    }
   ],
   "source": [
    "patient_id = 3\n",
    "patient_path = os.path.join(train_path, str(patient_id))\n",
    "diagnose_path = os.path.join(patient_path, 'episode1.csv')\n",
    "label_df = pd.read_csv(diagnose_path)\n",
    "label_df"
   ]
  },
  {
   "source": [
    "#### 病人3的诊断信息里面包含有该病人是否在ICU内死亡的标志"
   ],
   "cell_type": "markdown",
   "metadata": {}
  },
  {
   "cell_type": "code",
   "execution_count": 5,
   "metadata": {},
   "outputs": [
    {
     "output_type": "execute_result",
     "data": {
      "text/plain": [
       "0.0"
      ]
     },
     "metadata": {},
     "execution_count": 5
    }
   ],
   "source": [
    "label_df.iloc[0][\"Mortality\"]"
   ]
  },
  {
   "cell_type": "code",
   "execution_count": 13,
   "metadata": {},
   "outputs": [
    {
     "output_type": "execute_result",
     "data": {
      "text/plain": [
       "\" n_hours=48\\nts_lines = ts_lines[1:]\\nevent_times = [float(line.split(',')[0]) for line in ts_lines]\\nts_lines = [line for (line, t) in zip(ts_lines, event_times) if -eps < t < n_hours + eps] \""
      ]
     },
     "metadata": {},
     "execution_count": 13
    }
   ],
   "source": [
    "\"\"\" ts_path = os.path.join(patient_path, 'episode1_timeseries.csv')\n",
    "with open(ts_path) as tsfile:\n",
    "    # 读取该文件内的所有内容\n",
    "    ts_lines = tsfile.readlines()\n",
    "    #print(ts_lines)\n",
    "    header = ts_lines[0]\n",
    "    print()\n",
    "    print(f'header: {header}')\n",
    "    ts_lines = ts_lines[1:]\n",
    "    print()\n",
    "    #print(ts_lines)\n",
    "    for line in ts_lines:\n",
    "        print(f'line: {line}')\n",
    "        # 每行的第一个是进入ICU内多少个hour\n",
    "        hour_inicu = float(line.split(',')[0])\n",
    "        print(f'hour_inicu: {hour_inicu}') \"\"\"\n",
    "\"\"\" n_hours=48\n",
    "ts_lines = ts_lines[1:]\n",
    "event_times = [float(line.split(',')[0]) for line in ts_lines]\n",
    "ts_lines = [line for (line, t) in zip(ts_lines, event_times) if -eps < t < n_hours + eps] \"\"\""
   ]
  },
  {
   "cell_type": "code",
   "execution_count": 15,
   "metadata": {},
   "outputs": [
    {
     "output_type": "stream",
     "name": "stdout",
     "text": [
      "['11', '17', '18', '19', '20', '22', '23', '25', '28', '3', '32', '33', '4']\n"
     ]
    }
   ],
   "source": [
    "\"\"\" patients = list(filter(str.isdigit, os.listdir(os.path.join(root_path, 'train'))))\n",
    "print(patients) \"\"\""
   ]
  },
  {
   "cell_type": "code",
   "execution_count": 36,
   "metadata": {},
   "outputs": [],
   "source": [
    "def process_partition(root_path, mortality_path, partition='train', eps=1e-6, n_hours=48):\n",
    "    # 创建存储处理结果的文件夹\n",
    "    # 'data/in-hospital-mortality/train'\n",
    "    mortality_dir = os.path.join(mortality_path, partition)\n",
    "    try:\n",
    "        os.makedirs(mortality_dir)\n",
    "    except:\n",
    "        pass\n",
    "    \n",
    "    xy_pairs = []\n",
    "    failed = 0\n",
    "    all_records = 0\n",
    "    patients = list(filter(str.isdigit, os.listdir(os.path.join(root_path, partition))))\n",
    "    for patient in tqdm(patients, desc='Iterating over patients in {}'.format(partition)):\n",
    "        #print()\n",
    "        # 得到某个病人的数据文件夹\n",
    "        patient_folder = os.path.join(root_path, partition, patient)\n",
    "        # 得到病人的episode*_timeseries.csv\n",
    "        patient_ts_files = list(filter(lambda x: x.find(\"timeseries\") != -1, os.listdir(patient_folder)))\n",
    "\n",
    "        for ts_index, ts_filename in enumerate(patient_ts_files):\n",
    "            all_records += 1\n",
    "            with open(os.path.join(patient_folder, ts_filename)) as tsfile:\n",
    "                # 读取病人ICU和diagnose结合的信息 即episode*.csv\n",
    "                lb_filename = ts_filename.replace(\"_timeseries\", \"\")\n",
    "                label_df = pd.read_csv(os.path.join(patient_folder, lb_filename))\n",
    "\n",
    "                # empty label file\n",
    "                if label_df.shape[0] == 0:\n",
    "                    #print(f'patient_{patient} have no diagnoses')\n",
    "                    failed += 1\n",
    "                    continue\n",
    "                # 得到该次病人入住ICU是否死亡的标志\n",
    "                mortality = int(label_df.iloc[0][\"Mortality\"])\n",
    "                los = 24.0 * label_df.iloc[0]['Length of Stay']  # in hours\n",
    "                #print(f'patient_{patient} stayed in ICU {los} hours')\n",
    "                if pd.isnull(los):\n",
    "                    #print(\"\\n\\t(length of stay is missing)\", patient, ts_filename)\n",
    "                    failed += 1\n",
    "                    continue\n",
    "                # 排除掉病人入住ICU小于48h的数据\n",
    "                if los < n_hours - eps:\n",
    "                    #print(f'patient_{patient} have stayed in ICU less than 48 hours')\n",
    "                    failed += 1\n",
    "                    continue\n",
    "                # 读取了csv的全部内容\n",
    "                ts_lines = tsfile.readlines()\n",
    "                # header是列名\n",
    "                header = ts_lines[0]\n",
    "                # ts_lines是该病人某次入住ICU的17个变量的全部内容\n",
    "                ts_lines = ts_lines[1:]\n",
    "                # 找到所有记录的时间\n",
    "                event_times = [float(line.split(',')[0]) for line in ts_lines]\n",
    "                # 筛选出记录时间在0~48h内的记录\n",
    "                ts_lines = [line for (line, t) in zip(ts_lines, event_times)\n",
    "                            if -eps < t < n_hours + eps]\n",
    "\n",
    "                # no measurements in ICU\n",
    "                # 没有0~48h内的记录：\n",
    "                if len(ts_lines) == 0:\n",
    "                    #print(\"\\n\\t(no events in ICU) \", patient, ts_filename)\n",
    "                    failed += 1\n",
    "                    continue\n",
    "\n",
    "                output_ts_filename = str(patient) + \"_\" + str(ts_index+1) + '.csv'\n",
    "                with open(os.path.join(mortality_dir, output_ts_filename), \"w\") as outfile:\n",
    "                    outfile.write(header)\n",
    "                    for line in ts_lines:\n",
    "                        outfile.write(line)\n",
    "\n",
    "                xy_pairs.append((output_ts_filename, mortality))\n",
    "\n",
    "    print(\"Number of created samples:\", len(xy_pairs))\n",
    "    print(f'success to proess : {1-float(failed)/float(all_records)}')\n",
    "\n",
    "    if partition == \"train\":\n",
    "        random.shuffle(xy_pairs)\n",
    "    if partition == \"test\":\n",
    "        xy_pairs = sorted(xy_pairs)\n",
    "\n",
    "    with open(os.path.join(mortality_path, partition+\"_listfile.csv\"), \"w\") as listfile:\n",
    "        listfile.write('patient_id_i, y_true\\n')\n",
    "        for (x, y) in xy_pairs:\n",
    "            listfile.write('{},{:d}\\n'.format(x, y))\n"
   ]
  },
  {
   "cell_type": "code",
   "execution_count": 37,
   "metadata": {},
   "outputs": [
    {
     "output_type": "stream",
     "name": "stderr",
     "text": [
      "Iterating over patients in train: 100%|██████████| 23658/23658 [10:44<00:00, 36.74it/s]\n",
      "Number of created samples: 14803\n",
      "success to proess : 0.5032124281877826\n"
     ]
    }
   ],
   "source": [
    "process_partition(root_path, mortality_path, 'train')\n",
    "process_partition(root_path, mortality_path, 'test')"
   ]
  }
 ]
}