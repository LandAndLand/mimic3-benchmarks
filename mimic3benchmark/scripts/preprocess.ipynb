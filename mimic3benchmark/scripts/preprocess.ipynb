{
 "metadata": {
  "language_info": {
   "codemirror_mode": {
    "name": "ipython",
    "version": 3
   },
   "file_extension": ".py",
   "mimetype": "text/x-python",
   "name": "python",
   "nbconvert_exporter": "python",
   "pygments_lexer": "ipython3",
   "version": "3.8.6-final"
  },
  "orig_nbformat": 2,
  "kernelspec": {
   "name": "python3",
   "display_name": "Python 3.8.6 64-bit ('normal')",
   "metadata": {
    "interpreter": {
     "hash": "f00aa4d08b5dbe9a4f4240f8270de016ce9f4f5bdff9dc19e01b094329a335d5"
    }
   }
  }
 },
 "nbformat": 4,
 "nbformat_minor": 2,
 "cells": [
  {
   "cell_type": "code",
   "execution_count": 16,
   "metadata": {},
   "outputs": [],
   "source": [
    "import os\n",
    "import pandas as pd\n",
    "\n",
    "from pathlib import Path\n"
   ]
  },
  {
   "cell_type": "code",
   "execution_count": 17,
   "metadata": {},
   "outputs": [],
   "source": [
    "mimic3_path = 'MIMIC-III Clinical Database 1.4'\n",
    "output_path = 'data/root'"
   ]
  },
  {
   "cell_type": "code",
   "execution_count": 18,
   "metadata": {},
   "outputs": [],
   "source": [
    "try:\n",
    "    os.makedirs(output_path)\n",
    "except:\n",
    "    pass"
   ]
  },
  {
   "cell_type": "code",
   "execution_count": 19,
   "metadata": {},
   "outputs": [],
   "source": [
    "pats = pd.read_csv(os.path.join(mimic3_path, 'PATIENTS.csv'))\n",
    "# \n",
    "pats = pats[['SUBJECT_ID', 'GENDER', 'DOB', 'DOD']]\n",
    "pats.DOB = pd.to_datetime(pats.DOB)\n",
    "pats.DOD = pd.to_datetime(pats.DOD)\n"
   ]
  },
  {
   "cell_type": "code",
   "execution_count": 20,
   "metadata": {},
   "outputs": [],
   "source": [
    "pats_original = pd.read_csv(os.path.join(mimic3_path, 'PATIENTS.csv'))"
   ]
  },
  {
   "cell_type": "code",
   "execution_count": 21,
   "metadata": {},
   "outputs": [
    {
     "output_type": "stream",
     "name": "stdout",
     "text": [
      "   ROW_ID  SUBJECT_ID GENDER                  DOB                  DOD  \\\n0     234         249      F  2075-03-13 00:00:00                  NaN   \n1     235         250      F  2164-12-27 00:00:00  2188-11-22 00:00:00   \n2     236         251      M  2090-03-15 00:00:00                  NaN   \n3     237         252      M  2078-03-06 00:00:00                  NaN   \n4     238         253      F  2089-11-26 00:00:00                  NaN   \n\n              DOD_HOSP DOD_SSN  EXPIRE_FLAG  \n0                  NaN     NaN            0  \n1  2188-11-22 00:00:00     NaN            1  \n2                  NaN     NaN            0  \n3                  NaN     NaN            0  \n4                  NaN     NaN            0  \n   SUBJECT_ID GENDER        DOB        DOD\n0         249      F 2075-03-13        NaT\n1         250      F 2164-12-27 2188-11-22\n2         251      M 2090-03-15        NaT\n3         252      M 2078-03-06        NaT\n4         253      F 2089-11-26        NaT\n"
     ]
    }
   ],
   "source": [
    "print(pats_original.head())\n",
    "print(pats.head())"
   ]
  },
  {
   "cell_type": "code",
   "execution_count": null,
   "metadata": {},
   "outputs": [],
   "source": []
  }
 ]
}