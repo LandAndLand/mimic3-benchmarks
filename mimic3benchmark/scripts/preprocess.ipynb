{
 "metadata": {
  "language_info": {
   "codemirror_mode": {
    "name": "ipython",
    "version": 3
   },
   "file_extension": ".py",
   "mimetype": "text/x-python",
   "name": "python",
   "nbconvert_exporter": "python",
   "pygments_lexer": "ipython3",
   "version": "3.8.6-final"
  },
  "orig_nbformat": 2,
  "kernelspec": {
   "name": "python3",
   "display_name": "Python 3.8.6 64-bit ('normal')",
   "metadata": {
    "interpreter": {
     "hash": "f00aa4d08b5dbe9a4f4240f8270de016ce9f4f5bdff9dc19e01b094329a335d5"
    }
   }
  }
 },
 "nbformat": 4,
 "nbformat_minor": 2,
 "cells": [
  {
   "cell_type": "code",
   "execution_count": 2,
   "metadata": {},
   "outputs": [],
   "source": [
    "import os\n",
    "import pandas as pd\n",
    "import numpy as np\n",
    "import csv\n",
    "\n",
    "from tqdm import tqdm\n",
    "from pathlib import Path\n"
   ]
  },
  {
   "cell_type": "code",
   "execution_count": 1,
   "metadata": {},
   "outputs": [],
   "source": [
    "mimic3_path = 'MIMIC-III Clinical Database 1.4'\n",
    "output_path = 'data/root'"
   ]
  },
  {
   "cell_type": "code",
   "execution_count": 3,
   "metadata": {},
   "outputs": [],
   "source": [
    "event_tables=['CHARTEVENTS', 'LABEVENTS', 'OUTPUTEVENTS']\n",
    "items_table = 'D_ITEMS'\n",
    "l_items_table = 'D_LABITEMS'"
   ]
  },
  {
   "cell_type": "code",
   "execution_count": 4,
   "metadata": {},
   "outputs": [],
   "source": [
    "try:\n",
    "    os.makedirs(output_path)\n",
    "except:\n",
    "    pass"
   ]
  },
  {
   "source": [
    "## 处理患者的ICUSTAY、PATIENT、ADMISSION表，根据住院期间是否转换过ICU病房、年龄是否大于18等过滤一部分信息；\n",
    "## 计算患者在ICU期间以及住院期间是否死亡\n",
    "\n",
    "从数据库中取出来的数据，一般是object，先转成datetime格式\n",
    "\n",
    "dt.date: the date part of Timestamps without timezone information"
   ],
   "cell_type": "markdown",
   "metadata": {}
  },
  {
   "cell_type": "code",
   "execution_count": 17,
   "metadata": {},
   "outputs": [
    {
     "output_type": "stream",
     "name": "stdout",
     "text": [
      "SUBJECT_ID     int64\nGENDER        object\nDOB           object\nDOD           object\ndtype: object\n   SUBJECT_ID GENDER         DOB         DOD\n0         249      F  2075-03-13         NaT\n1         250      F  2164-12-27  2188-11-22\n2         251      M  2090-03-15         NaT\n3         252      M  2078-03-06         NaT\n4         253      F  2089-11-26         NaT\n"
     ]
    }
   ],
   "source": [
    "patients = pd.read_csv(os.path.join(mimic3_path, 'PATIENTS.csv'))\n",
    "# DOB is the date of birth of the given patient。 年龄大于89的这个数据会变化\n",
    "# DOD is the date of death for the given patient\n",
    "patients = patients[['SUBJECT_ID', 'GENDER', 'DOB', 'DOD']]\n",
    "print(patients.dtypes)\n",
    "patients.DOB = pd.to_datetime(patients.DOB).dt.date\n",
    "patients.DOD = pd.to_datetime(patients.DOD).dt.date\n",
    "print(patients.head())"
   ]
  },
  {
   "cell_type": "code",
   "execution_count": 5,
   "metadata": {},
   "outputs": [
    {
     "output_type": "stream",
     "name": "stdout",
     "text": [
      "   SUBJECT_ID  HADM_ID   ADMITTIME   DISCHTIME DEATHTIME ETHNICITY  \\\n0          22   165315  2196-04-09  2196-04-10       NaT     WHITE   \n1          23   152223  2153-09-03  2153-09-08       NaT     WHITE   \n2          23   124321  2157-10-18  2157-10-25       NaT     WHITE   \n3          24   161859  2139-06-06  2139-06-09       NaT     WHITE   \n4          25   129635  2160-11-02  2160-11-05       NaT     WHITE   \n\n                                           DIAGNOSIS  \n0                            BENZODIAZEPINE OVERDOSE  \n1  CORONARY ARTERY DISEASE\\CORONARY ARTERY BYPASS...  \n2                                         BRAIN MASS  \n3                     INTERIOR MYOCARDIAL INFARCTION  \n4                            ACUTE CORONARY SYNDROME  \n"
     ]
    }
   ],
   "source": [
    "admits = pd.read_csv(os.path.join(mimic3_path, 'ADMISSIONS.csv'))\n",
    "admits = admits[['SUBJECT_ID', 'HADM_ID', 'ADMITTIME', 'DISCHTIME', 'DEATHTIME', 'ETHNICITY', 'DIAGNOSIS']]\n",
    "#print(admits)\n",
    "admits.ADMITTIME = pd.to_datetime(admits.ADMITTIME).dt.date\n",
    "admits.DISCHTIME = pd.to_datetime(admits.DISCHTIME).dt.date\n",
    "admits.DEATHTIME = pd.to_datetime(admits.DEATHTIME).dt.date\n",
    "print(admits.head())"
   ]
  },
  {
   "cell_type": "code",
   "execution_count": 7,
   "metadata": {},
   "outputs": [
    {
     "output_type": "stream",
     "name": "stdout",
     "text": [
      "   ROW_ID  SUBJECT_ID  HADM_ID  ICUSTAY_ID DBSOURCE FIRST_CAREUNIT  \\\n0     365         268   110404      280836  carevue           MICU   \n1     366         269   106296      206613  carevue           MICU   \n2     367         270   188028      220345  carevue            CCU   \n3     368         271   173727      249196  carevue           MICU   \n4     369         272   164716      210407  carevue            CCU   \n\n  LAST_CAREUNIT  FIRST_WARDID  LAST_WARDID      INTIME     OUTTIME     LOS  \n0          MICU            52           52  2198-02-14  2198-02-18  3.2490  \n1          MICU            52           52  2170-11-05  2170-11-08  3.2788  \n2           CCU            57           57  2128-06-24  2128-06-27  2.8939  \n3          SICU            52           23  2120-08-07  2120-08-10  2.0600  \n4           CCU            57           57  2186-12-25  2186-12-27  1.6202  \n"
     ]
    }
   ],
   "source": [
    "stays = pd.read_csv(os.path.join(mimic3_path, 'ICUSTAYS.csv'))\n",
    "stays.INTIME = pd.to_datetime(stays.INTIME).dt.date\n",
    "stays.OUTTIME = pd.to_datetime(stays.OUTTIME).dt.date\n",
    "print(stays.head())"
   ]
  },
  {
   "source": [
    "### 统计最原始的数据个数"
   ],
   "cell_type": "markdown",
   "metadata": {}
  },
  {
   "cell_type": "code",
   "execution_count": 8,
   "metadata": {},
   "outputs": [
    {
     "output_type": "stream",
     "name": "stdout",
     "text": [
      "START:\n\tICUSTAY_IDs: 61532\n\tHADM_IDs: 57786\n\tSUBJECT_IDs: 46476\n"
     ]
    }
   ],
   "source": [
    "print('START:\\n\\tICUSTAY_IDs: {}\\n\\tHADM_IDs: {}\\n\\tSUBJECT_IDs: {}'.format(stays.ICUSTAY_ID.unique().shape[0],\n",
    "          stays.HADM_ID.unique().shape[0], stays.SUBJECT_ID.unique().shape[0]))\n"
   ]
  },
  {
   "source": [
    "### remove icustays  with  transfers\n",
    "去掉在ICU内发生过病房转移（从一个ICU病房转移到另一个ICU病房 或 ICU护理类型发生过变化的患者\n",
    "\n",
    "这里的代码逻辑是只有没有发生过病房转移且ICU护理类型没有发生过变化的患者才可以保留下来"
   ],
   "cell_type": "markdown",
   "metadata": {}
  },
  {
   "cell_type": "code",
   "execution_count": 100,
   "metadata": {},
   "outputs": [
    {
     "output_type": "execute_result",
     "data": {
      "text/plain": [
       "' print(mask1)\\nprint(mask2)\\nprint(mask1 & mask2) '"
      ]
     },
     "metadata": {},
     "execution_count": 100
    }
   ],
   "source": [
    "mask1 = stays.FIRST_WARDID == stays.LAST_WARDID\n",
    "mask2 = stays.FIRST_CAREUNIT == stays.LAST_CAREUNIT\n",
    "\"\"\" print(mask1)\n",
    "print(mask2)\n",
    "print(mask1 & mask2) \"\"\""
   ]
  },
  {
   "cell_type": "code",
   "execution_count": 51,
   "metadata": {},
   "outputs": [
    {
     "output_type": "stream",
     "name": "stdout",
     "text": [
      "0     True\n1    False\n2    False\ndtype: bool\n0    1\ndtype: int64\n0    1\n2    3\ndtype: int64\n"
     ]
    }
   ],
   "source": [
    "s = pd.Series([1, 2, 3])\n",
    "s1 = pd.Series([True, False, False])\n",
    "s2 = pd.Series([True, False, True])\n",
    "print(s1 & s2)\n",
    "print(s[s1 & s2])\n",
    "print(s[s1 | s2])"
   ]
  },
  {
   "cell_type": "code",
   "execution_count": 12,
   "metadata": {},
   "outputs": [],
   "source": [
    "stay_no_transfer = stays[(stays.FIRST_WARDID == stays.LAST_WARDID) & (stays.FIRST_CAREUNIT == stays.LAST_CAREUNIT)]\n",
    "icustays = stay_no_transfer[['SUBJECT_ID', 'HADM_ID', 'ICUSTAY_ID', 'LAST_CAREUNIT', 'DBSOURCE', 'INTIME', 'OUTTIME', 'LOS']]\n"
   ]
  },
  {
   "cell_type": "code",
   "execution_count": 13,
   "metadata": {},
   "outputs": [
    {
     "output_type": "stream",
     "name": "stdout",
     "text": [
      "REMOVE ICU TRANSFERS:\n\tICUSTAY_IDs: 55830\n\tHADM_IDs: 52834\n\tSUBJECT_IDs: 43277\n"
     ]
    }
   ],
   "source": [
    "print('REMOVE ICU TRANSFERS:\\n\\tICUSTAY_IDs: {}\\n\\tHADM_IDs: {}\\n\\tSUBJECT_IDs: {}'.format(icustays.ICUSTAY_ID.unique().shape[0], icustays.HADM_ID.unique().shape[0], icustays.SUBJECT_ID.unique().shape[0]))"
   ]
  },
  {
   "source": [
    "### 合并表的操作\n",
    "\n",
    "1 合并stays和admits\n",
    "\n",
    "保留有入住icu记录的住院患者信息\n",
    "\n",
    "2 合并stays和patients\n"
   ],
   "cell_type": "markdown",
   "metadata": {}
  },
  {
   "cell_type": "code",
   "execution_count": 14,
   "metadata": {},
   "outputs": [
    {
     "output_type": "stream",
     "name": "stdout",
     "text": [
      "Index(['SUBJECT_ID', 'HADM_ID', 'ICUSTAY_ID', 'LAST_CAREUNIT', 'DBSOURCE',\n       'INTIME', 'OUTTIME', 'LOS', 'ADMITTIME', 'DISCHTIME', 'DEATHTIME',\n       'ETHNICITY', 'DIAGNOSIS'],\n      dtype='object')\n   SUBJECT_ID  HADM_ID  ICUSTAY_ID LAST_CAREUNIT DBSOURCE      INTIME  \\\n0         268   110404      280836          MICU  carevue  2198-02-14   \n1         269   106296      206613          MICU  carevue  2170-11-05   \n2         270   188028      220345           CCU  carevue  2128-06-24   \n3         272   164716      210407           CCU  carevue  2186-12-25   \n4         273   158689      241507          MICU  carevue  2141-04-19   \n\n      OUTTIME     LOS   ADMITTIME   DISCHTIME   DEATHTIME  \\\n0  2198-02-18  3.2490  2198-02-11  2198-02-18  2198-02-18   \n1  2170-11-08  3.2788  2170-11-05  2170-11-27         NaT   \n2  2128-06-27  2.8939  2128-06-23  2128-06-27         NaT   \n3  2186-12-27  1.6202  2186-12-25  2187-01-02         NaT   \n4  2141-04-20  1.4862  2141-04-19  2141-04-20         NaT   \n\n                ETHNICITY                                     DIAGNOSIS  \n0      HISPANIC OR LATINO                                       DYSPNEA  \n1                   WHITE                      SEPSIS;PILONIDAL ABSCESS  \n2   UNKNOWN/NOT SPECIFIED  CAROTID STENOSIS\\CAROTID ANGIOGRAM AND STENT  \n3                   WHITE                             PULMONARY EMBOLIS  \n4  BLACK/AFRICAN AMERICAN                        POLYSUBSTANCE OVERDOSE  \n"
     ]
    }
   ],
   "source": [
    "icustays = icustays.merge(admits, how='inner', left_on=['SUBJECT_ID', 'HADM_ID'], right_on=['SUBJECT_ID', 'HADM_ID'])\n",
    "print(icustays.columns)\n",
    "print(icustays.head())\n"
   ]
  },
  {
   "cell_type": "code",
   "execution_count": 18,
   "metadata": {},
   "outputs": [
    {
     "output_type": "stream",
     "name": "stdout",
     "text": [
      "Index(['SUBJECT_ID', 'HADM_ID', 'ICUSTAY_ID', 'LAST_CAREUNIT', 'DBSOURCE',\n       'INTIME', 'OUTTIME', 'LOS', 'ADMITTIME', 'DISCHTIME', 'DEATHTIME',\n       'ETHNICITY', 'DIAGNOSIS', 'GENDER', 'DOB', 'DOD'],\n      dtype='object')\n   SUBJECT_ID  HADM_ID  ICUSTAY_ID LAST_CAREUNIT DBSOURCE      INTIME  \\\n0         268   110404      280836          MICU  carevue  2198-02-14   \n1         269   106296      206613          MICU  carevue  2170-11-05   \n2         270   188028      220345           CCU  carevue  2128-06-24   \n3         272   164716      210407           CCU  carevue  2186-12-25   \n4         273   158689      241507          MICU  carevue  2141-04-19   \n\n      OUTTIME     LOS   ADMITTIME   DISCHTIME   DEATHTIME  \\\n0  2198-02-18  3.2490  2198-02-11  2198-02-18  2198-02-18   \n1  2170-11-08  3.2788  2170-11-05  2170-11-27         NaT   \n2  2128-06-27  2.8939  2128-06-23  2128-06-27         NaT   \n3  2186-12-27  1.6202  2186-12-25  2187-01-02         NaT   \n4  2141-04-20  1.4862  2141-04-19  2141-04-20         NaT   \n\n                ETHNICITY                                     DIAGNOSIS  \\\n0      HISPANIC OR LATINO                                       DYSPNEA   \n1                   WHITE                      SEPSIS;PILONIDAL ABSCESS   \n2   UNKNOWN/NOT SPECIFIED  CAROTID STENOSIS\\CAROTID ANGIOGRAM AND STENT   \n3                   WHITE                             PULMONARY EMBOLIS   \n4  BLACK/AFRICAN AMERICAN                        POLYSUBSTANCE OVERDOSE   \n\n  GENDER         DOB         DOD  \n0      F  2132-02-21  2198-02-18  \n1      M  2130-09-30         NaT  \n2      M  2048-05-26         NaT  \n3      M  2119-11-21         NaT  \n4      M  2107-08-10         NaT  \n"
     ]
    }
   ],
   "source": [
    "icustays = icustays.merge(patients, how='inner', left_on=['SUBJECT_ID'], right_on=['SUBJECT_ID'])\n",
    "print(icustays.columns)\n",
    "print(icustays.head())"
   ]
  },
  {
   "source": [
    "### 使用HADM进行分组(hadm相同的计为一组)\n",
    "REMOVE MULTIPLE STAYS PER ADMIT:\\n\\tICUSTAY_IDs\n",
    "\n",
    "也是为了移除住过不同ICU病房的病例"
   ],
   "cell_type": "markdown",
   "metadata": {}
  },
  {
   "cell_type": "code",
   "execution_count": 20,
   "metadata": {},
   "outputs": [],
   "source": [
    "# groupby('HADM_ID').count()是把hadm_id当做index，计算其余各列在该index下有多少个取值\n",
    "to_keep = icustays.groupby('HADM_ID').count()\n",
    "to_keep = to_keep[['ICUSTAY_ID']]\n",
    "# 释放index，即把hadm_id重新放到列位置\n",
    "to_keep = to_keep.reset_index()\n",
    "mask_min = to_keep.ICUSTAY_ID >= 1\n",
    "mask_max = to_keep.ICUSTAY_ID <= 1\n",
    "# to_keep保存的是住院期间只去过一种类型的ICU\n",
    "to_keep = to_keep[mask_min & mask_max][['HADM_ID']]"
   ]
  },
  {
   "cell_type": "code",
   "execution_count": 21,
   "metadata": {},
   "outputs": [],
   "source": [
    "icustays = icustays.merge(to_keep, how='inner', on=['HADM_ID'])"
   ]
  },
  {
   "cell_type": "code",
   "execution_count": 22,
   "metadata": {},
   "outputs": [
    {
     "output_type": "stream",
     "name": "stdout",
     "text": [
      "REMOVE MULTIPLE STAYS PER ADMIT:\n\tICUSTAY_IDs: 50186\n\tHADM_IDs: 50186\n\tSUBJECT_IDs: 41587\n"
     ]
    }
   ],
   "source": [
    "print('REMOVE MULTIPLE STAYS PER ADMIT:\\n\\tICUSTAY_IDs: {}\\n\\tHADM_IDs: {}\\n\\tSUBJECT_IDs: {}'.format(icustays.ICUSTAY_ID.unique().shape[0], icustays.HADM_ID.unique().shape[0], icustays.SUBJECT_ID.unique().shape[0]))"
   ]
  },
  {
   "cell_type": "code",
   "execution_count": 23,
   "metadata": {},
   "outputs": [
    {
     "output_type": "execute_result",
     "data": {
      "text/plain": [
       "       SUBJECT_ID  HADM_ID  ICUSTAY_ID LAST_CAREUNIT    DBSOURCE      INTIME  \\\n",
       "0             268   110404      280836          MICU     carevue  2198-02-14   \n",
       "1             269   106296      206613          MICU     carevue  2170-11-05   \n",
       "2             270   188028      220345           CCU     carevue  2128-06-24   \n",
       "3             272   164716      210407           CCU     carevue  2186-12-25   \n",
       "4             273   158689      241507          MICU     carevue  2141-04-19   \n",
       "...           ...      ...         ...           ...         ...         ...   \n",
       "50181       94944   143774      201233          CSRU  metavision  2104-04-15   \n",
       "50182       94950   123750      283653           CCU  metavision  2155-12-08   \n",
       "50183       94953   196881      241585          SICU  metavision  2160-03-03   \n",
       "50184       94954   118475      202802          CSRU  metavision  2183-03-25   \n",
       "50185       94956   156386      275346         TSICU  metavision  2157-05-19   \n",
       "\n",
       "          OUTTIME     LOS   ADMITTIME   DISCHTIME   DEATHTIME  \\\n",
       "0      2198-02-18  3.2490  2198-02-11  2198-02-18  2198-02-18   \n",
       "1      2170-11-08  3.2788  2170-11-05  2170-11-27         NaT   \n",
       "2      2128-06-27  2.8939  2128-06-23  2128-06-27         NaT   \n",
       "3      2186-12-27  1.6202  2186-12-25  2187-01-02         NaT   \n",
       "4      2141-04-20  1.4862  2141-04-19  2141-04-20         NaT   \n",
       "...           ...     ...         ...         ...         ...   \n",
       "50181  2104-04-17  2.1894  2104-04-11  2104-04-20         NaT   \n",
       "50182  2155-12-10  2.4942  2155-12-07  2155-12-12         NaT   \n",
       "50183  2160-03-04  0.9259  2160-03-03  2160-03-04         NaT   \n",
       "50184  2183-03-27  2.3346  2183-03-25  2183-04-01         NaT   \n",
       "50185  2157-05-23  4.5022  2157-05-19  2157-05-25         NaT   \n",
       "\n",
       "                        ETHNICITY  \\\n",
       "0              HISPANIC OR LATINO   \n",
       "1                           WHITE   \n",
       "2           UNKNOWN/NOT SPECIFIED   \n",
       "3                           WHITE   \n",
       "4          BLACK/AFRICAN AMERICAN   \n",
       "...                           ...   \n",
       "50181                       WHITE   \n",
       "50182                       WHITE   \n",
       "50183                       WHITE   \n",
       "50184  PATIENT DECLINED TO ANSWER   \n",
       "50185                       WHITE   \n",
       "\n",
       "                                               DIAGNOSIS GENDER         DOB  \\\n",
       "0                                                DYSPNEA      F  2132-02-21   \n",
       "1                               SEPSIS;PILONIDAL ABSCESS      M  2130-09-30   \n",
       "2           CAROTID STENOSIS\\CAROTID ANGIOGRAM AND STENT      M  2048-05-26   \n",
       "3                                      PULMONARY EMBOLIS      M  2119-11-21   \n",
       "4                                 POLYSUBSTANCE OVERDOSE      M  2107-08-10   \n",
       "...                                                  ...    ...         ...   \n",
       "50181  CHEST PAIN;RULE OUT CORONARY ARTERY DISEASE\\LE...      M  2027-03-02   \n",
       "50182                                  SYNCOPE;TELEMETRY      F  1855-12-07   \n",
       "50183                              CEREBRAL ANEURYSM/SDA      F  2107-01-29   \n",
       "50184      AORTIC STENOSIS\\AORTIC VALVE REPLACEMENT /SDA      F  2115-05-23   \n",
       "50185                         S/P MOTOR VEHICLE ACCIDENT      M  2123-03-01   \n",
       "\n",
       "              DOD  \n",
       "0      2198-02-18  \n",
       "1             NaT  \n",
       "2             NaT  \n",
       "3             NaT  \n",
       "4             NaT  \n",
       "...           ...  \n",
       "50181         NaT  \n",
       "50182         NaT  \n",
       "50183  2162-01-05  \n",
       "50184         NaT  \n",
       "50185         NaT  \n",
       "\n",
       "[50186 rows x 16 columns]"
      ],
      "text/html": "<div>\n<style scoped>\n    .dataframe tbody tr th:only-of-type {\n        vertical-align: middle;\n    }\n\n    .dataframe tbody tr th {\n        vertical-align: top;\n    }\n\n    .dataframe thead th {\n        text-align: right;\n    }\n</style>\n<table border=\"1\" class=\"dataframe\">\n  <thead>\n    <tr style=\"text-align: right;\">\n      <th></th>\n      <th>SUBJECT_ID</th>\n      <th>HADM_ID</th>\n      <th>ICUSTAY_ID</th>\n      <th>LAST_CAREUNIT</th>\n      <th>DBSOURCE</th>\n      <th>INTIME</th>\n      <th>OUTTIME</th>\n      <th>LOS</th>\n      <th>ADMITTIME</th>\n      <th>DISCHTIME</th>\n      <th>DEATHTIME</th>\n      <th>ETHNICITY</th>\n      <th>DIAGNOSIS</th>\n      <th>GENDER</th>\n      <th>DOB</th>\n      <th>DOD</th>\n    </tr>\n  </thead>\n  <tbody>\n    <tr>\n      <th>0</th>\n      <td>268</td>\n      <td>110404</td>\n      <td>280836</td>\n      <td>MICU</td>\n      <td>carevue</td>\n      <td>2198-02-14</td>\n      <td>2198-02-18</td>\n      <td>3.2490</td>\n      <td>2198-02-11</td>\n      <td>2198-02-18</td>\n      <td>2198-02-18</td>\n      <td>HISPANIC OR LATINO</td>\n      <td>DYSPNEA</td>\n      <td>F</td>\n      <td>2132-02-21</td>\n      <td>2198-02-18</td>\n    </tr>\n    <tr>\n      <th>1</th>\n      <td>269</td>\n      <td>106296</td>\n      <td>206613</td>\n      <td>MICU</td>\n      <td>carevue</td>\n      <td>2170-11-05</td>\n      <td>2170-11-08</td>\n      <td>3.2788</td>\n      <td>2170-11-05</td>\n      <td>2170-11-27</td>\n      <td>NaT</td>\n      <td>WHITE</td>\n      <td>SEPSIS;PILONIDAL ABSCESS</td>\n      <td>M</td>\n      <td>2130-09-30</td>\n      <td>NaT</td>\n    </tr>\n    <tr>\n      <th>2</th>\n      <td>270</td>\n      <td>188028</td>\n      <td>220345</td>\n      <td>CCU</td>\n      <td>carevue</td>\n      <td>2128-06-24</td>\n      <td>2128-06-27</td>\n      <td>2.8939</td>\n      <td>2128-06-23</td>\n      <td>2128-06-27</td>\n      <td>NaT</td>\n      <td>UNKNOWN/NOT SPECIFIED</td>\n      <td>CAROTID STENOSIS\\CAROTID ANGIOGRAM AND STENT</td>\n      <td>M</td>\n      <td>2048-05-26</td>\n      <td>NaT</td>\n    </tr>\n    <tr>\n      <th>3</th>\n      <td>272</td>\n      <td>164716</td>\n      <td>210407</td>\n      <td>CCU</td>\n      <td>carevue</td>\n      <td>2186-12-25</td>\n      <td>2186-12-27</td>\n      <td>1.6202</td>\n      <td>2186-12-25</td>\n      <td>2187-01-02</td>\n      <td>NaT</td>\n      <td>WHITE</td>\n      <td>PULMONARY EMBOLIS</td>\n      <td>M</td>\n      <td>2119-11-21</td>\n      <td>NaT</td>\n    </tr>\n    <tr>\n      <th>4</th>\n      <td>273</td>\n      <td>158689</td>\n      <td>241507</td>\n      <td>MICU</td>\n      <td>carevue</td>\n      <td>2141-04-19</td>\n      <td>2141-04-20</td>\n      <td>1.4862</td>\n      <td>2141-04-19</td>\n      <td>2141-04-20</td>\n      <td>NaT</td>\n      <td>BLACK/AFRICAN AMERICAN</td>\n      <td>POLYSUBSTANCE OVERDOSE</td>\n      <td>M</td>\n      <td>2107-08-10</td>\n      <td>NaT</td>\n    </tr>\n    <tr>\n      <th>...</th>\n      <td>...</td>\n      <td>...</td>\n      <td>...</td>\n      <td>...</td>\n      <td>...</td>\n      <td>...</td>\n      <td>...</td>\n      <td>...</td>\n      <td>...</td>\n      <td>...</td>\n      <td>...</td>\n      <td>...</td>\n      <td>...</td>\n      <td>...</td>\n      <td>...</td>\n      <td>...</td>\n    </tr>\n    <tr>\n      <th>50181</th>\n      <td>94944</td>\n      <td>143774</td>\n      <td>201233</td>\n      <td>CSRU</td>\n      <td>metavision</td>\n      <td>2104-04-15</td>\n      <td>2104-04-17</td>\n      <td>2.1894</td>\n      <td>2104-04-11</td>\n      <td>2104-04-20</td>\n      <td>NaT</td>\n      <td>WHITE</td>\n      <td>CHEST PAIN;RULE OUT CORONARY ARTERY DISEASE\\LE...</td>\n      <td>M</td>\n      <td>2027-03-02</td>\n      <td>NaT</td>\n    </tr>\n    <tr>\n      <th>50182</th>\n      <td>94950</td>\n      <td>123750</td>\n      <td>283653</td>\n      <td>CCU</td>\n      <td>metavision</td>\n      <td>2155-12-08</td>\n      <td>2155-12-10</td>\n      <td>2.4942</td>\n      <td>2155-12-07</td>\n      <td>2155-12-12</td>\n      <td>NaT</td>\n      <td>WHITE</td>\n      <td>SYNCOPE;TELEMETRY</td>\n      <td>F</td>\n      <td>1855-12-07</td>\n      <td>NaT</td>\n    </tr>\n    <tr>\n      <th>50183</th>\n      <td>94953</td>\n      <td>196881</td>\n      <td>241585</td>\n      <td>SICU</td>\n      <td>metavision</td>\n      <td>2160-03-03</td>\n      <td>2160-03-04</td>\n      <td>0.9259</td>\n      <td>2160-03-03</td>\n      <td>2160-03-04</td>\n      <td>NaT</td>\n      <td>WHITE</td>\n      <td>CEREBRAL ANEURYSM/SDA</td>\n      <td>F</td>\n      <td>2107-01-29</td>\n      <td>2162-01-05</td>\n    </tr>\n    <tr>\n      <th>50184</th>\n      <td>94954</td>\n      <td>118475</td>\n      <td>202802</td>\n      <td>CSRU</td>\n      <td>metavision</td>\n      <td>2183-03-25</td>\n      <td>2183-03-27</td>\n      <td>2.3346</td>\n      <td>2183-03-25</td>\n      <td>2183-04-01</td>\n      <td>NaT</td>\n      <td>PATIENT DECLINED TO ANSWER</td>\n      <td>AORTIC STENOSIS\\AORTIC VALVE REPLACEMENT /SDA</td>\n      <td>F</td>\n      <td>2115-05-23</td>\n      <td>NaT</td>\n    </tr>\n    <tr>\n      <th>50185</th>\n      <td>94956</td>\n      <td>156386</td>\n      <td>275346</td>\n      <td>TSICU</td>\n      <td>metavision</td>\n      <td>2157-05-19</td>\n      <td>2157-05-23</td>\n      <td>4.5022</td>\n      <td>2157-05-19</td>\n      <td>2157-05-25</td>\n      <td>NaT</td>\n      <td>WHITE</td>\n      <td>S/P MOTOR VEHICLE ACCIDENT</td>\n      <td>M</td>\n      <td>2123-03-01</td>\n      <td>NaT</td>\n    </tr>\n  </tbody>\n</table>\n<p>50186 rows × 16 columns</p>\n</div>"
     },
     "metadata": {},
     "execution_count": 23
    }
   ],
   "source": [
    "icustays"
   ]
  },
  {
   "cell_type": "code",
   "execution_count": 24,
   "metadata": {},
   "outputs": [
    {
     "output_type": "execute_result",
     "data": {
      "text/plain": [
       "0         66.027397\n",
       "1         40.126027\n",
       "2         80.131507\n",
       "3         67.139726\n",
       "4         33.715068\n",
       "            ...    \n",
       "50181     77.172603\n",
       "50182    300.202740\n",
       "50183     53.128767\n",
       "50184     67.884932\n",
       "50185     34.241096\n",
       "Length: 50186, dtype: float64"
      ]
     },
     "metadata": {},
     "execution_count": 24
    }
   ],
   "source": [
    "icustays.apply(lambda e: (e['INTIME'] - e['DOB']).days/365, axis=1)"
   ]
  },
  {
   "source": [
    "### 计算病人入住ICU时的年龄"
   ],
   "cell_type": "markdown",
   "metadata": {}
  },
  {
   "cell_type": "code",
   "execution_count": 25,
   "metadata": {},
   "outputs": [],
   "source": [
    "icustays['age'] = icustays.apply(lambda e: (e['INTIME'] - e['DOB']).days/365, axis=1)"
   ]
  },
  {
   "source": [
    "#### 筛选出年龄大于等于18岁的病人"
   ],
   "cell_type": "markdown",
   "metadata": {}
  },
  {
   "cell_type": "code",
   "execution_count": 26,
   "metadata": {},
   "outputs": [],
   "source": [
    "import numpy as np\n",
    "icustays = icustays[(icustays.age >= 18) & (icustays.age <= np.inf)]"
   ]
  },
  {
   "cell_type": "code",
   "execution_count": 27,
   "metadata": {},
   "outputs": [
    {
     "output_type": "stream",
     "name": "stdout",
     "text": [
      "REMOVE PATIENTS AGE < 18:\n\tICUSTAY_IDs: 42276\n\tHADM_IDs: 42276\n\tSUBJECT_IDs: 33798\n"
     ]
    }
   ],
   "source": [
    "print('REMOVE PATIENTS AGE < 18:\\n\\tICUSTAY_IDs: {}\\n\\tHADM_IDs: {}\\n\\tSUBJECT_IDs: {}'.format(icustays.ICUSTAY_ID.unique().shape[0], icustays.HADM_ID.unique().shape[0], icustays.SUBJECT_ID.unique().shape[0]))\n"
   ]
  },
  {
   "source": [
    "## 添加在住院期间和在ICU期间内死亡的标志"
   ],
   "cell_type": "markdown",
   "metadata": {}
  },
  {
   "cell_type": "code",
   "execution_count": 28,
   "metadata": {},
   "outputs": [],
   "source": [
    "def add_inhospital_mortality_to_icustays(stays):\n",
    "    \"\"\"   DOD是从patient表得到的患者死亡日期； DEATHTIME是从admission表得到的患者死亡日期；\n",
    "        ADMITTIME和DISCHTIME分别为入院和出院时间；\n",
    "        如果患者的任何一个死亡日期在入院期间内，视为患者在住院期间死亡\n",
    "    \"\"\"\n",
    "    mortality_DOD = stays.DOD.notnull() & ((stays.ADMITTIME <= stays.DOD) & (stays.DISCHTIME >= stays.DOD))\n",
    "    mortality_DEA = stays.DEATHTIME.notnull() & ((stays.ADMITTIME <= stays.DEATHTIME) & (stays.DISCHTIME >= stays.DEATHTIME))\n",
    "    mortality_mask = mortality_DOD | mortality_DEA\n",
    "    # 得到患者在住院期间是否死亡的标志\n",
    "    stays['MORTALITY'] = mortality_mask.astype(int)\n",
    "    stays['MORTALITY_INHOSPITAL'] = stays['MORTALITY']\n",
    "    return stays\n"
   ]
  },
  {
   "cell_type": "code",
   "execution_count": 29,
   "metadata": {},
   "outputs": [],
   "source": [
    "def add_inunit_mortality_to_icustays(stays):\n",
    "    mortality_DOD = stays.DOD.notnull() & ((stays.INTIME <= stays.DOD) & (stays.OUTTIME >= stays.DOD))\n",
    "    mortality_DEA = stays.DEATHTIME.notnull() & ((stays.INTIME <= stays.DEATHTIME) & (stays.OUTTIME >= stays.DEATHTIME))\n",
    "    mortality_mask = mortality_DOD | mortality_DEA\n",
    "    stays['MORTALITY_INUNIT'] = mortality_mask.astype(int)\n",
    "    return stays"
   ]
  },
  {
   "cell_type": "code",
   "execution_count": 30,
   "metadata": {},
   "outputs": [],
   "source": [
    "icustays = add_inhospital_mortality_to_icustays(icustays)\n",
    "icustays = add_inunit_mortality_to_icustays(icustays)"
   ]
  },
  {
   "source": [
    "### 把处理好的icustay、patient、admission表存入文件"
   ],
   "cell_type": "markdown",
   "metadata": {}
  },
  {
   "cell_type": "code",
   "execution_count": 175,
   "metadata": {},
   "outputs": [],
   "source": [
    "icustays.to_csv(os.path.join(output_path, 'all_stays.csv'), index=False)"
   ]
  },
  {
   "source": [
    "##  读取患者的ICD-9 diagnoses\n",
    "D_ICD_DIAGNOSES.csv: Definition table for ICD diagnoses(诊断简介)\n",
    "\n",
    "DIAGNOSES_ICD.csv: Contains ICD diagnoses for patients, most notably ICD-9 diagnoses.(包含患者诊断信息)"
   ],
   "cell_type": "markdown",
   "metadata": {}
  },
  {
   "cell_type": "code",
   "execution_count": 31,
   "metadata": {},
   "outputs": [
    {
     "output_type": "stream",
     "name": "stdout",
     "text": [
      "       ROW_ID ICD9_CODE               SHORT_TITLE  \\\n0         174     01166     TB pneumonia-oth test   \n1         175     01170    TB pneumothorax-unspec   \n2         176     01171   TB pneumothorax-no exam   \n3         177     01172  TB pneumothorx-exam unkn   \n4         178     01173  TB pneumothorax-micro dx   \n...       ...       ...                       ...   \n14562   14432     V7399     Scrn unspcf viral dis   \n14563   14433      V740     Screening for cholera   \n14564   14434      V741    Screening-pulmonary TB   \n14565   14435      V742     Screening for leprosy   \n14566   14436      V743  Screening for diphtheria   \n\n                                              LONG_TITLE  \n0      Tuberculous pneumonia [any form], tubercle bac...  \n1                  Tuberculous pneumothorax, unspecified  \n2      Tuberculous pneumothorax, bacteriological or h...  \n3      Tuberculous pneumothorax, bacteriological or h...  \n4      Tuberculous pneumothorax, tubercle bacilli fou...  \n...                                                  ...  \n14562  Special screening examination for unspecified ...  \n14563                  Screening examination for cholera  \n14564   Screening examination for pulmonary tuberculosis  \n14565  Screening examination for leprosy (Hansen's di...  \n14566               Screening examination for diphtheria  \n\n[14567 rows x 4 columns]\n"
     ]
    }
   ],
   "source": [
    "\n",
    "codes = pd.read_csv(os.path.join(mimic3_path, 'D_ICD_DIAGNOSES.csv'))\n",
    "print(codes)\n"
   ]
  },
  {
   "cell_type": "code",
   "execution_count": 32,
   "metadata": {},
   "outputs": [
    {
     "output_type": "execute_result",
     "data": {
      "text/plain": [
       "        ROW_ID  SUBJECT_ID  HADM_ID  SEQ_NUM ICD9_CODE\n",
       "0         1297         109   172335      1.0     40301\n",
       "1         1298         109   172335      2.0       486\n",
       "2         1299         109   172335      3.0     58281\n",
       "3         1300         109   172335      4.0      5855\n",
       "4         1301         109   172335      5.0      4254\n",
       "...        ...         ...      ...      ...       ...\n",
       "651042  639798       97503   188195      2.0     20280\n",
       "651043  639799       97503   188195      3.0     V5869\n",
       "651044  639800       97503   188195      4.0     V1279\n",
       "651045  639801       97503   188195      5.0      5275\n",
       "651046  639802       97503   188195      6.0      5569\n",
       "\n",
       "[651047 rows x 5 columns]"
      ],
      "text/html": "<div>\n<style scoped>\n    .dataframe tbody tr th:only-of-type {\n        vertical-align: middle;\n    }\n\n    .dataframe tbody tr th {\n        vertical-align: top;\n    }\n\n    .dataframe thead th {\n        text-align: right;\n    }\n</style>\n<table border=\"1\" class=\"dataframe\">\n  <thead>\n    <tr style=\"text-align: right;\">\n      <th></th>\n      <th>ROW_ID</th>\n      <th>SUBJECT_ID</th>\n      <th>HADM_ID</th>\n      <th>SEQ_NUM</th>\n      <th>ICD9_CODE</th>\n    </tr>\n  </thead>\n  <tbody>\n    <tr>\n      <th>0</th>\n      <td>1297</td>\n      <td>109</td>\n      <td>172335</td>\n      <td>1.0</td>\n      <td>40301</td>\n    </tr>\n    <tr>\n      <th>1</th>\n      <td>1298</td>\n      <td>109</td>\n      <td>172335</td>\n      <td>2.0</td>\n      <td>486</td>\n    </tr>\n    <tr>\n      <th>2</th>\n      <td>1299</td>\n      <td>109</td>\n      <td>172335</td>\n      <td>3.0</td>\n      <td>58281</td>\n    </tr>\n    <tr>\n      <th>3</th>\n      <td>1300</td>\n      <td>109</td>\n      <td>172335</td>\n      <td>4.0</td>\n      <td>5855</td>\n    </tr>\n    <tr>\n      <th>4</th>\n      <td>1301</td>\n      <td>109</td>\n      <td>172335</td>\n      <td>5.0</td>\n      <td>4254</td>\n    </tr>\n    <tr>\n      <th>...</th>\n      <td>...</td>\n      <td>...</td>\n      <td>...</td>\n      <td>...</td>\n      <td>...</td>\n    </tr>\n    <tr>\n      <th>651042</th>\n      <td>639798</td>\n      <td>97503</td>\n      <td>188195</td>\n      <td>2.0</td>\n      <td>20280</td>\n    </tr>\n    <tr>\n      <th>651043</th>\n      <td>639799</td>\n      <td>97503</td>\n      <td>188195</td>\n      <td>3.0</td>\n      <td>V5869</td>\n    </tr>\n    <tr>\n      <th>651044</th>\n      <td>639800</td>\n      <td>97503</td>\n      <td>188195</td>\n      <td>4.0</td>\n      <td>V1279</td>\n    </tr>\n    <tr>\n      <th>651045</th>\n      <td>639801</td>\n      <td>97503</td>\n      <td>188195</td>\n      <td>5.0</td>\n      <td>5275</td>\n    </tr>\n    <tr>\n      <th>651046</th>\n      <td>639802</td>\n      <td>97503</td>\n      <td>188195</td>\n      <td>6.0</td>\n      <td>5569</td>\n    </tr>\n  </tbody>\n</table>\n<p>651047 rows × 5 columns</p>\n</div>"
     },
     "metadata": {},
     "execution_count": 32
    }
   ],
   "source": [
    "diagnoses = pd.read_csv(os.path.join(mimic3_path, 'DIAGNOSES_ICD.csv'))\n",
    "diagnoses"
   ]
  },
  {
   "cell_type": "code",
   "execution_count": 33,
   "metadata": {},
   "outputs": [],
   "source": [
    "diagnoses = diagnoses.merge(codes[['ICD9_CODE', 'SHORT_TITLE', 'LONG_TITLE']], how='inner', left_on='ICD9_CODE', right_on='ICD9_CODE')"
   ]
  },
  {
   "cell_type": "code",
   "execution_count": 34,
   "metadata": {},
   "outputs": [
    {
     "output_type": "execute_result",
     "data": {
      "text/plain": [
       "        ROW_ID  SUBJECT_ID  HADM_ID  SEQ_NUM ICD9_CODE  \\\n",
       "0         1297         109   172335      1.0     40301   \n",
       "1         1311         109   173633      1.0     40301   \n",
       "2         1019         109   131345      1.0     40301   \n",
       "3         1039         109   131376      1.0     40301   \n",
       "4         1059         109   135923      1.0     40301   \n",
       "...        ...         ...      ...      ...       ...   \n",
       "634704  650539       99873   143544     12.0      2982   \n",
       "634705  640080       97547   112445     32.0     E9399   \n",
       "634706  639100       97339   198692      3.0     E0070   \n",
       "634707  631728       95806   167169     15.0      6940   \n",
       "634708  632673       96023   116385      5.0     20930   \n",
       "\n",
       "                     SHORT_TITLE  \\\n",
       "0         Mal hyp kid w cr kid V   \n",
       "1         Mal hyp kid w cr kid V   \n",
       "2         Mal hyp kid w cr kid V   \n",
       "3         Mal hyp kid w cr kid V   \n",
       "4         Mal hyp kid w cr kid V   \n",
       "...                          ...   \n",
       "634704        Reactive confusion   \n",
       "634705  Adv eff psychotropic NOS   \n",
       "634706           Tackle football   \n",
       "634707  Dermatitis herpetiformis   \n",
       "634708    Malig neuroendo ca NOS   \n",
       "\n",
       "                                               LONG_TITLE  \n",
       "0       Hypertensive chronic kidney disease, malignant...  \n",
       "1       Hypertensive chronic kidney disease, malignant...  \n",
       "2       Hypertensive chronic kidney disease, malignant...  \n",
       "3       Hypertensive chronic kidney disease, malignant...  \n",
       "4       Hypertensive chronic kidney disease, malignant...  \n",
       "...                                                   ...  \n",
       "634704                                 Reactive confusion  \n",
       "634705  Unspecified psychotropic agent causing adverse...  \n",
       "634706      Activities involving american tackle football  \n",
       "634707                           Dermatitis herpetiformis  \n",
       "634708  Malignant poorly differentiated neuroendocrine...  \n",
       "\n",
       "[634709 rows x 7 columns]"
      ],
      "text/html": "<div>\n<style scoped>\n    .dataframe tbody tr th:only-of-type {\n        vertical-align: middle;\n    }\n\n    .dataframe tbody tr th {\n        vertical-align: top;\n    }\n\n    .dataframe thead th {\n        text-align: right;\n    }\n</style>\n<table border=\"1\" class=\"dataframe\">\n  <thead>\n    <tr style=\"text-align: right;\">\n      <th></th>\n      <th>ROW_ID</th>\n      <th>SUBJECT_ID</th>\n      <th>HADM_ID</th>\n      <th>SEQ_NUM</th>\n      <th>ICD9_CODE</th>\n      <th>SHORT_TITLE</th>\n      <th>LONG_TITLE</th>\n    </tr>\n  </thead>\n  <tbody>\n    <tr>\n      <th>0</th>\n      <td>1297</td>\n      <td>109</td>\n      <td>172335</td>\n      <td>1.0</td>\n      <td>40301</td>\n      <td>Mal hyp kid w cr kid V</td>\n      <td>Hypertensive chronic kidney disease, malignant...</td>\n    </tr>\n    <tr>\n      <th>1</th>\n      <td>1311</td>\n      <td>109</td>\n      <td>173633</td>\n      <td>1.0</td>\n      <td>40301</td>\n      <td>Mal hyp kid w cr kid V</td>\n      <td>Hypertensive chronic kidney disease, malignant...</td>\n    </tr>\n    <tr>\n      <th>2</th>\n      <td>1019</td>\n      <td>109</td>\n      <td>131345</td>\n      <td>1.0</td>\n      <td>40301</td>\n      <td>Mal hyp kid w cr kid V</td>\n      <td>Hypertensive chronic kidney disease, malignant...</td>\n    </tr>\n    <tr>\n      <th>3</th>\n      <td>1039</td>\n      <td>109</td>\n      <td>131376</td>\n      <td>1.0</td>\n      <td>40301</td>\n      <td>Mal hyp kid w cr kid V</td>\n      <td>Hypertensive chronic kidney disease, malignant...</td>\n    </tr>\n    <tr>\n      <th>4</th>\n      <td>1059</td>\n      <td>109</td>\n      <td>135923</td>\n      <td>1.0</td>\n      <td>40301</td>\n      <td>Mal hyp kid w cr kid V</td>\n      <td>Hypertensive chronic kidney disease, malignant...</td>\n    </tr>\n    <tr>\n      <th>...</th>\n      <td>...</td>\n      <td>...</td>\n      <td>...</td>\n      <td>...</td>\n      <td>...</td>\n      <td>...</td>\n      <td>...</td>\n    </tr>\n    <tr>\n      <th>634704</th>\n      <td>650539</td>\n      <td>99873</td>\n      <td>143544</td>\n      <td>12.0</td>\n      <td>2982</td>\n      <td>Reactive confusion</td>\n      <td>Reactive confusion</td>\n    </tr>\n    <tr>\n      <th>634705</th>\n      <td>640080</td>\n      <td>97547</td>\n      <td>112445</td>\n      <td>32.0</td>\n      <td>E9399</td>\n      <td>Adv eff psychotropic NOS</td>\n      <td>Unspecified psychotropic agent causing adverse...</td>\n    </tr>\n    <tr>\n      <th>634706</th>\n      <td>639100</td>\n      <td>97339</td>\n      <td>198692</td>\n      <td>3.0</td>\n      <td>E0070</td>\n      <td>Tackle football</td>\n      <td>Activities involving american tackle football</td>\n    </tr>\n    <tr>\n      <th>634707</th>\n      <td>631728</td>\n      <td>95806</td>\n      <td>167169</td>\n      <td>15.0</td>\n      <td>6940</td>\n      <td>Dermatitis herpetiformis</td>\n      <td>Dermatitis herpetiformis</td>\n    </tr>\n    <tr>\n      <th>634708</th>\n      <td>632673</td>\n      <td>96023</td>\n      <td>116385</td>\n      <td>5.0</td>\n      <td>20930</td>\n      <td>Malig neuroendo ca NOS</td>\n      <td>Malignant poorly differentiated neuroendocrine...</td>\n    </tr>\n  </tbody>\n</table>\n<p>634709 rows × 7 columns</p>\n</div>"
     },
     "metadata": {},
     "execution_count": 34
    }
   ],
   "source": [
    "diagnoses"
   ]
  },
  {
   "cell_type": "code",
   "execution_count": 36,
   "metadata": {},
   "outputs": [
    {
     "output_type": "execute_result",
     "data": {
      "text/plain": [
       "ROW_ID_x         int64\n",
       "SUBJECT_ID       int64\n",
       "HADM_ID          int64\n",
       "SEQ_NUM        float64\n",
       "ICD9_CODE       object\n",
       "ROW_ID_y         int64\n",
       "SHORT_TITLE     object\n",
       "LONG_TITLE      object\n",
       "dtype: object"
      ]
     },
     "metadata": {},
     "execution_count": 36
    }
   ],
   "source": [
    "diagnoses.dtypes"
   ]
  },
  {
   "cell_type": "code",
   "execution_count": 35,
   "metadata": {},
   "outputs": [],
   "source": [
    "diagnoses[['SUBJECT_ID', 'HADM_ID', 'SEQ_NUM']] = diagnoses[['SUBJECT_ID', 'HADM_ID', 'SEQ_NUM']].astype(int)"
   ]
  },
  {
   "cell_type": "code",
   "execution_count": 53,
   "metadata": {},
   "outputs": [
    {
     "output_type": "execute_result",
     "data": {
      "text/plain": [
       "ROW_ID          int64\n",
       "SUBJECT_ID      int32\n",
       "HADM_ID         int32\n",
       "SEQ_NUM         int32\n",
       "ICD9_CODE      object\n",
       "SHORT_TITLE    object\n",
       "LONG_TITLE     object\n",
       "dtype: object"
      ]
     },
     "metadata": {},
     "execution_count": 53
    }
   ],
   "source": [
    "diagnoses.dtypes"
   ]
  },
  {
   "source": [
    "#### 把患者的icustay_id加入到diagnosis中\n",
    "\n",
    "此时diagnosis包含患者入院ID：HADM_ID、患者ID：SSUBJECT_ID、ICD9_CODE、SHORT_TITLE、LONG\\此时diagnosis包含患者入院ID：HADM_ID、患者ID：SSUBJECT_ID、ICD9_CODE、SHORT_TITLE、LONG_TITLE、ICUSTAY_ID"
   ],
   "cell_type": "markdown",
   "metadata": {}
  },
  {
   "cell_type": "code",
   "execution_count": 36,
   "metadata": {},
   "outputs": [
    {
     "output_type": "stream",
     "name": "stdout",
     "text": [
      "        ROW_ID  SUBJECT_ID  HADM_ID  SEQ_NUM ICD9_CODE  \\\n0         1297         109   172335        1     40301   \n1         1298         109   172335        2       486   \n2         1299         109   172335        3     58281   \n3         1300         109   172335        4      5855   \n4         1301         109   172335        5      4254   \n...        ...         ...      ...      ...       ...   \n477953  205925       18499   125788        1      1922   \n477954  348882       30377   104237        1     80336   \n477955  348883       30377   104237        2     E8852   \n477956  290675       25951   115991        1      1885   \n477957  523154       71275   157952        1     99561   \n\n                     SHORT_TITLE  \\\n0         Mal hyp kid w cr kid V   \n1        Pneumonia, organism NOS   \n2       Chr nephritis in oth dis   \n3       Chron kidney dis stage V   \n4        Prim cardiomyopathy NEC   \n...                          ...   \n477953       Mal neo spinal cord   \n477954  Cl skull fx NEC-coma NOS   \n477955      Fall from skateboard   \n477956      Mal neo bladder neck   \n477957    Anphylct react peanuts   \n\n                                               LONG_TITLE  ICUSTAY_ID  \n0       Hypertensive chronic kidney disease, malignant...      262652  \n1                         Pneumonia, organism unspecified      262652  \n2       Chronic glomerulonephritis in diseases classif...      262652  \n3                         Chronic kidney disease, Stage V      262652  \n4                          Other primary cardiomyopathies      262652  \n...                                                   ...         ...  \n477953                  Malignant neoplasm of spinal cord      217967  \n477954  Other closed skull fracture with other and uns...      276344  \n477955                               Fall from skateboard      276344  \n477956                 Malignant neoplasm of bladder neck      202859  \n477957               Anaphylactic reaction due to peanuts      217387  \n\n[477958 rows x 8 columns]\n"
     ]
    }
   ],
   "source": [
    "diagnoses = diagnoses.merge(icustays[['SUBJECT_ID', 'HADM_ID', 'ICUSTAY_ID']].drop_duplicates(), how='inner',\n",
    "                            on=['SUBJECT_ID', 'HADM_ID'])\n",
    "print(diagnoses)"
   ]
  },
  {
   "cell_type": "code",
   "execution_count": 205,
   "metadata": {},
   "outputs": [],
   "source": [
    "diagnoses.to_csv(os.path.join(output_path, 'all_diagnoses.csv'), index=False)"
   ]
  },
  {
   "source": [
    "### 去掉ICD-9中信息完全一样的记录（一个也没去掉）"
   ],
   "cell_type": "markdown",
   "metadata": {}
  },
  {
   "cell_type": "code",
   "execution_count": 37,
   "metadata": {},
   "outputs": [],
   "source": [
    "codes = codes.drop_duplicates()"
   ]
  },
  {
   "cell_type": "code",
   "execution_count": 38,
   "metadata": {},
   "outputs": [
    {
     "output_type": "stream",
     "name": "stdout",
     "text": [
      "     ICD9_CODE  COUNT\n0         0030      2\n1         0038      1\n2         0039      1\n3         0041      3\n4         0048      1\n...        ...    ...\n6164     V8821      3\n6165     V9010      1\n6166     V9039      1\n6167     V9081      3\n6168     V9089      1\n\n[6169 rows x 2 columns]\n"
     ]
    }
   ],
   "source": [
    "ICD_STAY_COUNT = diagnoses.groupby('ICD9_CODE')['ICUSTAY_ID'].count()\n",
    "ICD_STAY_COUNT = ICD_STAY_COUNT.reset_index()\n",
    "ICD_STAY_COUNT = ICD_STAY_COUNT.rename(columns={'ICUSTAY_ID':'COUNT'})\n",
    "print(ICD_STAY_COUNT)"
   ]
  },
  {
   "cell_type": "code",
   "execution_count": 39,
   "metadata": {},
   "outputs": [],
   "source": [
    "codes = codes.merge(ICD_STAY_COUNT, how='left', on=['ICD9_CODE'])"
   ]
  },
  {
   "cell_type": "code",
   "execution_count": 41,
   "metadata": {},
   "outputs": [],
   "source": [
    "mask_c = codes.COUNT.notnull()\n",
    "codes = codes[mask_c]"
   ]
  },
  {
   "cell_type": "code",
   "execution_count": 261,
   "metadata": {},
   "outputs": [],
   "source": [
    "codes.to_csv(os.path.join(output_path, 'diagnosis_counts.csv'), index =False)"
   ]
  },
  {
   "cell_type": "code",
   "execution_count": 42,
   "metadata": {},
   "outputs": [
    {
     "output_type": "execute_result",
     "data": {
      "text/plain": [
       "       ROW_ID ICD9_CODE               SHORT_TITLE  \\\n",
       "4303     4304      4019          Hypertension NOS   \n",
       "4472     4473      4280                   CHF NOS   \n",
       "4373     4374     41401  Crnry athrscl natve vssl   \n",
       "4461     4462     42731       Atrial fibrillation   \n",
       "1588     1591     25000  DMII wo cmp nt st uncntr   \n",
       "...       ...       ...                       ...   \n",
       "11526   11482     E8156    Mv coll w obj-ped cycl   \n",
       "5600     5602     61800  Vaginal wall prolpse NOS   \n",
       "5604     5606     61804                 Rectocele   \n",
       "5608     5610      6182  Uterovag prolaps-incompl   \n",
       "14        188     01186    Pulmon TB NEC-oth test   \n",
       "\n",
       "                                              LONG_TITLE    COUNT  \n",
       "4303                  Unspecified essential hypertension  17343.0  \n",
       "4472               Congestive heart failure, unspecified  10601.0  \n",
       "4373   Coronary atherosclerosis of native coronary ar...  10345.0  \n",
       "4461                                 Atrial fibrillation  10313.0  \n",
       "1588   Diabetes mellitus without mention of complicat...   7486.0  \n",
       "...                                                  ...      ...  \n",
       "11526  Other motor vehicle traffic accident involving...      1.0  \n",
       "5600               Unspecified prolapse of vaginal walls      1.0  \n",
       "5604                                           Rectocele      1.0  \n",
       "5608                   Uterovaginal prolapse, incomplete      1.0  \n",
       "14     Other specified pulmonary tuberculosis, tuberc...      1.0  \n",
       "\n",
       "[6169 rows x 5 columns]"
      ],
      "text/html": "<div>\n<style scoped>\n    .dataframe tbody tr th:only-of-type {\n        vertical-align: middle;\n    }\n\n    .dataframe tbody tr th {\n        vertical-align: top;\n    }\n\n    .dataframe thead th {\n        text-align: right;\n    }\n</style>\n<table border=\"1\" class=\"dataframe\">\n  <thead>\n    <tr style=\"text-align: right;\">\n      <th></th>\n      <th>ROW_ID</th>\n      <th>ICD9_CODE</th>\n      <th>SHORT_TITLE</th>\n      <th>LONG_TITLE</th>\n      <th>COUNT</th>\n    </tr>\n  </thead>\n  <tbody>\n    <tr>\n      <th>4303</th>\n      <td>4304</td>\n      <td>4019</td>\n      <td>Hypertension NOS</td>\n      <td>Unspecified essential hypertension</td>\n      <td>17343.0</td>\n    </tr>\n    <tr>\n      <th>4472</th>\n      <td>4473</td>\n      <td>4280</td>\n      <td>CHF NOS</td>\n      <td>Congestive heart failure, unspecified</td>\n      <td>10601.0</td>\n    </tr>\n    <tr>\n      <th>4373</th>\n      <td>4374</td>\n      <td>41401</td>\n      <td>Crnry athrscl natve vssl</td>\n      <td>Coronary atherosclerosis of native coronary ar...</td>\n      <td>10345.0</td>\n    </tr>\n    <tr>\n      <th>4461</th>\n      <td>4462</td>\n      <td>42731</td>\n      <td>Atrial fibrillation</td>\n      <td>Atrial fibrillation</td>\n      <td>10313.0</td>\n    </tr>\n    <tr>\n      <th>1588</th>\n      <td>1591</td>\n      <td>25000</td>\n      <td>DMII wo cmp nt st uncntr</td>\n      <td>Diabetes mellitus without mention of complicat...</td>\n      <td>7486.0</td>\n    </tr>\n    <tr>\n      <th>...</th>\n      <td>...</td>\n      <td>...</td>\n      <td>...</td>\n      <td>...</td>\n      <td>...</td>\n    </tr>\n    <tr>\n      <th>11526</th>\n      <td>11482</td>\n      <td>E8156</td>\n      <td>Mv coll w obj-ped cycl</td>\n      <td>Other motor vehicle traffic accident involving...</td>\n      <td>1.0</td>\n    </tr>\n    <tr>\n      <th>5600</th>\n      <td>5602</td>\n      <td>61800</td>\n      <td>Vaginal wall prolpse NOS</td>\n      <td>Unspecified prolapse of vaginal walls</td>\n      <td>1.0</td>\n    </tr>\n    <tr>\n      <th>5604</th>\n      <td>5606</td>\n      <td>61804</td>\n      <td>Rectocele</td>\n      <td>Rectocele</td>\n      <td>1.0</td>\n    </tr>\n    <tr>\n      <th>5608</th>\n      <td>5610</td>\n      <td>6182</td>\n      <td>Uterovag prolaps-incompl</td>\n      <td>Uterovaginal prolapse, incomplete</td>\n      <td>1.0</td>\n    </tr>\n    <tr>\n      <th>14</th>\n      <td>188</td>\n      <td>01186</td>\n      <td>Pulmon TB NEC-oth test</td>\n      <td>Other specified pulmonary tuberculosis, tuberc...</td>\n      <td>1.0</td>\n    </tr>\n  </tbody>\n</table>\n<p>6169 rows × 5 columns</p>\n</div>"
     },
     "metadata": {},
     "execution_count": 42
    }
   ],
   "source": [
    "codes.sort_values('COUNT', ascending=False)"
   ]
  },
  {
   "cell_type": "code",
   "execution_count": 269,
   "metadata": {},
   "outputs": [
    {
     "output_type": "execute_result",
     "data": {
      "text/plain": [
       "''"
      ]
     },
     "metadata": {},
     "execution_count": 269
    }
   ],
   "source": [
    "os.path.dirname(\"__file__\")"
   ]
  },
  {
   "source": [
    "# 25种表型识别，为第四个任务服务"
   ],
   "cell_type": "markdown",
   "metadata": {}
  },
  {
   "cell_type": "code",
   "execution_count": 43,
   "metadata": {},
   "outputs": [],
   "source": [
    "phenotype_definitions = os.path.join(os.path.dirname(\"__file__\"), '../resources/hcup_ccs_2015_definitions.yaml')\n",
    "\n",
    "import yaml\n",
    "definitions = yaml.load(open(phenotype_definitions, 'r'))\n"
   ]
  },
  {
   "cell_type": "code",
   "execution_count": 45,
   "metadata": {},
   "outputs": [],
   "source": [
    "def_map = {}\n",
    "\"\"\" \n",
    "def_map是建立ICD9_CODE 和  definitions的映射。\n",
    "由ICD9_CODE 找 与其对应的definition和'use_in_benchmark'（True or Flase）\n",
    "\"\"\"\n",
    "for dx in definitions:\n",
    "    for code in definitions[dx]['codes']:\n",
    "        def_map[code] = (dx, definitions[dx]['use_in_benchmark'])\n",
    "\n",
    "diagnoses['HCUP_CCS_2015'] = diagnoses.ICD9_CODE.apply(lambda c: def_map[c][0] if c in def_map else None)\n",
    "diagnoses['USE_IN_BENCHMARK'] = diagnoses.ICD9_CODE.apply(lambda c: int(def_map[c][1]) if c in def_map else None)"
   ]
  },
  {
   "cell_type": "code",
   "execution_count": 46,
   "metadata": {},
   "outputs": [
    {
     "output_type": "execute_result",
     "data": {
      "text/plain": [
       "        ROW_ID  SUBJECT_ID  HADM_ID  SEQ_NUM ICD9_CODE  \\\n",
       "0         1297         109   172335        1     40301   \n",
       "1         1298         109   172335        2       486   \n",
       "2         1299         109   172335        3     58281   \n",
       "3         1300         109   172335        4      5855   \n",
       "4         1301         109   172335        5      4254   \n",
       "...        ...         ...      ...      ...       ...   \n",
       "477953  205925       18499   125788        1      1922   \n",
       "477954  348882       30377   104237        1     80336   \n",
       "477955  348883       30377   104237        2     E8852   \n",
       "477956  290675       25951   115991        1      1885   \n",
       "477957  523154       71275   157952        1     99561   \n",
       "\n",
       "                     SHORT_TITLE  \\\n",
       "0         Mal hyp kid w cr kid V   \n",
       "1        Pneumonia, organism NOS   \n",
       "2       Chr nephritis in oth dis   \n",
       "3       Chron kidney dis stage V   \n",
       "4        Prim cardiomyopathy NEC   \n",
       "...                          ...   \n",
       "477953       Mal neo spinal cord   \n",
       "477954  Cl skull fx NEC-coma NOS   \n",
       "477955      Fall from skateboard   \n",
       "477956      Mal neo bladder neck   \n",
       "477957    Anphylct react peanuts   \n",
       "\n",
       "                                               LONG_TITLE  ICUSTAY_ID  \\\n",
       "0       Hypertensive chronic kidney disease, malignant...      262652   \n",
       "1                         Pneumonia, organism unspecified      262652   \n",
       "2       Chronic glomerulonephritis in diseases classif...      262652   \n",
       "3                         Chronic kidney disease, Stage V      262652   \n",
       "4                          Other primary cardiomyopathies      262652   \n",
       "...                                                   ...         ...   \n",
       "477953                  Malignant neoplasm of spinal cord      217967   \n",
       "477954  Other closed skull fracture with other and uns...      276344   \n",
       "477955                               Fall from skateboard      276344   \n",
       "477956                 Malignant neoplasm of bladder neck      202859   \n",
       "477957               Anaphylactic reaction due to peanuts      217387   \n",
       "\n",
       "                                            HCUP_CCS_2015  USE_IN_BENCHMARK  \n",
       "0       Hypertension with complications and secondary ...                 1  \n",
       "1       Pneumonia (except that caused by tuberculosis ...                 1  \n",
       "2                   Nephritis; nephrosis; renal sclerosis                 0  \n",
       "3                                  Chronic kidney disease                 1  \n",
       "4       Peri-; endo-; and myocarditis; cardiomyopathy ...                 0  \n",
       "...                                                   ...               ...  \n",
       "477953                 Cancer of brain and nervous system                 0  \n",
       "477954                                Intracranial injury                 0  \n",
       "477955                                               Fall                 0  \n",
       "477956                                  Cancer of bladder                 0  \n",
       "477957                                 Allergic reactions                 0  \n",
       "\n",
       "[477958 rows x 10 columns]"
      ],
      "text/html": "<div>\n<style scoped>\n    .dataframe tbody tr th:only-of-type {\n        vertical-align: middle;\n    }\n\n    .dataframe tbody tr th {\n        vertical-align: top;\n    }\n\n    .dataframe thead th {\n        text-align: right;\n    }\n</style>\n<table border=\"1\" class=\"dataframe\">\n  <thead>\n    <tr style=\"text-align: right;\">\n      <th></th>\n      <th>ROW_ID</th>\n      <th>SUBJECT_ID</th>\n      <th>HADM_ID</th>\n      <th>SEQ_NUM</th>\n      <th>ICD9_CODE</th>\n      <th>SHORT_TITLE</th>\n      <th>LONG_TITLE</th>\n      <th>ICUSTAY_ID</th>\n      <th>HCUP_CCS_2015</th>\n      <th>USE_IN_BENCHMARK</th>\n    </tr>\n  </thead>\n  <tbody>\n    <tr>\n      <th>0</th>\n      <td>1297</td>\n      <td>109</td>\n      <td>172335</td>\n      <td>1</td>\n      <td>40301</td>\n      <td>Mal hyp kid w cr kid V</td>\n      <td>Hypertensive chronic kidney disease, malignant...</td>\n      <td>262652</td>\n      <td>Hypertension with complications and secondary ...</td>\n      <td>1</td>\n    </tr>\n    <tr>\n      <th>1</th>\n      <td>1298</td>\n      <td>109</td>\n      <td>172335</td>\n      <td>2</td>\n      <td>486</td>\n      <td>Pneumonia, organism NOS</td>\n      <td>Pneumonia, organism unspecified</td>\n      <td>262652</td>\n      <td>Pneumonia (except that caused by tuberculosis ...</td>\n      <td>1</td>\n    </tr>\n    <tr>\n      <th>2</th>\n      <td>1299</td>\n      <td>109</td>\n      <td>172335</td>\n      <td>3</td>\n      <td>58281</td>\n      <td>Chr nephritis in oth dis</td>\n      <td>Chronic glomerulonephritis in diseases classif...</td>\n      <td>262652</td>\n      <td>Nephritis; nephrosis; renal sclerosis</td>\n      <td>0</td>\n    </tr>\n    <tr>\n      <th>3</th>\n      <td>1300</td>\n      <td>109</td>\n      <td>172335</td>\n      <td>4</td>\n      <td>5855</td>\n      <td>Chron kidney dis stage V</td>\n      <td>Chronic kidney disease, Stage V</td>\n      <td>262652</td>\n      <td>Chronic kidney disease</td>\n      <td>1</td>\n    </tr>\n    <tr>\n      <th>4</th>\n      <td>1301</td>\n      <td>109</td>\n      <td>172335</td>\n      <td>5</td>\n      <td>4254</td>\n      <td>Prim cardiomyopathy NEC</td>\n      <td>Other primary cardiomyopathies</td>\n      <td>262652</td>\n      <td>Peri-; endo-; and myocarditis; cardiomyopathy ...</td>\n      <td>0</td>\n    </tr>\n    <tr>\n      <th>...</th>\n      <td>...</td>\n      <td>...</td>\n      <td>...</td>\n      <td>...</td>\n      <td>...</td>\n      <td>...</td>\n      <td>...</td>\n      <td>...</td>\n      <td>...</td>\n      <td>...</td>\n    </tr>\n    <tr>\n      <th>477953</th>\n      <td>205925</td>\n      <td>18499</td>\n      <td>125788</td>\n      <td>1</td>\n      <td>1922</td>\n      <td>Mal neo spinal cord</td>\n      <td>Malignant neoplasm of spinal cord</td>\n      <td>217967</td>\n      <td>Cancer of brain and nervous system</td>\n      <td>0</td>\n    </tr>\n    <tr>\n      <th>477954</th>\n      <td>348882</td>\n      <td>30377</td>\n      <td>104237</td>\n      <td>1</td>\n      <td>80336</td>\n      <td>Cl skull fx NEC-coma NOS</td>\n      <td>Other closed skull fracture with other and uns...</td>\n      <td>276344</td>\n      <td>Intracranial injury</td>\n      <td>0</td>\n    </tr>\n    <tr>\n      <th>477955</th>\n      <td>348883</td>\n      <td>30377</td>\n      <td>104237</td>\n      <td>2</td>\n      <td>E8852</td>\n      <td>Fall from skateboard</td>\n      <td>Fall from skateboard</td>\n      <td>276344</td>\n      <td>Fall</td>\n      <td>0</td>\n    </tr>\n    <tr>\n      <th>477956</th>\n      <td>290675</td>\n      <td>25951</td>\n      <td>115991</td>\n      <td>1</td>\n      <td>1885</td>\n      <td>Mal neo bladder neck</td>\n      <td>Malignant neoplasm of bladder neck</td>\n      <td>202859</td>\n      <td>Cancer of bladder</td>\n      <td>0</td>\n    </tr>\n    <tr>\n      <th>477957</th>\n      <td>523154</td>\n      <td>71275</td>\n      <td>157952</td>\n      <td>1</td>\n      <td>99561</td>\n      <td>Anphylct react peanuts</td>\n      <td>Anaphylactic reaction due to peanuts</td>\n      <td>217387</td>\n      <td>Allergic reactions</td>\n      <td>0</td>\n    </tr>\n  </tbody>\n</table>\n<p>477958 rows × 10 columns</p>\n</div>"
     },
     "metadata": {},
     "execution_count": 46
    }
   ],
   "source": [
    "diagnoses"
   ]
  },
  {
   "source": [
    "### 25种急性表型分类"
   ],
   "cell_type": "markdown",
   "metadata": {}
  },
  {
   "cell_type": "code",
   "execution_count": 47,
   "metadata": {},
   "outputs": [
    {
     "output_type": "stream",
     "name": "stdout",
     "text": [
      "        ICUSTAY_ID                                      HCUP_CCS_2015  VALUE\n0           262652  Hypertension with complications and secondary ...      1\n1           262652  Pneumonia (except that caused by tuberculosis ...      1\n3           262652                             Chronic kidney disease      1\n5           262652                    Fluid and electrolyte disorders      1\n9           262652  Complications of surgical procedures or medica...      1\n...            ...                                                ...    ...\n477837      250923                    Other lower respiratory disease      1\n477866      217928                    Other upper respiratory disease      1\n477867      298882                    Other upper respiratory disease      1\n477886      287794                    Other lower respiratory disease      1\n477911      217456  Pneumonia (except that caused by tuberculosis ...      1\n\n[174081 rows x 3 columns]\n"
     ]
    }
   ],
   "source": [
    "phenotypes = diagnoses\n",
    "phenotypes = phenotypes[['ICUSTAY_ID', 'HCUP_CCS_2015']][phenotypes.USE_IN_BENCHMARK > 0].drop_duplicates()\n",
    "phenotypes['VALUE'] = 1\n",
    "print(phenotypes)"
   ]
  },
  {
   "cell_type": "code",
   "execution_count": 48,
   "metadata": {},
   "outputs": [],
   "source": [
    "phenotypes = phenotypes.pivot(index='ICUSTAY_ID', columns='HCUP_CCS_2015', values='VALUE')"
   ]
  },
  {
   "cell_type": "code",
   "execution_count": 49,
   "metadata": {},
   "outputs": [
    {
     "output_type": "execute_result",
     "data": {
      "text/plain": [
       "HCUP_CCS_2015  Acute and unspecified renal failure  \\\n",
       "ICUSTAY_ID                                           \n",
       "200001                                         NaN   \n",
       "200003                                         NaN   \n",
       "200006                                         NaN   \n",
       "200007                                         NaN   \n",
       "200009                                         NaN   \n",
       "...                                            ...   \n",
       "299984                                         NaN   \n",
       "299987                                         NaN   \n",
       "299992                                         NaN   \n",
       "299995                                         NaN   \n",
       "299999                                         NaN   \n",
       "\n",
       "HCUP_CCS_2015  Acute cerebrovascular disease  Acute myocardial infarction  \\\n",
       "ICUSTAY_ID                                                                  \n",
       "200001                                   NaN                          NaN   \n",
       "200003                                   NaN                          NaN   \n",
       "200006                                   NaN                          NaN   \n",
       "200007                                   NaN                          1.0   \n",
       "200009                                   NaN                          NaN   \n",
       "...                                      ...                          ...   \n",
       "299984                                   NaN                          NaN   \n",
       "299987                                   NaN                          NaN   \n",
       "299992                                   NaN                          NaN   \n",
       "299995                                   NaN                          NaN   \n",
       "299999                                   NaN                          NaN   \n",
       "\n",
       "HCUP_CCS_2015  Cardiac dysrhythmias  Chronic kidney disease  \\\n",
       "ICUSTAY_ID                                                    \n",
       "200001                          1.0                     1.0   \n",
       "200003                          NaN                     NaN   \n",
       "200006                          NaN                     NaN   \n",
       "200007                          1.0                     NaN   \n",
       "200009                          NaN                     NaN   \n",
       "...                             ...                     ...   \n",
       "299984                          1.0                     NaN   \n",
       "299987                          NaN                     NaN   \n",
       "299992                          NaN                     NaN   \n",
       "299995                          NaN                     NaN   \n",
       "299999                          NaN                     NaN   \n",
       "\n",
       "HCUP_CCS_2015  Chronic obstructive pulmonary disease and bronchiectasis  \\\n",
       "ICUSTAY_ID                                                                \n",
       "200001                                                       NaN          \n",
       "200003                                                       NaN          \n",
       "200006                                                       NaN          \n",
       "200007                                                       NaN          \n",
       "200009                                                       NaN          \n",
       "...                                                          ...          \n",
       "299984                                                       NaN          \n",
       "299987                                                       1.0          \n",
       "299992                                                       NaN          \n",
       "299995                                                       NaN          \n",
       "299999                                                       NaN          \n",
       "\n",
       "HCUP_CCS_2015  Complications of surgical procedures or medical care  \\\n",
       "ICUSTAY_ID                                                            \n",
       "200001                                                       NaN      \n",
       "200003                                                       NaN      \n",
       "200006                                                       1.0      \n",
       "200007                                                       1.0      \n",
       "200009                                                       1.0      \n",
       "...                                                          ...      \n",
       "299984                                                       1.0      \n",
       "299987                                                       NaN      \n",
       "299992                                                       NaN      \n",
       "299995                                                       NaN      \n",
       "299999                                                       NaN      \n",
       "\n",
       "HCUP_CCS_2015  Conduction disorders  \\\n",
       "ICUSTAY_ID                            \n",
       "200001                          NaN   \n",
       "200003                          NaN   \n",
       "200006                          NaN   \n",
       "200007                          NaN   \n",
       "200009                          NaN   \n",
       "...                             ...   \n",
       "299984                          NaN   \n",
       "299987                          NaN   \n",
       "299992                          NaN   \n",
       "299995                          NaN   \n",
       "299999                          NaN   \n",
       "\n",
       "HCUP_CCS_2015  Congestive heart failure; nonhypertensive  \\\n",
       "ICUSTAY_ID                                                 \n",
       "200001                                               1.0   \n",
       "200003                                               NaN   \n",
       "200006                                               NaN   \n",
       "200007                                               NaN   \n",
       "200009                                               NaN   \n",
       "...                                                  ...   \n",
       "299984                                               1.0   \n",
       "299987                                               1.0   \n",
       "299992                                               NaN   \n",
       "299995                                               NaN   \n",
       "299999                                               NaN   \n",
       "\n",
       "HCUP_CCS_2015  Coronary atherosclerosis and other heart disease  ...  \\\n",
       "ICUSTAY_ID                                                       ...   \n",
       "200001                                                      NaN  ...   \n",
       "200003                                                      NaN  ...   \n",
       "200006                                                      NaN  ...   \n",
       "200007                                                      1.0  ...   \n",
       "200009                                                      NaN  ...   \n",
       "...                                                         ...  ...   \n",
       "299984                                                      NaN  ...   \n",
       "299987                                                      1.0  ...   \n",
       "299992                                                      NaN  ...   \n",
       "299995                                                      NaN  ...   \n",
       "299999                                                      NaN  ...   \n",
       "\n",
       "HCUP_CCS_2015  Gastrointestinal hemorrhage  \\\n",
       "ICUSTAY_ID                                   \n",
       "200001                                 NaN   \n",
       "200003                                 NaN   \n",
       "200006                                 NaN   \n",
       "200007                                 NaN   \n",
       "200009                                 NaN   \n",
       "...                                    ...   \n",
       "299984                                 NaN   \n",
       "299987                                 NaN   \n",
       "299992                                 NaN   \n",
       "299995                                 NaN   \n",
       "299999                                 NaN   \n",
       "\n",
       "HCUP_CCS_2015  Hypertension with complications and secondary hypertension  \\\n",
       "ICUSTAY_ID                                                                  \n",
       "200001                                                       1.0            \n",
       "200003                                                       NaN            \n",
       "200006                                                       NaN            \n",
       "200007                                                       NaN            \n",
       "200009                                                       NaN            \n",
       "...                                                          ...            \n",
       "299984                                                       NaN            \n",
       "299987                                                       NaN            \n",
       "299992                                                       NaN            \n",
       "299995                                                       NaN            \n",
       "299999                                                       NaN            \n",
       "\n",
       "HCUP_CCS_2015  Other liver diseases  Other lower respiratory disease  \\\n",
       "ICUSTAY_ID                                                             \n",
       "200001                          NaN                              NaN   \n",
       "200003                          NaN                              NaN   \n",
       "200006                          NaN                              NaN   \n",
       "200007                          NaN                              NaN   \n",
       "200009                          NaN                              NaN   \n",
       "...                             ...                              ...   \n",
       "299984                          NaN                              NaN   \n",
       "299987                          NaN                              NaN   \n",
       "299992                          NaN                              NaN   \n",
       "299995                          NaN                              NaN   \n",
       "299999                          NaN                              NaN   \n",
       "\n",
       "HCUP_CCS_2015  Other upper respiratory disease  \\\n",
       "ICUSTAY_ID                                       \n",
       "200001                                     NaN   \n",
       "200003                                     NaN   \n",
       "200006                                     NaN   \n",
       "200007                                     NaN   \n",
       "200009                                     NaN   \n",
       "...                                        ...   \n",
       "299984                                     NaN   \n",
       "299987                                     NaN   \n",
       "299992                                     NaN   \n",
       "299995                                     1.0   \n",
       "299999                                     NaN   \n",
       "\n",
       "HCUP_CCS_2015  Pleurisy; pneumothorax; pulmonary collapse  \\\n",
       "ICUSTAY_ID                                                  \n",
       "200001                                                NaN   \n",
       "200003                                                NaN   \n",
       "200006                                                NaN   \n",
       "200007                                                NaN   \n",
       "200009                                                NaN   \n",
       "...                                                   ...   \n",
       "299984                                                NaN   \n",
       "299987                                                NaN   \n",
       "299992                                                NaN   \n",
       "299995                                                NaN   \n",
       "299999                                                NaN   \n",
       "\n",
       "HCUP_CCS_2015  Pneumonia (except that caused by tuberculosis or sexually transmitted disease)  \\\n",
       "ICUSTAY_ID                                                                                      \n",
       "200001                                                       NaN                                \n",
       "200003                                                       NaN                                \n",
       "200006                                                       NaN                                \n",
       "200007                                                       NaN                                \n",
       "200009                                                       NaN                                \n",
       "...                                                          ...                                \n",
       "299984                                                       1.0                                \n",
       "299987                                                       NaN                                \n",
       "299992                                                       NaN                                \n",
       "299995                                                       NaN                                \n",
       "299999                                                       NaN                                \n",
       "\n",
       "HCUP_CCS_2015  Respiratory failure; insufficiency; arrest (adult)  \\\n",
       "ICUSTAY_ID                                                          \n",
       "200001                                                       NaN    \n",
       "200003                                                       NaN    \n",
       "200006                                                       1.0    \n",
       "200007                                                       NaN    \n",
       "200009                                                       NaN    \n",
       "...                                                          ...    \n",
       "299984                                                       NaN    \n",
       "299987                                                       NaN    \n",
       "299992                                                       1.0    \n",
       "299995                                                       NaN    \n",
       "299999                                                       NaN    \n",
       "\n",
       "HCUP_CCS_2015  Septicemia (except in labor)  Shock  \n",
       "ICUSTAY_ID                                          \n",
       "200001                                  NaN    NaN  \n",
       "200003                                  1.0    NaN  \n",
       "200006                                  NaN    NaN  \n",
       "200007                                  NaN    NaN  \n",
       "200009                                  NaN    NaN  \n",
       "...                                     ...    ...  \n",
       "299984                                  NaN    NaN  \n",
       "299987                                  NaN    NaN  \n",
       "299992                                  NaN    NaN  \n",
       "299995                                  NaN    NaN  \n",
       "299999                                  NaN    NaN  \n",
       "\n",
       "[39314 rows x 25 columns]"
      ],
      "text/html": "<div>\n<style scoped>\n    .dataframe tbody tr th:only-of-type {\n        vertical-align: middle;\n    }\n\n    .dataframe tbody tr th {\n        vertical-align: top;\n    }\n\n    .dataframe thead th {\n        text-align: right;\n    }\n</style>\n<table border=\"1\" class=\"dataframe\">\n  <thead>\n    <tr style=\"text-align: right;\">\n      <th>HCUP_CCS_2015</th>\n      <th>Acute and unspecified renal failure</th>\n      <th>Acute cerebrovascular disease</th>\n      <th>Acute myocardial infarction</th>\n      <th>Cardiac dysrhythmias</th>\n      <th>Chronic kidney disease</th>\n      <th>Chronic obstructive pulmonary disease and bronchiectasis</th>\n      <th>Complications of surgical procedures or medical care</th>\n      <th>Conduction disorders</th>\n      <th>Congestive heart failure; nonhypertensive</th>\n      <th>Coronary atherosclerosis and other heart disease</th>\n      <th>...</th>\n      <th>Gastrointestinal hemorrhage</th>\n      <th>Hypertension with complications and secondary hypertension</th>\n      <th>Other liver diseases</th>\n      <th>Other lower respiratory disease</th>\n      <th>Other upper respiratory disease</th>\n      <th>Pleurisy; pneumothorax; pulmonary collapse</th>\n      <th>Pneumonia (except that caused by tuberculosis or sexually transmitted disease)</th>\n      <th>Respiratory failure; insufficiency; arrest (adult)</th>\n      <th>Septicemia (except in labor)</th>\n      <th>Shock</th>\n    </tr>\n    <tr>\n      <th>ICUSTAY_ID</th>\n      <th></th>\n      <th></th>\n      <th></th>\n      <th></th>\n      <th></th>\n      <th></th>\n      <th></th>\n      <th></th>\n      <th></th>\n      <th></th>\n      <th></th>\n      <th></th>\n      <th></th>\n      <th></th>\n      <th></th>\n      <th></th>\n      <th></th>\n      <th></th>\n      <th></th>\n      <th></th>\n      <th></th>\n    </tr>\n  </thead>\n  <tbody>\n    <tr>\n      <th>200001</th>\n      <td>NaN</td>\n      <td>NaN</td>\n      <td>NaN</td>\n      <td>1.0</td>\n      <td>1.0</td>\n      <td>NaN</td>\n      <td>NaN</td>\n      <td>NaN</td>\n      <td>1.0</td>\n      <td>NaN</td>\n      <td>...</td>\n      <td>NaN</td>\n      <td>1.0</td>\n      <td>NaN</td>\n      <td>NaN</td>\n      <td>NaN</td>\n      <td>NaN</td>\n      <td>NaN</td>\n      <td>NaN</td>\n      <td>NaN</td>\n      <td>NaN</td>\n    </tr>\n    <tr>\n      <th>200003</th>\n      <td>NaN</td>\n      <td>NaN</td>\n      <td>NaN</td>\n      <td>NaN</td>\n      <td>NaN</td>\n      <td>NaN</td>\n      <td>NaN</td>\n      <td>NaN</td>\n      <td>NaN</td>\n      <td>NaN</td>\n      <td>...</td>\n      <td>NaN</td>\n      <td>NaN</td>\n      <td>NaN</td>\n      <td>NaN</td>\n      <td>NaN</td>\n      <td>NaN</td>\n      <td>NaN</td>\n      <td>NaN</td>\n      <td>1.0</td>\n      <td>NaN</td>\n    </tr>\n    <tr>\n      <th>200006</th>\n      <td>NaN</td>\n      <td>NaN</td>\n      <td>NaN</td>\n      <td>NaN</td>\n      <td>NaN</td>\n      <td>NaN</td>\n      <td>1.0</td>\n      <td>NaN</td>\n      <td>NaN</td>\n      <td>NaN</td>\n      <td>...</td>\n      <td>NaN</td>\n      <td>NaN</td>\n      <td>NaN</td>\n      <td>NaN</td>\n      <td>NaN</td>\n      <td>NaN</td>\n      <td>NaN</td>\n      <td>1.0</td>\n      <td>NaN</td>\n      <td>NaN</td>\n    </tr>\n    <tr>\n      <th>200007</th>\n      <td>NaN</td>\n      <td>NaN</td>\n      <td>1.0</td>\n      <td>1.0</td>\n      <td>NaN</td>\n      <td>NaN</td>\n      <td>1.0</td>\n      <td>NaN</td>\n      <td>NaN</td>\n      <td>1.0</td>\n      <td>...</td>\n      <td>NaN</td>\n      <td>NaN</td>\n      <td>NaN</td>\n      <td>NaN</td>\n      <td>NaN</td>\n      <td>NaN</td>\n      <td>NaN</td>\n      <td>NaN</td>\n      <td>NaN</td>\n      <td>NaN</td>\n    </tr>\n    <tr>\n      <th>200009</th>\n      <td>NaN</td>\n      <td>NaN</td>\n      <td>NaN</td>\n      <td>NaN</td>\n      <td>NaN</td>\n      <td>NaN</td>\n      <td>1.0</td>\n      <td>NaN</td>\n      <td>NaN</td>\n      <td>NaN</td>\n      <td>...</td>\n      <td>NaN</td>\n      <td>NaN</td>\n      <td>NaN</td>\n      <td>NaN</td>\n      <td>NaN</td>\n      <td>NaN</td>\n      <td>NaN</td>\n      <td>NaN</td>\n      <td>NaN</td>\n      <td>NaN</td>\n    </tr>\n    <tr>\n      <th>...</th>\n      <td>...</td>\n      <td>...</td>\n      <td>...</td>\n      <td>...</td>\n      <td>...</td>\n      <td>...</td>\n      <td>...</td>\n      <td>...</td>\n      <td>...</td>\n      <td>...</td>\n      <td>...</td>\n      <td>...</td>\n      <td>...</td>\n      <td>...</td>\n      <td>...</td>\n      <td>...</td>\n      <td>...</td>\n      <td>...</td>\n      <td>...</td>\n      <td>...</td>\n      <td>...</td>\n    </tr>\n    <tr>\n      <th>299984</th>\n      <td>NaN</td>\n      <td>NaN</td>\n      <td>NaN</td>\n      <td>1.0</td>\n      <td>NaN</td>\n      <td>NaN</td>\n      <td>1.0</td>\n      <td>NaN</td>\n      <td>1.0</td>\n      <td>NaN</td>\n      <td>...</td>\n      <td>NaN</td>\n      <td>NaN</td>\n      <td>NaN</td>\n      <td>NaN</td>\n      <td>NaN</td>\n      <td>NaN</td>\n      <td>1.0</td>\n      <td>NaN</td>\n      <td>NaN</td>\n      <td>NaN</td>\n    </tr>\n    <tr>\n      <th>299987</th>\n      <td>NaN</td>\n      <td>NaN</td>\n      <td>NaN</td>\n      <td>NaN</td>\n      <td>NaN</td>\n      <td>1.0</td>\n      <td>NaN</td>\n      <td>NaN</td>\n      <td>1.0</td>\n      <td>1.0</td>\n      <td>...</td>\n      <td>NaN</td>\n      <td>NaN</td>\n      <td>NaN</td>\n      <td>NaN</td>\n      <td>NaN</td>\n      <td>NaN</td>\n      <td>NaN</td>\n      <td>NaN</td>\n      <td>NaN</td>\n      <td>NaN</td>\n    </tr>\n    <tr>\n      <th>299992</th>\n      <td>NaN</td>\n      <td>NaN</td>\n      <td>NaN</td>\n      <td>NaN</td>\n      <td>NaN</td>\n      <td>NaN</td>\n      <td>NaN</td>\n      <td>NaN</td>\n      <td>NaN</td>\n      <td>NaN</td>\n      <td>...</td>\n      <td>NaN</td>\n      <td>NaN</td>\n      <td>NaN</td>\n      <td>NaN</td>\n      <td>NaN</td>\n      <td>NaN</td>\n      <td>NaN</td>\n      <td>1.0</td>\n      <td>NaN</td>\n      <td>NaN</td>\n    </tr>\n    <tr>\n      <th>299995</th>\n      <td>NaN</td>\n      <td>NaN</td>\n      <td>NaN</td>\n      <td>NaN</td>\n      <td>NaN</td>\n      <td>NaN</td>\n      <td>NaN</td>\n      <td>NaN</td>\n      <td>NaN</td>\n      <td>NaN</td>\n      <td>...</td>\n      <td>NaN</td>\n      <td>NaN</td>\n      <td>NaN</td>\n      <td>NaN</td>\n      <td>1.0</td>\n      <td>NaN</td>\n      <td>NaN</td>\n      <td>NaN</td>\n      <td>NaN</td>\n      <td>NaN</td>\n    </tr>\n    <tr>\n      <th>299999</th>\n      <td>NaN</td>\n      <td>NaN</td>\n      <td>NaN</td>\n      <td>NaN</td>\n      <td>NaN</td>\n      <td>NaN</td>\n      <td>NaN</td>\n      <td>NaN</td>\n      <td>NaN</td>\n      <td>NaN</td>\n      <td>...</td>\n      <td>NaN</td>\n      <td>NaN</td>\n      <td>NaN</td>\n      <td>NaN</td>\n      <td>NaN</td>\n      <td>NaN</td>\n      <td>NaN</td>\n      <td>NaN</td>\n      <td>NaN</td>\n      <td>NaN</td>\n    </tr>\n  </tbody>\n</table>\n<p>39314 rows × 25 columns</p>\n</div>"
     },
     "metadata": {},
     "execution_count": 49
    }
   ],
   "source": [
    "phenotypes"
   ]
  },
  {
   "cell_type": "code",
   "execution_count": 50,
   "metadata": {},
   "outputs": [],
   "source": [
    "phenotypes = phenotypes.reindex(icustays.ICUSTAY_ID.sort_values())"
   ]
  },
  {
   "cell_type": "code",
   "execution_count": 51,
   "metadata": {},
   "outputs": [
    {
     "output_type": "execute_result",
     "data": {
      "text/plain": [
       "HCUP_CCS_2015  Acute and unspecified renal failure  \\\n",
       "ICUSTAY_ID                                           \n",
       "200001                                         NaN   \n",
       "200003                                         NaN   \n",
       "200006                                         NaN   \n",
       "200007                                         NaN   \n",
       "200009                                         NaN   \n",
       "...                                            ...   \n",
       "299987                                         NaN   \n",
       "299992                                         NaN   \n",
       "299993                                         NaN   \n",
       "299995                                         NaN   \n",
       "299999                                         NaN   \n",
       "\n",
       "HCUP_CCS_2015  Acute cerebrovascular disease  Acute myocardial infarction  \\\n",
       "ICUSTAY_ID                                                                  \n",
       "200001                                   NaN                          NaN   \n",
       "200003                                   NaN                          NaN   \n",
       "200006                                   NaN                          NaN   \n",
       "200007                                   NaN                          1.0   \n",
       "200009                                   NaN                          NaN   \n",
       "...                                      ...                          ...   \n",
       "299987                                   NaN                          NaN   \n",
       "299992                                   NaN                          NaN   \n",
       "299993                                   NaN                          NaN   \n",
       "299995                                   NaN                          NaN   \n",
       "299999                                   NaN                          NaN   \n",
       "\n",
       "HCUP_CCS_2015  Cardiac dysrhythmias  Chronic kidney disease  \\\n",
       "ICUSTAY_ID                                                    \n",
       "200001                          1.0                     1.0   \n",
       "200003                          NaN                     NaN   \n",
       "200006                          NaN                     NaN   \n",
       "200007                          1.0                     NaN   \n",
       "200009                          NaN                     NaN   \n",
       "...                             ...                     ...   \n",
       "299987                          NaN                     NaN   \n",
       "299992                          NaN                     NaN   \n",
       "299993                          NaN                     NaN   \n",
       "299995                          NaN                     NaN   \n",
       "299999                          NaN                     NaN   \n",
       "\n",
       "HCUP_CCS_2015  Chronic obstructive pulmonary disease and bronchiectasis  \\\n",
       "ICUSTAY_ID                                                                \n",
       "200001                                                       NaN          \n",
       "200003                                                       NaN          \n",
       "200006                                                       NaN          \n",
       "200007                                                       NaN          \n",
       "200009                                                       NaN          \n",
       "...                                                          ...          \n",
       "299987                                                       1.0          \n",
       "299992                                                       NaN          \n",
       "299993                                                       NaN          \n",
       "299995                                                       NaN          \n",
       "299999                                                       NaN          \n",
       "\n",
       "HCUP_CCS_2015  Complications of surgical procedures or medical care  \\\n",
       "ICUSTAY_ID                                                            \n",
       "200001                                                       NaN      \n",
       "200003                                                       NaN      \n",
       "200006                                                       1.0      \n",
       "200007                                                       1.0      \n",
       "200009                                                       1.0      \n",
       "...                                                          ...      \n",
       "299987                                                       NaN      \n",
       "299992                                                       NaN      \n",
       "299993                                                       NaN      \n",
       "299995                                                       NaN      \n",
       "299999                                                       NaN      \n",
       "\n",
       "HCUP_CCS_2015  Conduction disorders  \\\n",
       "ICUSTAY_ID                            \n",
       "200001                          NaN   \n",
       "200003                          NaN   \n",
       "200006                          NaN   \n",
       "200007                          NaN   \n",
       "200009                          NaN   \n",
       "...                             ...   \n",
       "299987                          NaN   \n",
       "299992                          NaN   \n",
       "299993                          NaN   \n",
       "299995                          NaN   \n",
       "299999                          NaN   \n",
       "\n",
       "HCUP_CCS_2015  Congestive heart failure; nonhypertensive  \\\n",
       "ICUSTAY_ID                                                 \n",
       "200001                                               1.0   \n",
       "200003                                               NaN   \n",
       "200006                                               NaN   \n",
       "200007                                               NaN   \n",
       "200009                                               NaN   \n",
       "...                                                  ...   \n",
       "299987                                               1.0   \n",
       "299992                                               NaN   \n",
       "299993                                               NaN   \n",
       "299995                                               NaN   \n",
       "299999                                               NaN   \n",
       "\n",
       "HCUP_CCS_2015  Coronary atherosclerosis and other heart disease  ...  \\\n",
       "ICUSTAY_ID                                                       ...   \n",
       "200001                                                      NaN  ...   \n",
       "200003                                                      NaN  ...   \n",
       "200006                                                      NaN  ...   \n",
       "200007                                                      1.0  ...   \n",
       "200009                                                      NaN  ...   \n",
       "...                                                         ...  ...   \n",
       "299987                                                      1.0  ...   \n",
       "299992                                                      NaN  ...   \n",
       "299993                                                      NaN  ...   \n",
       "299995                                                      NaN  ...   \n",
       "299999                                                      NaN  ...   \n",
       "\n",
       "HCUP_CCS_2015  Gastrointestinal hemorrhage  \\\n",
       "ICUSTAY_ID                                   \n",
       "200001                                 NaN   \n",
       "200003                                 NaN   \n",
       "200006                                 NaN   \n",
       "200007                                 NaN   \n",
       "200009                                 NaN   \n",
       "...                                    ...   \n",
       "299987                                 NaN   \n",
       "299992                                 NaN   \n",
       "299993                                 NaN   \n",
       "299995                                 NaN   \n",
       "299999                                 NaN   \n",
       "\n",
       "HCUP_CCS_2015  Hypertension with complications and secondary hypertension  \\\n",
       "ICUSTAY_ID                                                                  \n",
       "200001                                                       1.0            \n",
       "200003                                                       NaN            \n",
       "200006                                                       NaN            \n",
       "200007                                                       NaN            \n",
       "200009                                                       NaN            \n",
       "...                                                          ...            \n",
       "299987                                                       NaN            \n",
       "299992                                                       NaN            \n",
       "299993                                                       NaN            \n",
       "299995                                                       NaN            \n",
       "299999                                                       NaN            \n",
       "\n",
       "HCUP_CCS_2015  Other liver diseases  Other lower respiratory disease  \\\n",
       "ICUSTAY_ID                                                             \n",
       "200001                          NaN                              NaN   \n",
       "200003                          NaN                              NaN   \n",
       "200006                          NaN                              NaN   \n",
       "200007                          NaN                              NaN   \n",
       "200009                          NaN                              NaN   \n",
       "...                             ...                              ...   \n",
       "299987                          NaN                              NaN   \n",
       "299992                          NaN                              NaN   \n",
       "299993                          NaN                              NaN   \n",
       "299995                          NaN                              NaN   \n",
       "299999                          NaN                              NaN   \n",
       "\n",
       "HCUP_CCS_2015  Other upper respiratory disease  \\\n",
       "ICUSTAY_ID                                       \n",
       "200001                                     NaN   \n",
       "200003                                     NaN   \n",
       "200006                                     NaN   \n",
       "200007                                     NaN   \n",
       "200009                                     NaN   \n",
       "...                                        ...   \n",
       "299987                                     NaN   \n",
       "299992                                     NaN   \n",
       "299993                                     NaN   \n",
       "299995                                     1.0   \n",
       "299999                                     NaN   \n",
       "\n",
       "HCUP_CCS_2015  Pleurisy; pneumothorax; pulmonary collapse  \\\n",
       "ICUSTAY_ID                                                  \n",
       "200001                                                NaN   \n",
       "200003                                                NaN   \n",
       "200006                                                NaN   \n",
       "200007                                                NaN   \n",
       "200009                                                NaN   \n",
       "...                                                   ...   \n",
       "299987                                                NaN   \n",
       "299992                                                NaN   \n",
       "299993                                                NaN   \n",
       "299995                                                NaN   \n",
       "299999                                                NaN   \n",
       "\n",
       "HCUP_CCS_2015  Pneumonia (except that caused by tuberculosis or sexually transmitted disease)  \\\n",
       "ICUSTAY_ID                                                                                      \n",
       "200001                                                       NaN                                \n",
       "200003                                                       NaN                                \n",
       "200006                                                       NaN                                \n",
       "200007                                                       NaN                                \n",
       "200009                                                       NaN                                \n",
       "...                                                          ...                                \n",
       "299987                                                       NaN                                \n",
       "299992                                                       NaN                                \n",
       "299993                                                       NaN                                \n",
       "299995                                                       NaN                                \n",
       "299999                                                       NaN                                \n",
       "\n",
       "HCUP_CCS_2015  Respiratory failure; insufficiency; arrest (adult)  \\\n",
       "ICUSTAY_ID                                                          \n",
       "200001                                                       NaN    \n",
       "200003                                                       NaN    \n",
       "200006                                                       1.0    \n",
       "200007                                                       NaN    \n",
       "200009                                                       NaN    \n",
       "...                                                          ...    \n",
       "299987                                                       NaN    \n",
       "299992                                                       1.0    \n",
       "299993                                                       NaN    \n",
       "299995                                                       NaN    \n",
       "299999                                                       NaN    \n",
       "\n",
       "HCUP_CCS_2015  Septicemia (except in labor)  Shock  \n",
       "ICUSTAY_ID                                          \n",
       "200001                                  NaN    NaN  \n",
       "200003                                  1.0    NaN  \n",
       "200006                                  NaN    NaN  \n",
       "200007                                  NaN    NaN  \n",
       "200009                                  NaN    NaN  \n",
       "...                                     ...    ...  \n",
       "299987                                  NaN    NaN  \n",
       "299992                                  NaN    NaN  \n",
       "299993                                  NaN    NaN  \n",
       "299995                                  NaN    NaN  \n",
       "299999                                  NaN    NaN  \n",
       "\n",
       "[42276 rows x 25 columns]"
      ],
      "text/html": "<div>\n<style scoped>\n    .dataframe tbody tr th:only-of-type {\n        vertical-align: middle;\n    }\n\n    .dataframe tbody tr th {\n        vertical-align: top;\n    }\n\n    .dataframe thead th {\n        text-align: right;\n    }\n</style>\n<table border=\"1\" class=\"dataframe\">\n  <thead>\n    <tr style=\"text-align: right;\">\n      <th>HCUP_CCS_2015</th>\n      <th>Acute and unspecified renal failure</th>\n      <th>Acute cerebrovascular disease</th>\n      <th>Acute myocardial infarction</th>\n      <th>Cardiac dysrhythmias</th>\n      <th>Chronic kidney disease</th>\n      <th>Chronic obstructive pulmonary disease and bronchiectasis</th>\n      <th>Complications of surgical procedures or medical care</th>\n      <th>Conduction disorders</th>\n      <th>Congestive heart failure; nonhypertensive</th>\n      <th>Coronary atherosclerosis and other heart disease</th>\n      <th>...</th>\n      <th>Gastrointestinal hemorrhage</th>\n      <th>Hypertension with complications and secondary hypertension</th>\n      <th>Other liver diseases</th>\n      <th>Other lower respiratory disease</th>\n      <th>Other upper respiratory disease</th>\n      <th>Pleurisy; pneumothorax; pulmonary collapse</th>\n      <th>Pneumonia (except that caused by tuberculosis or sexually transmitted disease)</th>\n      <th>Respiratory failure; insufficiency; arrest (adult)</th>\n      <th>Septicemia (except in labor)</th>\n      <th>Shock</th>\n    </tr>\n    <tr>\n      <th>ICUSTAY_ID</th>\n      <th></th>\n      <th></th>\n      <th></th>\n      <th></th>\n      <th></th>\n      <th></th>\n      <th></th>\n      <th></th>\n      <th></th>\n      <th></th>\n      <th></th>\n      <th></th>\n      <th></th>\n      <th></th>\n      <th></th>\n      <th></th>\n      <th></th>\n      <th></th>\n      <th></th>\n      <th></th>\n      <th></th>\n    </tr>\n  </thead>\n  <tbody>\n    <tr>\n      <th>200001</th>\n      <td>NaN</td>\n      <td>NaN</td>\n      <td>NaN</td>\n      <td>1.0</td>\n      <td>1.0</td>\n      <td>NaN</td>\n      <td>NaN</td>\n      <td>NaN</td>\n      <td>1.0</td>\n      <td>NaN</td>\n      <td>...</td>\n      <td>NaN</td>\n      <td>1.0</td>\n      <td>NaN</td>\n      <td>NaN</td>\n      <td>NaN</td>\n      <td>NaN</td>\n      <td>NaN</td>\n      <td>NaN</td>\n      <td>NaN</td>\n      <td>NaN</td>\n    </tr>\n    <tr>\n      <th>200003</th>\n      <td>NaN</td>\n      <td>NaN</td>\n      <td>NaN</td>\n      <td>NaN</td>\n      <td>NaN</td>\n      <td>NaN</td>\n      <td>NaN</td>\n      <td>NaN</td>\n      <td>NaN</td>\n      <td>NaN</td>\n      <td>...</td>\n      <td>NaN</td>\n      <td>NaN</td>\n      <td>NaN</td>\n      <td>NaN</td>\n      <td>NaN</td>\n      <td>NaN</td>\n      <td>NaN</td>\n      <td>NaN</td>\n      <td>1.0</td>\n      <td>NaN</td>\n    </tr>\n    <tr>\n      <th>200006</th>\n      <td>NaN</td>\n      <td>NaN</td>\n      <td>NaN</td>\n      <td>NaN</td>\n      <td>NaN</td>\n      <td>NaN</td>\n      <td>1.0</td>\n      <td>NaN</td>\n      <td>NaN</td>\n      <td>NaN</td>\n      <td>...</td>\n      <td>NaN</td>\n      <td>NaN</td>\n      <td>NaN</td>\n      <td>NaN</td>\n      <td>NaN</td>\n      <td>NaN</td>\n      <td>NaN</td>\n      <td>1.0</td>\n      <td>NaN</td>\n      <td>NaN</td>\n    </tr>\n    <tr>\n      <th>200007</th>\n      <td>NaN</td>\n      <td>NaN</td>\n      <td>1.0</td>\n      <td>1.0</td>\n      <td>NaN</td>\n      <td>NaN</td>\n      <td>1.0</td>\n      <td>NaN</td>\n      <td>NaN</td>\n      <td>1.0</td>\n      <td>...</td>\n      <td>NaN</td>\n      <td>NaN</td>\n      <td>NaN</td>\n      <td>NaN</td>\n      <td>NaN</td>\n      <td>NaN</td>\n      <td>NaN</td>\n      <td>NaN</td>\n      <td>NaN</td>\n      <td>NaN</td>\n    </tr>\n    <tr>\n      <th>200009</th>\n      <td>NaN</td>\n      <td>NaN</td>\n      <td>NaN</td>\n      <td>NaN</td>\n      <td>NaN</td>\n      <td>NaN</td>\n      <td>1.0</td>\n      <td>NaN</td>\n      <td>NaN</td>\n      <td>NaN</td>\n      <td>...</td>\n      <td>NaN</td>\n      <td>NaN</td>\n      <td>NaN</td>\n      <td>NaN</td>\n      <td>NaN</td>\n      <td>NaN</td>\n      <td>NaN</td>\n      <td>NaN</td>\n      <td>NaN</td>\n      <td>NaN</td>\n    </tr>\n    <tr>\n      <th>...</th>\n      <td>...</td>\n      <td>...</td>\n      <td>...</td>\n      <td>...</td>\n      <td>...</td>\n      <td>...</td>\n      <td>...</td>\n      <td>...</td>\n      <td>...</td>\n      <td>...</td>\n      <td>...</td>\n      <td>...</td>\n      <td>...</td>\n      <td>...</td>\n      <td>...</td>\n      <td>...</td>\n      <td>...</td>\n      <td>...</td>\n      <td>...</td>\n      <td>...</td>\n      <td>...</td>\n    </tr>\n    <tr>\n      <th>299987</th>\n      <td>NaN</td>\n      <td>NaN</td>\n      <td>NaN</td>\n      <td>NaN</td>\n      <td>NaN</td>\n      <td>1.0</td>\n      <td>NaN</td>\n      <td>NaN</td>\n      <td>1.0</td>\n      <td>1.0</td>\n      <td>...</td>\n      <td>NaN</td>\n      <td>NaN</td>\n      <td>NaN</td>\n      <td>NaN</td>\n      <td>NaN</td>\n      <td>NaN</td>\n      <td>NaN</td>\n      <td>NaN</td>\n      <td>NaN</td>\n      <td>NaN</td>\n    </tr>\n    <tr>\n      <th>299992</th>\n      <td>NaN</td>\n      <td>NaN</td>\n      <td>NaN</td>\n      <td>NaN</td>\n      <td>NaN</td>\n      <td>NaN</td>\n      <td>NaN</td>\n      <td>NaN</td>\n      <td>NaN</td>\n      <td>NaN</td>\n      <td>...</td>\n      <td>NaN</td>\n      <td>NaN</td>\n      <td>NaN</td>\n      <td>NaN</td>\n      <td>NaN</td>\n      <td>NaN</td>\n      <td>NaN</td>\n      <td>1.0</td>\n      <td>NaN</td>\n      <td>NaN</td>\n    </tr>\n    <tr>\n      <th>299993</th>\n      <td>NaN</td>\n      <td>NaN</td>\n      <td>NaN</td>\n      <td>NaN</td>\n      <td>NaN</td>\n      <td>NaN</td>\n      <td>NaN</td>\n      <td>NaN</td>\n      <td>NaN</td>\n      <td>NaN</td>\n      <td>...</td>\n      <td>NaN</td>\n      <td>NaN</td>\n      <td>NaN</td>\n      <td>NaN</td>\n      <td>NaN</td>\n      <td>NaN</td>\n      <td>NaN</td>\n      <td>NaN</td>\n      <td>NaN</td>\n      <td>NaN</td>\n    </tr>\n    <tr>\n      <th>299995</th>\n      <td>NaN</td>\n      <td>NaN</td>\n      <td>NaN</td>\n      <td>NaN</td>\n      <td>NaN</td>\n      <td>NaN</td>\n      <td>NaN</td>\n      <td>NaN</td>\n      <td>NaN</td>\n      <td>NaN</td>\n      <td>...</td>\n      <td>NaN</td>\n      <td>NaN</td>\n      <td>NaN</td>\n      <td>NaN</td>\n      <td>1.0</td>\n      <td>NaN</td>\n      <td>NaN</td>\n      <td>NaN</td>\n      <td>NaN</td>\n      <td>NaN</td>\n    </tr>\n    <tr>\n      <th>299999</th>\n      <td>NaN</td>\n      <td>NaN</td>\n      <td>NaN</td>\n      <td>NaN</td>\n      <td>NaN</td>\n      <td>NaN</td>\n      <td>NaN</td>\n      <td>NaN</td>\n      <td>NaN</td>\n      <td>NaN</td>\n      <td>...</td>\n      <td>NaN</td>\n      <td>NaN</td>\n      <td>NaN</td>\n      <td>NaN</td>\n      <td>NaN</td>\n      <td>NaN</td>\n      <td>NaN</td>\n      <td>NaN</td>\n      <td>NaN</td>\n      <td>NaN</td>\n    </tr>\n  </tbody>\n</table>\n<p>42276 rows × 25 columns</p>\n</div>"
     },
     "metadata": {},
     "execution_count": 51
    }
   ],
   "source": [
    "phenotypes"
   ]
  },
  {
   "cell_type": "code",
   "execution_count": 52,
   "metadata": {},
   "outputs": [],
   "source": [
    "phenotypes_ = phenotypes.fillna(0).astype(int).sort_index(axis=0).sort_index(axis=1)"
   ]
  },
  {
   "cell_type": "code",
   "execution_count": 76,
   "metadata": {},
   "outputs": [
    {
     "output_type": "execute_result",
     "data": {
      "text/plain": [
       "HCUP_CCS_2015  Acute and unspecified renal failure  \\\n",
       "ICUSTAY_ID                                           \n",
       "200001                                           0   \n",
       "200003                                           0   \n",
       "200006                                           0   \n",
       "200007                                           0   \n",
       "200009                                           0   \n",
       "...                                            ...   \n",
       "299987                                           0   \n",
       "299992                                           0   \n",
       "299993                                           0   \n",
       "299995                                           0   \n",
       "299999                                           0   \n",
       "\n",
       "HCUP_CCS_2015  Acute cerebrovascular disease  Acute myocardial infarction  \\\n",
       "ICUSTAY_ID                                                                  \n",
       "200001                                     0                            0   \n",
       "200003                                     0                            0   \n",
       "200006                                     0                            0   \n",
       "200007                                     0                            1   \n",
       "200009                                     0                            0   \n",
       "...                                      ...                          ...   \n",
       "299987                                     0                            0   \n",
       "299992                                     0                            0   \n",
       "299993                                     0                            0   \n",
       "299995                                     0                            0   \n",
       "299999                                     0                            0   \n",
       "\n",
       "HCUP_CCS_2015  Cardiac dysrhythmias  Chronic kidney disease  \\\n",
       "ICUSTAY_ID                                                    \n",
       "200001                            1                       1   \n",
       "200003                            0                       0   \n",
       "200006                            0                       0   \n",
       "200007                            1                       0   \n",
       "200009                            0                       0   \n",
       "...                             ...                     ...   \n",
       "299987                            0                       0   \n",
       "299992                            0                       0   \n",
       "299993                            0                       0   \n",
       "299995                            0                       0   \n",
       "299999                            0                       0   \n",
       "\n",
       "HCUP_CCS_2015  Chronic obstructive pulmonary disease and bronchiectasis  \\\n",
       "ICUSTAY_ID                                                                \n",
       "200001                                                         0          \n",
       "200003                                                         0          \n",
       "200006                                                         0          \n",
       "200007                                                         0          \n",
       "200009                                                         0          \n",
       "...                                                          ...          \n",
       "299987                                                         1          \n",
       "299992                                                         0          \n",
       "299993                                                         0          \n",
       "299995                                                         0          \n",
       "299999                                                         0          \n",
       "\n",
       "HCUP_CCS_2015  Complications of surgical procedures or medical care  \\\n",
       "ICUSTAY_ID                                                            \n",
       "200001                                                         0      \n",
       "200003                                                         0      \n",
       "200006                                                         1      \n",
       "200007                                                         1      \n",
       "200009                                                         1      \n",
       "...                                                          ...      \n",
       "299987                                                         0      \n",
       "299992                                                         0      \n",
       "299993                                                         0      \n",
       "299995                                                         0      \n",
       "299999                                                         0      \n",
       "\n",
       "HCUP_CCS_2015  Conduction disorders  \\\n",
       "ICUSTAY_ID                            \n",
       "200001                            0   \n",
       "200003                            0   \n",
       "200006                            0   \n",
       "200007                            0   \n",
       "200009                            0   \n",
       "...                             ...   \n",
       "299987                            0   \n",
       "299992                            0   \n",
       "299993                            0   \n",
       "299995                            0   \n",
       "299999                            0   \n",
       "\n",
       "HCUP_CCS_2015  Congestive heart failure; nonhypertensive  \\\n",
       "ICUSTAY_ID                                                 \n",
       "200001                                                 1   \n",
       "200003                                                 0   \n",
       "200006                                                 0   \n",
       "200007                                                 0   \n",
       "200009                                                 0   \n",
       "...                                                  ...   \n",
       "299987                                                 1   \n",
       "299992                                                 0   \n",
       "299993                                                 0   \n",
       "299995                                                 0   \n",
       "299999                                                 0   \n",
       "\n",
       "HCUP_CCS_2015  Coronary atherosclerosis and other heart disease  ...  \\\n",
       "ICUSTAY_ID                                                       ...   \n",
       "200001                                                        0  ...   \n",
       "200003                                                        0  ...   \n",
       "200006                                                        0  ...   \n",
       "200007                                                        1  ...   \n",
       "200009                                                        0  ...   \n",
       "...                                                         ...  ...   \n",
       "299987                                                        1  ...   \n",
       "299992                                                        0  ...   \n",
       "299993                                                        0  ...   \n",
       "299995                                                        0  ...   \n",
       "299999                                                        0  ...   \n",
       "\n",
       "HCUP_CCS_2015  Gastrointestinal hemorrhage  \\\n",
       "ICUSTAY_ID                                   \n",
       "200001                                   0   \n",
       "200003                                   0   \n",
       "200006                                   0   \n",
       "200007                                   0   \n",
       "200009                                   0   \n",
       "...                                    ...   \n",
       "299987                                   0   \n",
       "299992                                   0   \n",
       "299993                                   0   \n",
       "299995                                   0   \n",
       "299999                                   0   \n",
       "\n",
       "HCUP_CCS_2015  Hypertension with complications and secondary hypertension  \\\n",
       "ICUSTAY_ID                                                                  \n",
       "200001                                                         1            \n",
       "200003                                                         0            \n",
       "200006                                                         0            \n",
       "200007                                                         0            \n",
       "200009                                                         0            \n",
       "...                                                          ...            \n",
       "299987                                                         0            \n",
       "299992                                                         0            \n",
       "299993                                                         0            \n",
       "299995                                                         0            \n",
       "299999                                                         0            \n",
       "\n",
       "HCUP_CCS_2015  Other liver diseases  Other lower respiratory disease  \\\n",
       "ICUSTAY_ID                                                             \n",
       "200001                            0                                0   \n",
       "200003                            0                                0   \n",
       "200006                            0                                0   \n",
       "200007                            0                                0   \n",
       "200009                            0                                0   \n",
       "...                             ...                              ...   \n",
       "299987                            0                                0   \n",
       "299992                            0                                0   \n",
       "299993                            0                                0   \n",
       "299995                            0                                0   \n",
       "299999                            0                                0   \n",
       "\n",
       "HCUP_CCS_2015  Other upper respiratory disease  \\\n",
       "ICUSTAY_ID                                       \n",
       "200001                                       0   \n",
       "200003                                       0   \n",
       "200006                                       0   \n",
       "200007                                       0   \n",
       "200009                                       0   \n",
       "...                                        ...   \n",
       "299987                                       0   \n",
       "299992                                       0   \n",
       "299993                                       0   \n",
       "299995                                       1   \n",
       "299999                                       0   \n",
       "\n",
       "HCUP_CCS_2015  Pleurisy; pneumothorax; pulmonary collapse  \\\n",
       "ICUSTAY_ID                                                  \n",
       "200001                                                  0   \n",
       "200003                                                  0   \n",
       "200006                                                  0   \n",
       "200007                                                  0   \n",
       "200009                                                  0   \n",
       "...                                                   ...   \n",
       "299987                                                  0   \n",
       "299992                                                  0   \n",
       "299993                                                  0   \n",
       "299995                                                  0   \n",
       "299999                                                  0   \n",
       "\n",
       "HCUP_CCS_2015  Pneumonia (except that caused by tuberculosis or sexually transmitted disease)  \\\n",
       "ICUSTAY_ID                                                                                      \n",
       "200001                                                         0                                \n",
       "200003                                                         0                                \n",
       "200006                                                         0                                \n",
       "200007                                                         0                                \n",
       "200009                                                         0                                \n",
       "...                                                          ...                                \n",
       "299987                                                         0                                \n",
       "299992                                                         0                                \n",
       "299993                                                         0                                \n",
       "299995                                                         0                                \n",
       "299999                                                         0                                \n",
       "\n",
       "HCUP_CCS_2015  Respiratory failure; insufficiency; arrest (adult)  \\\n",
       "ICUSTAY_ID                                                          \n",
       "200001                                                         0    \n",
       "200003                                                         0    \n",
       "200006                                                         1    \n",
       "200007                                                         0    \n",
       "200009                                                         0    \n",
       "...                                                          ...    \n",
       "299987                                                         0    \n",
       "299992                                                         1    \n",
       "299993                                                         0    \n",
       "299995                                                         0    \n",
       "299999                                                         0    \n",
       "\n",
       "HCUP_CCS_2015  Septicemia (except in labor)  Shock  \n",
       "ICUSTAY_ID                                          \n",
       "200001                                    0      0  \n",
       "200003                                    1      0  \n",
       "200006                                    0      0  \n",
       "200007                                    0      0  \n",
       "200009                                    0      0  \n",
       "...                                     ...    ...  \n",
       "299987                                    0      0  \n",
       "299992                                    0      0  \n",
       "299993                                    0      0  \n",
       "299995                                    0      0  \n",
       "299999                                    0      0  \n",
       "\n",
       "[42276 rows x 25 columns]"
      ],
      "text/html": "<div>\n<style scoped>\n    .dataframe tbody tr th:only-of-type {\n        vertical-align: middle;\n    }\n\n    .dataframe tbody tr th {\n        vertical-align: top;\n    }\n\n    .dataframe thead th {\n        text-align: right;\n    }\n</style>\n<table border=\"1\" class=\"dataframe\">\n  <thead>\n    <tr style=\"text-align: right;\">\n      <th>HCUP_CCS_2015</th>\n      <th>Acute and unspecified renal failure</th>\n      <th>Acute cerebrovascular disease</th>\n      <th>Acute myocardial infarction</th>\n      <th>Cardiac dysrhythmias</th>\n      <th>Chronic kidney disease</th>\n      <th>Chronic obstructive pulmonary disease and bronchiectasis</th>\n      <th>Complications of surgical procedures or medical care</th>\n      <th>Conduction disorders</th>\n      <th>Congestive heart failure; nonhypertensive</th>\n      <th>Coronary atherosclerosis and other heart disease</th>\n      <th>...</th>\n      <th>Gastrointestinal hemorrhage</th>\n      <th>Hypertension with complications and secondary hypertension</th>\n      <th>Other liver diseases</th>\n      <th>Other lower respiratory disease</th>\n      <th>Other upper respiratory disease</th>\n      <th>Pleurisy; pneumothorax; pulmonary collapse</th>\n      <th>Pneumonia (except that caused by tuberculosis or sexually transmitted disease)</th>\n      <th>Respiratory failure; insufficiency; arrest (adult)</th>\n      <th>Septicemia (except in labor)</th>\n      <th>Shock</th>\n    </tr>\n    <tr>\n      <th>ICUSTAY_ID</th>\n      <th></th>\n      <th></th>\n      <th></th>\n      <th></th>\n      <th></th>\n      <th></th>\n      <th></th>\n      <th></th>\n      <th></th>\n      <th></th>\n      <th></th>\n      <th></th>\n      <th></th>\n      <th></th>\n      <th></th>\n      <th></th>\n      <th></th>\n      <th></th>\n      <th></th>\n      <th></th>\n      <th></th>\n    </tr>\n  </thead>\n  <tbody>\n    <tr>\n      <th>200001</th>\n      <td>0</td>\n      <td>0</td>\n      <td>0</td>\n      <td>1</td>\n      <td>1</td>\n      <td>0</td>\n      <td>0</td>\n      <td>0</td>\n      <td>1</td>\n      <td>0</td>\n      <td>...</td>\n      <td>0</td>\n      <td>1</td>\n      <td>0</td>\n      <td>0</td>\n      <td>0</td>\n      <td>0</td>\n      <td>0</td>\n      <td>0</td>\n      <td>0</td>\n      <td>0</td>\n    </tr>\n    <tr>\n      <th>200003</th>\n      <td>0</td>\n      <td>0</td>\n      <td>0</td>\n      <td>0</td>\n      <td>0</td>\n      <td>0</td>\n      <td>0</td>\n      <td>0</td>\n      <td>0</td>\n      <td>0</td>\n      <td>...</td>\n      <td>0</td>\n      <td>0</td>\n      <td>0</td>\n      <td>0</td>\n      <td>0</td>\n      <td>0</td>\n      <td>0</td>\n      <td>0</td>\n      <td>1</td>\n      <td>0</td>\n    </tr>\n    <tr>\n      <th>200006</th>\n      <td>0</td>\n      <td>0</td>\n      <td>0</td>\n      <td>0</td>\n      <td>0</td>\n      <td>0</td>\n      <td>1</td>\n      <td>0</td>\n      <td>0</td>\n      <td>0</td>\n      <td>...</td>\n      <td>0</td>\n      <td>0</td>\n      <td>0</td>\n      <td>0</td>\n      <td>0</td>\n      <td>0</td>\n      <td>0</td>\n      <td>1</td>\n      <td>0</td>\n      <td>0</td>\n    </tr>\n    <tr>\n      <th>200007</th>\n      <td>0</td>\n      <td>0</td>\n      <td>1</td>\n      <td>1</td>\n      <td>0</td>\n      <td>0</td>\n      <td>1</td>\n      <td>0</td>\n      <td>0</td>\n      <td>1</td>\n      <td>...</td>\n      <td>0</td>\n      <td>0</td>\n      <td>0</td>\n      <td>0</td>\n      <td>0</td>\n      <td>0</td>\n      <td>0</td>\n      <td>0</td>\n      <td>0</td>\n      <td>0</td>\n    </tr>\n    <tr>\n      <th>200009</th>\n      <td>0</td>\n      <td>0</td>\n      <td>0</td>\n      <td>0</td>\n      <td>0</td>\n      <td>0</td>\n      <td>1</td>\n      <td>0</td>\n      <td>0</td>\n      <td>0</td>\n      <td>...</td>\n      <td>0</td>\n      <td>0</td>\n      <td>0</td>\n      <td>0</td>\n      <td>0</td>\n      <td>0</td>\n      <td>0</td>\n      <td>0</td>\n      <td>0</td>\n      <td>0</td>\n    </tr>\n    <tr>\n      <th>...</th>\n      <td>...</td>\n      <td>...</td>\n      <td>...</td>\n      <td>...</td>\n      <td>...</td>\n      <td>...</td>\n      <td>...</td>\n      <td>...</td>\n      <td>...</td>\n      <td>...</td>\n      <td>...</td>\n      <td>...</td>\n      <td>...</td>\n      <td>...</td>\n      <td>...</td>\n      <td>...</td>\n      <td>...</td>\n      <td>...</td>\n      <td>...</td>\n      <td>...</td>\n      <td>...</td>\n    </tr>\n    <tr>\n      <th>299987</th>\n      <td>0</td>\n      <td>0</td>\n      <td>0</td>\n      <td>0</td>\n      <td>0</td>\n      <td>1</td>\n      <td>0</td>\n      <td>0</td>\n      <td>1</td>\n      <td>1</td>\n      <td>...</td>\n      <td>0</td>\n      <td>0</td>\n      <td>0</td>\n      <td>0</td>\n      <td>0</td>\n      <td>0</td>\n      <td>0</td>\n      <td>0</td>\n      <td>0</td>\n      <td>0</td>\n    </tr>\n    <tr>\n      <th>299992</th>\n      <td>0</td>\n      <td>0</td>\n      <td>0</td>\n      <td>0</td>\n      <td>0</td>\n      <td>0</td>\n      <td>0</td>\n      <td>0</td>\n      <td>0</td>\n      <td>0</td>\n      <td>...</td>\n      <td>0</td>\n      <td>0</td>\n      <td>0</td>\n      <td>0</td>\n      <td>0</td>\n      <td>0</td>\n      <td>0</td>\n      <td>1</td>\n      <td>0</td>\n      <td>0</td>\n    </tr>\n    <tr>\n      <th>299993</th>\n      <td>0</td>\n      <td>0</td>\n      <td>0</td>\n      <td>0</td>\n      <td>0</td>\n      <td>0</td>\n      <td>0</td>\n      <td>0</td>\n      <td>0</td>\n      <td>0</td>\n      <td>...</td>\n      <td>0</td>\n      <td>0</td>\n      <td>0</td>\n      <td>0</td>\n      <td>0</td>\n      <td>0</td>\n      <td>0</td>\n      <td>0</td>\n      <td>0</td>\n      <td>0</td>\n    </tr>\n    <tr>\n      <th>299995</th>\n      <td>0</td>\n      <td>0</td>\n      <td>0</td>\n      <td>0</td>\n      <td>0</td>\n      <td>0</td>\n      <td>0</td>\n      <td>0</td>\n      <td>0</td>\n      <td>0</td>\n      <td>...</td>\n      <td>0</td>\n      <td>0</td>\n      <td>0</td>\n      <td>0</td>\n      <td>1</td>\n      <td>0</td>\n      <td>0</td>\n      <td>0</td>\n      <td>0</td>\n      <td>0</td>\n    </tr>\n    <tr>\n      <th>299999</th>\n      <td>0</td>\n      <td>0</td>\n      <td>0</td>\n      <td>0</td>\n      <td>0</td>\n      <td>0</td>\n      <td>0</td>\n      <td>0</td>\n      <td>0</td>\n      <td>0</td>\n      <td>...</td>\n      <td>0</td>\n      <td>0</td>\n      <td>0</td>\n      <td>0</td>\n      <td>0</td>\n      <td>0</td>\n      <td>0</td>\n      <td>0</td>\n      <td>0</td>\n      <td>0</td>\n    </tr>\n  </tbody>\n</table>\n<p>42276 rows × 25 columns</p>\n</div>"
     },
     "metadata": {},
     "execution_count": 76
    }
   ],
   "source": [
    "phenotypes_"
   ]
  },
  {
   "cell_type": "code",
   "execution_count": 77,
   "metadata": {},
   "outputs": [],
   "source": [
    "import csv\n",
    "phenotypes_.to_csv(os.path.join(output_path, 'phenotype_labels.csv'),\n",
    "                                                      index=False, quoting=csv.QUOTE_NONNUMERIC)"
   ]
  },
  {
   "source": [
    "# 为每个病人生成一个文件夹"
   ],
   "cell_type": "markdown",
   "metadata": {}
  },
  {
   "cell_type": "code",
   "execution_count": 57,
   "metadata": {},
   "outputs": [
    {
     "output_type": "stream",
     "name": "stdout",
     "text": [
      "33798\n3\n99999\n33798\n46476\n"
     ]
    }
   ],
   "source": [
    "# 得到目前ICUSTAYS的所有病人ID\n",
    "subjects = icustays.SUBJECT_ID.unique()\n",
    "\"\"\" for s in subjects:\n",
    "    if s==2 :\n",
    "        print('*****') \"\"\"\n",
    "print(len(subjects))\n",
    "print(min(subjects))\n",
    "print(max(subjects))\n",
    "print(len(icustays.SUBJECT_ID.unique()))\n",
    "print(len(stays.SUBJECT_ID.unique()))"
   ]
  },
  {
   "cell_type": "code",
   "execution_count": 58,
   "metadata": {},
   "outputs": [],
   "source": [
    "from tqdm import tqdm\n",
    "\n",
    "def break_up_stays_by_subject(stays, output_path, subjects=subjects):\n",
    "    # 得到目前ICUSTAYS的所有病人ID\n",
    "    subjects = stays.SUBJECT_ID.unique() if subjects is None else subjects\n",
    "    nb_subjects = subjects.shape[0]\n",
    "    # 为每一个病人生成一个文件夹\n",
    "    for subject_id in tqdm(subjects, total=nb_subjects, desc='Breaking up stays by subjects'):\n",
    "        dn = os.path.join(output_path, str(subject_id))\n",
    "        try:\n",
    "            os.makedirs(dn)\n",
    "        except:\n",
    "            pass\n",
    "        # 取出该病人的所有ICU记录\n",
    "        # 按照进入ICU的时间排序\n",
    "        stays[stays.SUBJECT_ID == subject_id].sort_values(by='INTIME').to_csv(os.path.join(dn, 'stays.csv'),\n",
    "                                                                              index=False)"
   ]
  },
  {
   "cell_type": "code",
   "execution_count": 56,
   "metadata": {},
   "outputs": [],
   "source": [
    "def break_up_diagnoses_by_subject(diagnoses, output_path, subjects=subjects):\n",
    "    subjects = diagnoses.SUBJECT_ID.unique() if subjects is None else subjects\n",
    "    nb_subjects = subjects.shape[0]\n",
    "    for subject_id in tqdm(subjects, total=nb_subjects, desc='Breaking up diagnoses by subjects'):\n",
    "        dn = os.path.join(output_path, str(subject_id))\n",
    "        try:\n",
    "            os.makedirs(dn)\n",
    "        except:\n",
    "            pass\n",
    "\n",
    "        diagnoses[diagnoses.SUBJECT_ID == subject_id].sort_values(by=['ICUSTAY_ID', 'SEQ_NUM'])\\\n",
    "                                                     .to_csv(os.path.join(dn, 'diagnoses.csv'), index=False)\n"
   ]
  },
  {
   "cell_type": "code",
   "execution_count": 59,
   "metadata": {},
   "outputs": [
    {
     "output_type": "stream",
     "name": "stderr",
     "text": [
      "Breaking up stays by subjects: 100%|██████████| 33798/33798 [04:39<00:00, 120.75it/s]\n",
      "Breaking up diagnoses by subjects: 100%|██████████| 33798/33798 [05:08<00:00, 109.47it/s]\n"
     ]
    }
   ],
   "source": [
    "break_up_stays_by_subject(icustays, output_path, subjects=subjects)\n",
    "break_up_diagnoses_by_subject(diagnoses, output_path, subjects=subjects)"
   ]
  },
  {
   "source": [
    "# CHARTEVENTS、 LABEVENTS、 OUTPUTEVENTS表格处理\n",
    "最后主要得到 'SUBJECT_ID', 'HADM_ID', 'ICUSTAY_ID', 'CHARTTIME', 'ITEMID', 'VALUE', 'VALUEUOM'\n",
    "分别表示：病人ID、住院ID、ICU ID、测量时间、测量项ID、测量值、测量值的单位"
   ],
   "cell_type": "markdown",
   "metadata": {}
  },
  {
   "source": [
    "### 我自己使用pandas写的三个表格的处理"
   ],
   "cell_type": "markdown",
   "metadata": {}
  },
  {
   "cell_type": "code",
   "execution_count": 60,
   "metadata": {},
   "outputs": [],
   "source": [
    "obs_header = ['SUBJECT_ID', 'HADM_ID', 'ICUSTAY_ID', 'CHARTTIME', 'ITEMID', 'VALUE', 'VALUEUOM']\n",
    "event_tables=['CHARTEVENTS', 'LABEVENTS', 'OUTPUTEVENTS']"
   ]
  },
  {
   "cell_type": "code",
   "execution_count": 61,
   "metadata": {},
   "outputs": [
    {
     "output_type": "error",
     "ename": "KeyboardInterrupt",
     "evalue": "",
     "traceback": [
      "\u001b[1;31m---------------------------------------------------------------------------\u001b[0m",
      "\u001b[1;31mKeyboardInterrupt\u001b[0m                         Traceback (most recent call last)",
      "\u001b[1;32mH:\\envs\\normal\\lib\\site-packages\\pandas\\io\\parsers.py\u001b[0m in \u001b[0;36mread\u001b[1;34m(self, nrows)\u001b[0m\n\u001b[0;32m   2156\u001b[0m         \u001b[1;32mtry\u001b[0m\u001b[1;33m:\u001b[0m\u001b[1;33m\u001b[0m\u001b[1;33m\u001b[0m\u001b[0m\n\u001b[1;32m-> 2157\u001b[1;33m             \u001b[0mdata\u001b[0m \u001b[1;33m=\u001b[0m \u001b[0mself\u001b[0m\u001b[1;33m.\u001b[0m\u001b[0m_reader\u001b[0m\u001b[1;33m.\u001b[0m\u001b[0mread\u001b[0m\u001b[1;33m(\u001b[0m\u001b[0mnrows\u001b[0m\u001b[1;33m)\u001b[0m\u001b[1;33m\u001b[0m\u001b[1;33m\u001b[0m\u001b[0m\n\u001b[0m\u001b[0;32m   2158\u001b[0m         \u001b[1;32mexcept\u001b[0m \u001b[0mStopIteration\u001b[0m\u001b[1;33m:\u001b[0m\u001b[1;33m\u001b[0m\u001b[1;33m\u001b[0m\u001b[0m\n",
      "\u001b[1;32mpandas\\_libs\\parsers.pyx\u001b[0m in \u001b[0;36mpandas._libs.parsers.TextReader.read\u001b[1;34m()\u001b[0m\n",
      "\u001b[1;32mpandas\\_libs\\parsers.pyx\u001b[0m in \u001b[0;36mpandas._libs.parsers.TextReader._read_low_memory\u001b[1;34m()\u001b[0m\n",
      "\u001b[1;32mpandas\\_libs\\parsers.pyx\u001b[0m in \u001b[0;36mpandas._libs.parsers.TextReader._read_rows\u001b[1;34m()\u001b[0m\n",
      "\u001b[1;32mpandas\\_libs\\parsers.pyx\u001b[0m in \u001b[0;36mpandas._libs.parsers.TextReader._convert_column_data\u001b[1;34m()\u001b[0m\n",
      "\u001b[1;32mpandas\\_libs\\parsers.pyx\u001b[0m in \u001b[0;36mpandas._libs.parsers.TextReader._convert_tokens\u001b[1;34m()\u001b[0m\n",
      "\u001b[1;32mpandas\\_libs\\parsers.pyx\u001b[0m in \u001b[0;36mpandas._libs.parsers.TextReader._convert_with_dtype\u001b[1;34m()\u001b[0m\n",
      "\u001b[1;32mH:\\envs\\normal\\lib\\site-packages\\pandas\\core\\dtypes\\common.py\u001b[0m in \u001b[0;36mis_categorical_dtype\u001b[1;34m(arr_or_dtype)\u001b[0m\n\u001b[0;32m    529\u001b[0m \u001b[1;33m\u001b[0m\u001b[0m\n\u001b[1;32m--> 530\u001b[1;33m \u001b[1;32mdef\u001b[0m \u001b[0mis_categorical_dtype\u001b[0m\u001b[1;33m(\u001b[0m\u001b[0marr_or_dtype\u001b[0m\u001b[1;33m)\u001b[0m \u001b[1;33m->\u001b[0m \u001b[0mbool\u001b[0m\u001b[1;33m:\u001b[0m\u001b[1;33m\u001b[0m\u001b[1;33m\u001b[0m\u001b[0m\n\u001b[0m\u001b[0;32m    531\u001b[0m     \"\"\"\n",
      "\u001b[1;31mKeyboardInterrupt\u001b[0m: ",
      "\nDuring handling of the above exception, another exception occurred:\n",
      "\u001b[1;31mKeyboardInterrupt\u001b[0m                         Traceback (most recent call last)",
      "\u001b[1;32m<ipython-input-61-54032c363619>\u001b[0m in \u001b[0;36m<module>\u001b[1;34m\u001b[0m\n\u001b[1;32m----> 1\u001b[1;33m \u001b[0mchartevents\u001b[0m \u001b[1;33m=\u001b[0m \u001b[0mpd\u001b[0m\u001b[1;33m.\u001b[0m\u001b[0mread_csv\u001b[0m\u001b[1;33m(\u001b[0m\u001b[0mos\u001b[0m\u001b[1;33m.\u001b[0m\u001b[0mpath\u001b[0m\u001b[1;33m.\u001b[0m\u001b[0mjoin\u001b[0m\u001b[1;33m(\u001b[0m\u001b[0mmimic3_path\u001b[0m\u001b[1;33m,\u001b[0m \u001b[1;34m'CHARTEVENTS.csv'\u001b[0m\u001b[1;33m)\u001b[0m\u001b[1;33m)\u001b[0m\u001b[1;33m\u001b[0m\u001b[1;33m\u001b[0m\u001b[0m\n\u001b[0m\u001b[0;32m      2\u001b[0m \u001b[0mlabevents\u001b[0m \u001b[1;33m=\u001b[0m \u001b[0mpd\u001b[0m\u001b[1;33m.\u001b[0m\u001b[0mread_csv\u001b[0m\u001b[1;33m(\u001b[0m\u001b[0mos\u001b[0m\u001b[1;33m.\u001b[0m\u001b[0mpath\u001b[0m\u001b[1;33m.\u001b[0m\u001b[0mjoin\u001b[0m\u001b[1;33m(\u001b[0m\u001b[0mmimic3_path\u001b[0m\u001b[1;33m,\u001b[0m \u001b[1;34m'LABEVENTS.csv'\u001b[0m\u001b[1;33m)\u001b[0m\u001b[1;33m)\u001b[0m\u001b[1;33m\u001b[0m\u001b[1;33m\u001b[0m\u001b[0m\n\u001b[0;32m      3\u001b[0m \u001b[0moutputevents\u001b[0m \u001b[1;33m=\u001b[0m \u001b[0mpd\u001b[0m\u001b[1;33m.\u001b[0m\u001b[0mread_csv\u001b[0m\u001b[1;33m(\u001b[0m\u001b[0mos\u001b[0m\u001b[1;33m.\u001b[0m\u001b[0mpath\u001b[0m\u001b[1;33m.\u001b[0m\u001b[0mjoin\u001b[0m\u001b[1;33m(\u001b[0m\u001b[0mmimic3_path\u001b[0m\u001b[1;33m,\u001b[0m \u001b[1;34m'OUTPUTEVENTS.csv'\u001b[0m\u001b[1;33m)\u001b[0m\u001b[1;33m)\u001b[0m\u001b[1;33m\u001b[0m\u001b[1;33m\u001b[0m\u001b[0m\n",
      "\u001b[1;32mH:\\envs\\normal\\lib\\site-packages\\pandas\\io\\parsers.py\u001b[0m in \u001b[0;36mread_csv\u001b[1;34m(filepath_or_buffer, sep, delimiter, header, names, index_col, usecols, squeeze, prefix, mangle_dupe_cols, dtype, engine, converters, true_values, false_values, skipinitialspace, skiprows, skipfooter, nrows, na_values, keep_default_na, na_filter, verbose, skip_blank_lines, parse_dates, infer_datetime_format, keep_date_col, date_parser, dayfirst, cache_dates, iterator, chunksize, compression, thousands, decimal, lineterminator, quotechar, quoting, doublequote, escapechar, comment, encoding, dialect, error_bad_lines, warn_bad_lines, delim_whitespace, low_memory, memory_map, float_precision)\u001b[0m\n\u001b[0;32m    686\u001b[0m     )\n\u001b[0;32m    687\u001b[0m \u001b[1;33m\u001b[0m\u001b[0m\n\u001b[1;32m--> 688\u001b[1;33m     \u001b[1;32mreturn\u001b[0m \u001b[0m_read\u001b[0m\u001b[1;33m(\u001b[0m\u001b[0mfilepath_or_buffer\u001b[0m\u001b[1;33m,\u001b[0m \u001b[0mkwds\u001b[0m\u001b[1;33m)\u001b[0m\u001b[1;33m\u001b[0m\u001b[1;33m\u001b[0m\u001b[0m\n\u001b[0m\u001b[0;32m    689\u001b[0m \u001b[1;33m\u001b[0m\u001b[0m\n\u001b[0;32m    690\u001b[0m \u001b[1;33m\u001b[0m\u001b[0m\n",
      "\u001b[1;32mH:\\envs\\normal\\lib\\site-packages\\pandas\\io\\parsers.py\u001b[0m in \u001b[0;36m_read\u001b[1;34m(filepath_or_buffer, kwds)\u001b[0m\n\u001b[0;32m    458\u001b[0m \u001b[1;33m\u001b[0m\u001b[0m\n\u001b[0;32m    459\u001b[0m     \u001b[1;32mtry\u001b[0m\u001b[1;33m:\u001b[0m\u001b[1;33m\u001b[0m\u001b[1;33m\u001b[0m\u001b[0m\n\u001b[1;32m--> 460\u001b[1;33m         \u001b[0mdata\u001b[0m \u001b[1;33m=\u001b[0m \u001b[0mparser\u001b[0m\u001b[1;33m.\u001b[0m\u001b[0mread\u001b[0m\u001b[1;33m(\u001b[0m\u001b[0mnrows\u001b[0m\u001b[1;33m)\u001b[0m\u001b[1;33m\u001b[0m\u001b[1;33m\u001b[0m\u001b[0m\n\u001b[0m\u001b[0;32m    461\u001b[0m     \u001b[1;32mfinally\u001b[0m\u001b[1;33m:\u001b[0m\u001b[1;33m\u001b[0m\u001b[1;33m\u001b[0m\u001b[0m\n\u001b[0;32m    462\u001b[0m         \u001b[0mparser\u001b[0m\u001b[1;33m.\u001b[0m\u001b[0mclose\u001b[0m\u001b[1;33m(\u001b[0m\u001b[1;33m)\u001b[0m\u001b[1;33m\u001b[0m\u001b[1;33m\u001b[0m\u001b[0m\n",
      "\u001b[1;32mH:\\envs\\normal\\lib\\site-packages\\pandas\\io\\parsers.py\u001b[0m in \u001b[0;36mread\u001b[1;34m(self, nrows)\u001b[0m\n\u001b[0;32m   1196\u001b[0m     \u001b[1;32mdef\u001b[0m \u001b[0mread\u001b[0m\u001b[1;33m(\u001b[0m\u001b[0mself\u001b[0m\u001b[1;33m,\u001b[0m \u001b[0mnrows\u001b[0m\u001b[1;33m=\u001b[0m\u001b[1;32mNone\u001b[0m\u001b[1;33m)\u001b[0m\u001b[1;33m:\u001b[0m\u001b[1;33m\u001b[0m\u001b[1;33m\u001b[0m\u001b[0m\n\u001b[0;32m   1197\u001b[0m         \u001b[0mnrows\u001b[0m \u001b[1;33m=\u001b[0m \u001b[0m_validate_integer\u001b[0m\u001b[1;33m(\u001b[0m\u001b[1;34m\"nrows\"\u001b[0m\u001b[1;33m,\u001b[0m \u001b[0mnrows\u001b[0m\u001b[1;33m)\u001b[0m\u001b[1;33m\u001b[0m\u001b[1;33m\u001b[0m\u001b[0m\n\u001b[1;32m-> 1198\u001b[1;33m         \u001b[0mret\u001b[0m \u001b[1;33m=\u001b[0m \u001b[0mself\u001b[0m\u001b[1;33m.\u001b[0m\u001b[0m_engine\u001b[0m\u001b[1;33m.\u001b[0m\u001b[0mread\u001b[0m\u001b[1;33m(\u001b[0m\u001b[0mnrows\u001b[0m\u001b[1;33m)\u001b[0m\u001b[1;33m\u001b[0m\u001b[1;33m\u001b[0m\u001b[0m\n\u001b[0m\u001b[0;32m   1199\u001b[0m \u001b[1;33m\u001b[0m\u001b[0m\n\u001b[0;32m   1200\u001b[0m         \u001b[1;31m# May alter columns / col_dict\u001b[0m\u001b[1;33m\u001b[0m\u001b[1;33m\u001b[0m\u001b[1;33m\u001b[0m\u001b[0m\n",
      "\u001b[1;32mH:\\envs\\normal\\lib\\site-packages\\pandas\\io\\parsers.py\u001b[0m in \u001b[0;36mread\u001b[1;34m(self, nrows)\u001b[0m\n\u001b[0;32m   2156\u001b[0m         \u001b[1;32mtry\u001b[0m\u001b[1;33m:\u001b[0m\u001b[1;33m\u001b[0m\u001b[1;33m\u001b[0m\u001b[0m\n\u001b[0;32m   2157\u001b[0m             \u001b[0mdata\u001b[0m \u001b[1;33m=\u001b[0m \u001b[0mself\u001b[0m\u001b[1;33m.\u001b[0m\u001b[0m_reader\u001b[0m\u001b[1;33m.\u001b[0m\u001b[0mread\u001b[0m\u001b[1;33m(\u001b[0m\u001b[0mnrows\u001b[0m\u001b[1;33m)\u001b[0m\u001b[1;33m\u001b[0m\u001b[1;33m\u001b[0m\u001b[0m\n\u001b[1;32m-> 2158\u001b[1;33m         \u001b[1;32mexcept\u001b[0m \u001b[0mStopIteration\u001b[0m\u001b[1;33m:\u001b[0m\u001b[1;33m\u001b[0m\u001b[1;33m\u001b[0m\u001b[0m\n\u001b[0m\u001b[0;32m   2159\u001b[0m             \u001b[1;32mif\u001b[0m \u001b[0mself\u001b[0m\u001b[1;33m.\u001b[0m\u001b[0m_first_chunk\u001b[0m\u001b[1;33m:\u001b[0m\u001b[1;33m\u001b[0m\u001b[1;33m\u001b[0m\u001b[0m\n\u001b[0;32m   2160\u001b[0m                 \u001b[0mself\u001b[0m\u001b[1;33m.\u001b[0m\u001b[0m_first_chunk\u001b[0m \u001b[1;33m=\u001b[0m \u001b[1;32mFalse\u001b[0m\u001b[1;33m\u001b[0m\u001b[1;33m\u001b[0m\u001b[0m\n",
      "\u001b[1;31mKeyboardInterrupt\u001b[0m: "
     ]
    }
   ],
   "source": [
    "chartevents = pd.read_csv(os.path.join(mimic3_path, 'CHARTEVENTS.csv'))"
   ]
  },
  {
   "cell_type": "code",
   "execution_count": 62,
   "metadata": {},
   "outputs": [],
   "source": [
    "labevents = pd.read_csv(os.path.join(mimic3_path, 'LABEVENTS.csv'))\n",
    "outputevents = pd.read_csv(os.path.join(mimic3_path, 'OUTPUTEVENTS.csv'))"
   ]
  },
  {
   "cell_type": "code",
   "execution_count": 66,
   "metadata": {},
   "outputs": [
    {
     "output_type": "stream",
     "name": "stdout",
     "text": [
      "            ROW_ID  SUBJECT_ID   HADM_ID  ITEMID            CHARTTIME VALUE  \\\n0              281           3       NaN   50820  2101-10-12 16:07:00  7.39   \n1              282           3       NaN   50800  2101-10-12 18:17:00   ART   \n2              283           3       NaN   50802  2101-10-12 18:17:00    -1   \n3              284           3       NaN   50804  2101-10-12 18:17:00    22   \n4              285           3       NaN   50808  2101-10-12 18:17:00  0.93   \n...            ...         ...       ...     ...                  ...   ...   \n27854050  27428435       96443  103219.0   50882  2109-12-30 01:40:00    26   \n27854051  27428436       96443  103219.0   50885  2109-12-30 01:40:00   2.1   \n27854052  27428437       96443  103219.0   50902  2109-12-30 01:40:00    97   \n27854053  27428438       96443  103219.0   50911  2109-12-30 01:40:00     2   \n27854054  27428439       96443  103219.0   50912  2109-12-30 01:40:00   1.6   \n\n          VALUENUM VALUEUOM      FLAG ICUSTAY_ID  \n0             7.39    units       NaN             \n1              NaN      NaN       NaN             \n2            -1.00    mEq/L       NaN             \n3            22.00    mEq/L       NaN             \n4             0.93   mmol/L  abnormal             \n...            ...      ...       ...        ...  \n27854050     26.00    mEq/L       NaN             \n27854051      2.10    mg/dL  abnormal             \n27854052     97.00    mEq/L       NaN             \n27854053      2.00    ng/mL       NaN             \n27854054      1.60    mg/dL  abnormal             \n\n[27854055 rows x 10 columns] 0          225765.0\n1          225765.0\n2          225765.0\n3          225765.0\n4          225765.0\n             ...   \n4349213    276251.0\n4349214    276251.0\n4349215    276251.0\n4349216    276251.0\n4349217    276251.0\nName: ICUSTAY_ID, Length: 4349218, dtype: float64\n"
     ]
    }
   ],
   "source": [
    "if 'ICUSTAY_ID' not in labevents:\n",
    "    labevents['ICUSTAY_ID'] = ''\n",
    "if 'ICUSTAY_ID' not in outputevents:\n",
    "    outputevents['ICUSTAY_ID'] = ''\n",
    "print(labevents, outputevents['ICUSTAY_ID'])"
   ]
  },
  {
   "cell_type": "code",
   "execution_count": 64,
   "metadata": {},
   "outputs": [
    {
     "output_type": "execute_result",
     "data": {
      "text/plain": [
       "      SUBJECT_ID  HADM_ID ICUSTAY_ID            CHARTTIME  ITEMID   VALUE  \\\n",
       "0              3      NaN             2101-10-12 16:07:00   50820    7.39   \n",
       "1              3      NaN             2101-10-12 18:17:00   50800     ART   \n",
       "2              3      NaN             2101-10-12 18:17:00   50802      -1   \n",
       "3              3      NaN             2101-10-12 18:17:00   50804      22   \n",
       "4              3      NaN             2101-10-12 18:17:00   50808    0.93   \n",
       "...          ...      ...        ...                  ...     ...     ...   \n",
       "2164           3      NaN             2101-12-20 12:00:00   51265     453   \n",
       "2165           3      NaN             2101-12-20 12:00:00   51266    HIGH   \n",
       "2166           3      NaN             2101-12-20 12:00:00   51267  NORMAL   \n",
       "2167           3      NaN             2101-12-20 12:00:00   51268  NORMAL   \n",
       "2168           3      NaN             2101-12-20 12:00:00   51274    13.2   \n",
       "\n",
       "     VALUEUOM  \n",
       "0       units  \n",
       "1         NaN  \n",
       "2       mEq/L  \n",
       "3       mEq/L  \n",
       "4      mmol/L  \n",
       "...       ...  \n",
       "2164     K/uL  \n",
       "2165      NaN  \n",
       "2166      NaN  \n",
       "2167      NaN  \n",
       "2168      sec  \n",
       "\n",
       "[1716 rows x 7 columns]"
      ],
      "text/html": "<div>\n<style scoped>\n    .dataframe tbody tr th:only-of-type {\n        vertical-align: middle;\n    }\n\n    .dataframe tbody tr th {\n        vertical-align: top;\n    }\n\n    .dataframe thead th {\n        text-align: right;\n    }\n</style>\n<table border=\"1\" class=\"dataframe\">\n  <thead>\n    <tr style=\"text-align: right;\">\n      <th></th>\n      <th>SUBJECT_ID</th>\n      <th>HADM_ID</th>\n      <th>ICUSTAY_ID</th>\n      <th>CHARTTIME</th>\n      <th>ITEMID</th>\n      <th>VALUE</th>\n      <th>VALUEUOM</th>\n    </tr>\n  </thead>\n  <tbody>\n    <tr>\n      <th>0</th>\n      <td>3</td>\n      <td>NaN</td>\n      <td></td>\n      <td>2101-10-12 16:07:00</td>\n      <td>50820</td>\n      <td>7.39</td>\n      <td>units</td>\n    </tr>\n    <tr>\n      <th>1</th>\n      <td>3</td>\n      <td>NaN</td>\n      <td></td>\n      <td>2101-10-12 18:17:00</td>\n      <td>50800</td>\n      <td>ART</td>\n      <td>NaN</td>\n    </tr>\n    <tr>\n      <th>2</th>\n      <td>3</td>\n      <td>NaN</td>\n      <td></td>\n      <td>2101-10-12 18:17:00</td>\n      <td>50802</td>\n      <td>-1</td>\n      <td>mEq/L</td>\n    </tr>\n    <tr>\n      <th>3</th>\n      <td>3</td>\n      <td>NaN</td>\n      <td></td>\n      <td>2101-10-12 18:17:00</td>\n      <td>50804</td>\n      <td>22</td>\n      <td>mEq/L</td>\n    </tr>\n    <tr>\n      <th>4</th>\n      <td>3</td>\n      <td>NaN</td>\n      <td></td>\n      <td>2101-10-12 18:17:00</td>\n      <td>50808</td>\n      <td>0.93</td>\n      <td>mmol/L</td>\n    </tr>\n    <tr>\n      <th>...</th>\n      <td>...</td>\n      <td>...</td>\n      <td>...</td>\n      <td>...</td>\n      <td>...</td>\n      <td>...</td>\n      <td>...</td>\n    </tr>\n    <tr>\n      <th>2164</th>\n      <td>3</td>\n      <td>NaN</td>\n      <td></td>\n      <td>2101-12-20 12:00:00</td>\n      <td>51265</td>\n      <td>453</td>\n      <td>K/uL</td>\n    </tr>\n    <tr>\n      <th>2165</th>\n      <td>3</td>\n      <td>NaN</td>\n      <td></td>\n      <td>2101-12-20 12:00:00</td>\n      <td>51266</td>\n      <td>HIGH</td>\n      <td>NaN</td>\n    </tr>\n    <tr>\n      <th>2166</th>\n      <td>3</td>\n      <td>NaN</td>\n      <td></td>\n      <td>2101-12-20 12:00:00</td>\n      <td>51267</td>\n      <td>NORMAL</td>\n      <td>NaN</td>\n    </tr>\n    <tr>\n      <th>2167</th>\n      <td>3</td>\n      <td>NaN</td>\n      <td></td>\n      <td>2101-12-20 12:00:00</td>\n      <td>51268</td>\n      <td>NORMAL</td>\n      <td>NaN</td>\n    </tr>\n    <tr>\n      <th>2168</th>\n      <td>3</td>\n      <td>NaN</td>\n      <td></td>\n      <td>2101-12-20 12:00:00</td>\n      <td>51274</td>\n      <td>13.2</td>\n      <td>sec</td>\n    </tr>\n  </tbody>\n</table>\n<p>1716 rows × 7 columns</p>\n</div>"
     },
     "metadata": {},
     "execution_count": 64
    }
   ],
   "source": [
    "fn = os.path.join(dn, 'events.csv')\n",
    "\n",
    "mask_lab = labevents['SUBJECT_ID'] == 3\n",
    "mask_out = outputevents['SUBJECT_ID'] == 3\n",
    "\n",
    "lab = labevents[mask_lab][obs_header]\n",
    "out = outputevents[mask_lab][obs_header]\n",
    "lab.to_csv()"
   ]
  },
  {
   "cell_type": "code",
   "execution_count": null,
   "metadata": {},
   "outputs": [],
   "source": [
    "for  s in subjects:\n",
    "    dn = os.path.join(output_path, str(s))\n",
    "    try:\n",
    "        os.makedirs(dn)\n",
    "    except:\n",
    "        pass\n",
    "    fn = os.path.join(dn, 'events.csv')\n",
    "    \n",
    "    mask_lab = labevents['SUBJECT_ID'] == s\n",
    "    mask_out = outputevents['SUBJECT_ID'] == s\n",
    "\n",
    "    lab = labevents[mask_lab][obs_header]\n",
    "    out = outputevents[mask_lab][obs_header]\n",
    "    lab.to_csv()\n"
   ]
  },
  {
   "source": [
    "### 下面的处理太费时，没办法只能依靠pandas来处理"
   ],
   "cell_type": "markdown",
   "metadata": {}
  },
  {
   "cell_type": "code",
   "execution_count": 129,
   "metadata": {},
   "outputs": [],
   "source": [
    "\n",
    "def read_events_table_and_break_up_by_subject(mimic3_path, table, output_path,\n",
    "                                              items_to_keep=None, subjects_to_keep=None):\n",
    "    obs_header = ['SUBJECT_ID', 'HADM_ID', 'ICUSTAY_ID', 'CHARTTIME', 'ITEMID', 'VALUE', 'VALUEUOM']\n",
    "    if items_to_keep is not None:\n",
    "        items_to_keep = set([str(s) for s in items_to_keep])\n",
    "    if subjects_to_keep is not None:\n",
    "        subjects_to_keep = set([str(s) for s in subjects_to_keep])\n",
    "\n",
    "    class DataStats(object):\n",
    "        def __init__(self):\n",
    "            self.curr_subject_id = ''\n",
    "            self.curr_obs = []\n",
    "\n",
    "    data_stats = DataStats()\n",
    "\n",
    "    def write_current_observations():\n",
    "        dn = os.path.join(output_path, str(data_stats.curr_subject_id))\n",
    "        try:\n",
    "            os.makedirs(dn)\n",
    "        except:\n",
    "            pass\n",
    "        fn = os.path.join(dn, 'events.csv')\n",
    "        if not os.path.exists(fn) or not os.path.isfile(fn):\n",
    "            f = open(fn, 'w')\n",
    "            f.write(','.join(obs_header) + '\\n')\n",
    "            f.close()\n",
    "        w = csv.DictWriter(open(fn, 'a'), fieldnames=obs_header, quoting=csv.QUOTE_MINIMAL)\n",
    "        w.writerows(data_stats.curr_obs)\n",
    "        data_stats.curr_obs = []\n",
    "\n",
    "    # nb_rows_dict是mimic iii的这三个表分别有多少行数据\n",
    "    nb_rows_dict = {'chartevents': 330712484, 'labevents': 27854056, 'outputevents': 4349219}\n",
    "    nb_rows = nb_rows_dict[table.lower()]\n",
    "\n",
    "    for row, row_no, _ in tqdm(read_events_table_by_row(mimic3_path, table), total=nb_rows,\n",
    "                                                        desc='Processing {} table'.format(table)):\n",
    "\n",
    "        # 判断是我们要处理的病人、以及是我们要处理的测量值\n",
    "        if (subjects_to_keep is not None) and (row['SUBJECT_ID'] not in subjects_to_keep):\n",
    "            continue\n",
    "        if (items_to_keep is not None) and (row['ITEMID'] not in items_to_keep):\n",
    "            continue\n",
    "\n",
    "        row_out = {'SUBJECT_ID': row['SUBJECT_ID'],\n",
    "                   'HADM_ID': row['HADM_ID'],\n",
    "                   'ICUSTAY_ID': '' if 'ICUSTAY_ID' not in row else row['ICUSTAY_ID'],\n",
    "                   'CHARTTIME': row['CHARTTIME'],\n",
    "                   'ITEMID': row['ITEMID'],\n",
    "                   'VALUE': row['VALUE'],\n",
    "                   'VALUEUOM': row['VALUEUOM']}\n",
    "        \"\"\" \n",
    "        如果当前处理的病人和上一次处理的病人不是同一个人时: \n",
    "        说明是新开始处理另外一个病人了，需要把上一个病人的信息写入文件\n",
    "        \"\"\"\n",
    "        if data_stats.curr_subject_id != '' and data_stats.curr_subject_id != row['SUBJECT_ID']:\n",
    "            write_current_observations()\n",
    "        # 否则就把数据直接添加到同一个病人的list里面\n",
    "        data_stats.curr_obs.append(row_out)\n",
    "        data_stats.curr_subject_id = row['SUBJECT_ID']\n",
    "\n",
    "    # 这是处理最后一个数据的时候\n",
    "    if data_stats.curr_subject_id != '':\n",
    "        write_current_observations()\n",
    "        \n"
   ]
  },
  {
   "cell_type": "code",
   "execution_count": 130,
   "metadata": {},
   "outputs": [
    {
     "output_type": "stream",
     "name": "stderr",
     "text": [
      "Processing CHARTEVENTS table:  16%|█▌        | 52515127/330712484 [1:20:30<7:06:28, 10872.02it/s]\n"
     ]
    },
    {
     "output_type": "error",
     "ename": "KeyboardInterrupt",
     "evalue": "",
     "traceback": [
      "\u001b[1;31m---------------------------------------------------------------------------\u001b[0m",
      "\u001b[1;31mKeyboardInterrupt\u001b[0m                         Traceback (most recent call last)",
      "\u001b[1;32m<ipython-input-130-f87856fcef9b>\u001b[0m in \u001b[0;36m<module>\u001b[1;34m\u001b[0m\n\u001b[0;32m      1\u001b[0m \u001b[1;32mfor\u001b[0m \u001b[0mtable\u001b[0m \u001b[1;32min\u001b[0m \u001b[0mevent_tables\u001b[0m\u001b[1;33m:\u001b[0m\u001b[1;33m\u001b[0m\u001b[1;33m\u001b[0m\u001b[0m\n\u001b[1;32m----> 2\u001b[1;33m     read_events_table_and_break_up_by_subject(mimic3_path, table, output_path, items_to_keep=items_to_keep,\n\u001b[0m\u001b[0;32m      3\u001b[0m                                               subjects_to_keep=subjects)\n",
      "\u001b[1;32m<ipython-input-129-a9886c9d2b25>\u001b[0m in \u001b[0;36mread_events_table_and_break_up_by_subject\u001b[1;34m(mimic3_path, table, output_path, items_to_keep, subjects_to_keep)\u001b[0m\n\u001b[0;32m     54\u001b[0m         \"\"\"\n\u001b[0;32m     55\u001b[0m         \u001b[1;32mif\u001b[0m \u001b[0mdata_stats\u001b[0m\u001b[1;33m.\u001b[0m\u001b[0mcurr_subject_id\u001b[0m \u001b[1;33m!=\u001b[0m \u001b[1;34m''\u001b[0m \u001b[1;32mand\u001b[0m \u001b[0mdata_stats\u001b[0m\u001b[1;33m.\u001b[0m\u001b[0mcurr_subject_id\u001b[0m \u001b[1;33m!=\u001b[0m \u001b[0mrow\u001b[0m\u001b[1;33m[\u001b[0m\u001b[1;34m'SUBJECT_ID'\u001b[0m\u001b[1;33m]\u001b[0m\u001b[1;33m:\u001b[0m\u001b[1;33m\u001b[0m\u001b[1;33m\u001b[0m\u001b[0m\n\u001b[1;32m---> 56\u001b[1;33m             \u001b[0mwrite_current_observations\u001b[0m\u001b[1;33m(\u001b[0m\u001b[1;33m)\u001b[0m\u001b[1;33m\u001b[0m\u001b[1;33m\u001b[0m\u001b[0m\n\u001b[0m\u001b[0;32m     57\u001b[0m         \u001b[1;31m# 否则就把数据直接添加到同一个病人的list里面\u001b[0m\u001b[1;33m\u001b[0m\u001b[1;33m\u001b[0m\u001b[1;33m\u001b[0m\u001b[0m\n\u001b[0;32m     58\u001b[0m         \u001b[0mdata_stats\u001b[0m\u001b[1;33m.\u001b[0m\u001b[0mcurr_obs\u001b[0m\u001b[1;33m.\u001b[0m\u001b[0mappend\u001b[0m\u001b[1;33m(\u001b[0m\u001b[0mrow_out\u001b[0m\u001b[1;33m)\u001b[0m\u001b[1;33m\u001b[0m\u001b[1;33m\u001b[0m\u001b[0m\n",
      "\u001b[1;32m<ipython-input-129-a9886c9d2b25>\u001b[0m in \u001b[0;36mwrite_current_observations\u001b[1;34m()\u001b[0m\n\u001b[0;32m     26\u001b[0m             \u001b[0mf\u001b[0m\u001b[1;33m.\u001b[0m\u001b[0mclose\u001b[0m\u001b[1;33m(\u001b[0m\u001b[1;33m)\u001b[0m\u001b[1;33m\u001b[0m\u001b[1;33m\u001b[0m\u001b[0m\n\u001b[0;32m     27\u001b[0m         \u001b[0mw\u001b[0m \u001b[1;33m=\u001b[0m \u001b[0mcsv\u001b[0m\u001b[1;33m.\u001b[0m\u001b[0mDictWriter\u001b[0m\u001b[1;33m(\u001b[0m\u001b[0mopen\u001b[0m\u001b[1;33m(\u001b[0m\u001b[0mfn\u001b[0m\u001b[1;33m,\u001b[0m \u001b[1;34m'a'\u001b[0m\u001b[1;33m)\u001b[0m\u001b[1;33m,\u001b[0m \u001b[0mfieldnames\u001b[0m\u001b[1;33m=\u001b[0m\u001b[0mobs_header\u001b[0m\u001b[1;33m,\u001b[0m \u001b[0mquoting\u001b[0m\u001b[1;33m=\u001b[0m\u001b[0mcsv\u001b[0m\u001b[1;33m.\u001b[0m\u001b[0mQUOTE_MINIMAL\u001b[0m\u001b[1;33m)\u001b[0m\u001b[1;33m\u001b[0m\u001b[1;33m\u001b[0m\u001b[0m\n\u001b[1;32m---> 28\u001b[1;33m         \u001b[0mw\u001b[0m\u001b[1;33m.\u001b[0m\u001b[0mwriterows\u001b[0m\u001b[1;33m(\u001b[0m\u001b[0mdata_stats\u001b[0m\u001b[1;33m.\u001b[0m\u001b[0mcurr_obs\u001b[0m\u001b[1;33m)\u001b[0m\u001b[1;33m\u001b[0m\u001b[1;33m\u001b[0m\u001b[0m\n\u001b[0m\u001b[0;32m     29\u001b[0m         \u001b[0mdata_stats\u001b[0m\u001b[1;33m.\u001b[0m\u001b[0mcurr_obs\u001b[0m \u001b[1;33m=\u001b[0m \u001b[1;33m[\u001b[0m\u001b[1;33m]\u001b[0m\u001b[1;33m\u001b[0m\u001b[1;33m\u001b[0m\u001b[0m\n\u001b[0;32m     30\u001b[0m \u001b[1;33m\u001b[0m\u001b[0m\n",
      "\u001b[1;32mh:\\installed\\python\\lib\\csv.py\u001b[0m in \u001b[0;36mwriterows\u001b[1;34m(self, rowdicts)\u001b[0m\n\u001b[0;32m    155\u001b[0m \u001b[1;33m\u001b[0m\u001b[0m\n\u001b[0;32m    156\u001b[0m     \u001b[1;32mdef\u001b[0m \u001b[0mwriterows\u001b[0m\u001b[1;33m(\u001b[0m\u001b[0mself\u001b[0m\u001b[1;33m,\u001b[0m \u001b[0mrowdicts\u001b[0m\u001b[1;33m)\u001b[0m\u001b[1;33m:\u001b[0m\u001b[1;33m\u001b[0m\u001b[1;33m\u001b[0m\u001b[0m\n\u001b[1;32m--> 157\u001b[1;33m         \u001b[1;32mreturn\u001b[0m \u001b[0mself\u001b[0m\u001b[1;33m.\u001b[0m\u001b[0mwriter\u001b[0m\u001b[1;33m.\u001b[0m\u001b[0mwriterows\u001b[0m\u001b[1;33m(\u001b[0m\u001b[0mmap\u001b[0m\u001b[1;33m(\u001b[0m\u001b[0mself\u001b[0m\u001b[1;33m.\u001b[0m\u001b[0m_dict_to_list\u001b[0m\u001b[1;33m,\u001b[0m \u001b[0mrowdicts\u001b[0m\u001b[1;33m)\u001b[0m\u001b[1;33m)\u001b[0m\u001b[1;33m\u001b[0m\u001b[1;33m\u001b[0m\u001b[0m\n\u001b[0m\u001b[0;32m    158\u001b[0m \u001b[1;33m\u001b[0m\u001b[0m\n\u001b[0;32m    159\u001b[0m \u001b[1;31m# Guard Sniffer's type checking against builds that exclude complex()\u001b[0m\u001b[1;33m\u001b[0m\u001b[1;33m\u001b[0m\u001b[1;33m\u001b[0m\u001b[0m\n",
      "\u001b[1;31mKeyboardInterrupt\u001b[0m: "
     ]
    }
   ],
   "source": [
    "for table in event_tables:\n",
    "    read_events_table_and_break_up_by_subject(mimic3_path, table, output_path, items_to_keep=items_to_keep,\n",
    "                                              subjects_to_keep=subjects)"
   ]
  },
  {
   "cell_type": "code",
   "execution_count": null,
   "metadata": {},
   "outputs": [],
   "source": []
  },
  {
   "source": [
    "### 得到所有的itemid"
   ],
   "cell_type": "markdown",
   "metadata": {}
  },
  {
   "cell_type": "code",
   "execution_count": null,
   "metadata": {},
   "outputs": [],
   "source": []
  },
  {
   "cell_type": "code",
   "execution_count": null,
   "metadata": {},
   "outputs": [],
   "source": []
  },
  {
   "cell_type": "code",
   "execution_count": null,
   "metadata": {},
   "outputs": [],
   "source": []
  },
  {
   "cell_type": "code",
   "execution_count": null,
   "metadata": {},
   "outputs": [],
   "source": []
  },
  {
   "cell_type": "code",
   "execution_count": 78,
   "metadata": {},
   "outputs": [],
   "source": [
    "pat_idx = np.random.choice(patients.shape[0], size=1000)\n",
    "pats = patients.iloc[pat_idx]\n",
    "sts = icustays.merge(pats[['SUBJECT_ID']], left_on='SUBJECT_ID', right_on='SUBJECT_ID')\n",
    "\n",
    "event_tables=['CHARTEVENTS', 'LABEVENTS', 'OUTPUTEVENTS']\n",
    "event_table = [event_tables[0]]"
   ]
  },
  {
   "cell_type": "code",
   "execution_count": 82,
   "metadata": {},
   "outputs": [
    {
     "output_type": "stream",
     "name": "stdout",
     "text": [
      "Using only 898 stays and only CHARTEVENTS table\n"
     ]
    }
   ],
   "source": [
    "print('Using only', sts.shape[0], 'stays and only', event_tables[0], 'table')"
   ]
  },
  {
   "cell_type": "code",
   "execution_count": 86,
   "metadata": {},
   "outputs": [],
   "source": [
    "subjects = sts.SUBJECT_ID.unique() if subjects is None else subjects\n",
    "nb_subjects = subjects.shape[0]"
   ]
  }
 ]
}