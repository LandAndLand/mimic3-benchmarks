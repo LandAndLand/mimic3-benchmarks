{
 "metadata": {
  "language_info": {
   "codemirror_mode": {
    "name": "ipython",
    "version": 3
   },
   "file_extension": ".py",
   "mimetype": "text/x-python",
   "name": "python",
   "nbconvert_exporter": "python",
   "pygments_lexer": "ipython3",
   "version": "3.8.6-final"
  },
  "orig_nbformat": 2,
  "kernelspec": {
   "name": "python3",
   "display_name": "Python 3.8.6 64-bit ('normal')",
   "metadata": {
    "interpreter": {
     "hash": "f00aa4d08b5dbe9a4f4240f8270de016ce9f4f5bdff9dc19e01b094329a335d5"
    }
   }
  }
 },
 "nbformat": 4,
 "nbformat_minor": 2,
 "cells": [
  {
   "cell_type": "code",
   "execution_count": 23,
   "metadata": {},
   "outputs": [],
   "source": [
    "import os\n",
    "import pandas as pd\n",
    "\n",
    "from pathlib import Path\n"
   ]
  },
  {
   "cell_type": "code",
   "execution_count": 22,
   "metadata": {},
   "outputs": [],
   "source": [
    "mimic3_path = 'MIMIC-III Clinical Database 1.4'\n",
    "output_path = 'data/root'"
   ]
  },
  {
   "cell_type": "code",
   "execution_count": 24,
   "metadata": {},
   "outputs": [],
   "source": [
    "try:\n",
    "    os.makedirs(output_path)\n",
    "except:\n",
    "    pass"
   ]
  },
  {
   "source": [
    "### 先粗糙地读取mimic的csv数据"
   ],
   "cell_type": "markdown",
   "metadata": {}
  },
  {
   "cell_type": "code",
   "execution_count": 25,
   "metadata": {},
   "outputs": [],
   "source": [
    "pats = pd.read_csv(os.path.join(mimic3_path, 'PATIENTS.csv'))\n",
    "# \n",
    "pats = pats[['SUBJECT_ID', 'GENDER', 'DOB', 'DOD']]\n",
    "pats.DOB = pd.to_datetime(pats.DOB)\n",
    "pats.DOD = pd.to_datetime(pats.DOD)\n"
   ]
  },
  {
   "cell_type": "code",
   "execution_count": 26,
   "metadata": {},
   "outputs": [],
   "source": [
    "pats_original = pd.read_csv(os.path.join(mimic3_path, 'PATIENTS.csv'))"
   ]
  },
  {
   "cell_type": "code",
   "execution_count": 29,
   "metadata": {},
   "outputs": [
    {
     "output_type": "stream",
     "name": "stdout",
     "text": [
      "   ROW_ID  SUBJECT_ID GENDER                  DOB                  DOD  \\\n0     234         249      F  2075-03-13 00:00:00                  NaN   \n1     235         250      F  2164-12-27 00:00:00  2188-11-22 00:00:00   \n2     236         251      M  2090-03-15 00:00:00                  NaN   \n3     237         252      M  2078-03-06 00:00:00                  NaN   \n4     238         253      F  2089-11-26 00:00:00                  NaN   \n\n              DOD_HOSP DOD_SSN  EXPIRE_FLAG  \n0                  NaN     NaN            0  \n1  2188-11-22 00:00:00     NaN            1  \n2                  NaN     NaN            0  \n3                  NaN     NaN            0  \n4                  NaN     NaN            0  \n   SUBJECT_ID GENDER        DOB        DOD\n0         249      F 2075-03-13        NaT\n1         250      F 2164-12-27 2188-11-22\n2         251      M 2090-03-15        NaT\n3         252      M 2078-03-06        NaT\n4         253      F 2089-11-26        NaT\n"
     ]
    }
   ],
   "source": [
    "print(pats_original.head())\n",
    "print(pats.head())"
   ]
  },
  {
   "cell_type": "code",
   "execution_count": 32,
   "metadata": {},
   "outputs": [
    {
     "output_type": "stream",
     "name": "stdout",
     "text": [
      "   SUBJECT_ID  HADM_ID           ADMITTIME           DISCHTIME DEATHTIME  \\\n0          22   165315 2196-04-09 12:26:00 2196-04-10 15:54:00       NaT   \n1          23   152223 2153-09-03 07:15:00 2153-09-08 19:10:00       NaT   \n2          23   124321 2157-10-18 19:34:00 2157-10-25 14:00:00       NaT   \n3          24   161859 2139-06-06 16:14:00 2139-06-09 12:48:00       NaT   \n4          25   129635 2160-11-02 02:06:00 2160-11-05 14:55:00       NaT   \n\n  ETHNICITY                                          DIAGNOSIS  \n0     WHITE                            BENZODIAZEPINE OVERDOSE  \n1     WHITE  CORONARY ARTERY DISEASE\\CORONARY ARTERY BYPASS...  \n2     WHITE                                         BRAIN MASS  \n3     WHITE                     INTERIOR MYOCARDIAL INFARCTION  \n4     WHITE                            ACUTE CORONARY SYNDROME  \n"
     ]
    }
   ],
   "source": [
    "admits = pd.read_csv(os.path.join(mimic3_path, 'ADMISSIONS.csv'))\n",
    "admits = admits[['SUBJECT_ID', 'HADM_ID', 'ADMITTIME', 'DISCHTIME', 'DEATHTIME', 'ETHNICITY', 'DIAGNOSIS']]\n",
    "admits.ADMITTIME = pd.to_datetime(admits.ADMITTIME)\n",
    "admits.DISCHTIME = pd.to_datetime(admits.DISCHTIME)\n",
    "admits.DEATHTIME = pd.to_datetime(admits.DEATHTIME)\n",
    "print(admits.head())"
   ]
  },
  {
   "cell_type": "code",
   "execution_count": 33,
   "metadata": {},
   "outputs": [
    {
     "output_type": "stream",
     "name": "stdout",
     "text": [
      "   ROW_ID  SUBJECT_ID  HADM_ID  ICUSTAY_ID DBSOURCE FIRST_CAREUNIT  \\\n0     365         268   110404      280836  carevue           MICU   \n1     366         269   106296      206613  carevue           MICU   \n2     367         270   188028      220345  carevue            CCU   \n3     368         271   173727      249196  carevue           MICU   \n4     369         272   164716      210407  carevue            CCU   \n\n  LAST_CAREUNIT  FIRST_WARDID  LAST_WARDID              INTIME  \\\n0          MICU            52           52 2198-02-14 23:27:38   \n1          MICU            52           52 2170-11-05 11:05:29   \n2           CCU            57           57 2128-06-24 15:05:20   \n3          SICU            52           23 2120-08-07 23:12:42   \n4           CCU            57           57 2186-12-25 21:08:04   \n\n              OUTTIME     LOS  \n0 2198-02-18 05:26:11  3.2490  \n1 2170-11-08 17:46:57  3.2788  \n2 2128-06-27 12:32:29  2.8939  \n3 2120-08-10 00:39:04  2.0600  \n4 2186-12-27 12:01:13  1.6202  \n"
     ]
    }
   ],
   "source": [
    "stays = pd.read_csv(os.path.join(mimic3_path, 'ICUSTAYS.csv'))\n",
    "stays.INTIME = pd.to_datetime(stays.INTIME)\n",
    "stays.OUTTIME = pd.to_datetime(stays.OUTTIME)\n",
    "print(stays.head())"
   ]
  },
  {
   "cell_type": "code",
   "execution_count": 34,
   "metadata": {},
   "outputs": [
    {
     "output_type": "stream",
     "name": "stdout",
     "text": [
      "START:\n\tICUSTAY_IDs: 61532\n\tHADM_IDs: 57786\n\tSUBJECT_IDs: 46476\n"
     ]
    }
   ],
   "source": [
    "print('START:\\n\\tICUSTAY_IDs: {}\\n\\tHADM_IDs: {}\\n\\tSUBJECT_IDs: {}'.format(stays.ICUSTAY_ID.unique().shape[0],\n",
    "          stays.HADM_ID.unique().shape[0], stays.SUBJECT_ID.unique().shape[0]))\n"
   ]
  },
  {
   "cell_type": "code",
   "execution_count": null,
   "metadata": {},
   "outputs": [],
   "source": []
  }
 ]
}