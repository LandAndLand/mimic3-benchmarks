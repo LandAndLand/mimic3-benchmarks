{
 "metadata": {
  "language_info": {
   "codemirror_mode": {
    "name": "ipython",
    "version": 3
   },
   "file_extension": ".py",
   "mimetype": "text/x-python",
   "name": "python",
   "nbconvert_exporter": "python",
   "pygments_lexer": "ipython3",
   "version": "3.8.6-final"
  },
  "orig_nbformat": 2,
  "kernelspec": {
   "name": "python3",
   "display_name": "Python 3.8.6 64-bit ('normal')",
   "metadata": {
    "interpreter": {
     "hash": "f00aa4d08b5dbe9a4f4240f8270de016ce9f4f5bdff9dc19e01b094329a335d5"
    }
   }
  }
 },
 "nbformat": 4,
 "nbformat_minor": 2,
 "cells": [
  {
   "cell_type": "code",
   "execution_count": 162,
   "metadata": {},
   "outputs": [],
   "source": [
    "import os\n",
    "import pandas as pd\n",
    "import numpy as np\n",
    "\n",
    "from pathlib import Path\n"
   ]
  },
  {
   "cell_type": "code",
   "execution_count": 2,
   "metadata": {},
   "outputs": [],
   "source": [
    "mimic3_path = 'MIMIC-III Clinical Database 1.4'\n",
    "output_path = 'data/root'"
   ]
  },
  {
   "cell_type": "code",
   "execution_count": 3,
   "metadata": {},
   "outputs": [],
   "source": [
    "try:\n",
    "    os.makedirs(output_path)\n",
    "except:\n",
    "    pass"
   ]
  },
  {
   "source": [
    "## 处理患者的ICUSTAY、PATIENT、ADMISSION表，根据住院期间是否转换过ICU病房、年龄是否大于18等过滤一部分信息；\n",
    "## 计算患者在ICU期间以及住院期间是否死亡\n",
    "\n",
    "从数据库中取出来的数据，一般是object，先转成datetime格式\n",
    "\n",
    "dt.date: the date part of Timestamps without timezone information"
   ],
   "cell_type": "markdown",
   "metadata": {}
  },
  {
   "cell_type": "code",
   "execution_count": 137,
   "metadata": {},
   "outputs": [
    {
     "output_type": "stream",
     "name": "stdout",
     "text": [
      "SUBJECT_ID     int64\nGENDER        object\nDOB           object\nDOD           object\ndtype: object\n   SUBJECT_ID GENDER         DOB         DOD\n0         249      F  2075-03-13         NaT\n1         250      F  2164-12-27  2188-11-22\n2         251      M  2090-03-15         NaT\n3         252      M  2078-03-06         NaT\n4         253      F  2089-11-26         NaT\n"
     ]
    }
   ],
   "source": [
    "patients = pd.read_csv(os.path.join(mimic3_path, 'PATIENTS.csv'))\n",
    "# DOB is the date of birth of the given patient。 年龄大于89的这个数据会变化\n",
    "# DOD is the date of death for the given patient\n",
    "patients = patients[['SUBJECT_ID', 'GENDER', 'DOB', 'DOD']]\n",
    "print(patients.dtypes)\n",
    "patients.DOB = pd.to_datetime(pats.DOB).dt.date\n",
    "patients.DOD = pd.to_datetime(pats.DOD).dt.date\n",
    "print(patients.head())"
   ]
  },
  {
   "cell_type": "code",
   "execution_count": 138,
   "metadata": {},
   "outputs": [
    {
     "output_type": "stream",
     "name": "stdout",
     "text": [
      "   SUBJECT_ID  HADM_ID   ADMITTIME   DISCHTIME DEATHTIME ETHNICITY  \\\n0          22   165315  2196-04-09  2196-04-10       NaT     WHITE   \n1          23   152223  2153-09-03  2153-09-08       NaT     WHITE   \n2          23   124321  2157-10-18  2157-10-25       NaT     WHITE   \n3          24   161859  2139-06-06  2139-06-09       NaT     WHITE   \n4          25   129635  2160-11-02  2160-11-05       NaT     WHITE   \n\n                                           DIAGNOSIS  \n0                            BENZODIAZEPINE OVERDOSE  \n1  CORONARY ARTERY DISEASE\\CORONARY ARTERY BYPASS...  \n2                                         BRAIN MASS  \n3                     INTERIOR MYOCARDIAL INFARCTION  \n4                            ACUTE CORONARY SYNDROME  \n"
     ]
    }
   ],
   "source": [
    "admits = pd.read_csv(os.path.join(mimic3_path, 'ADMISSIONS.csv'))\n",
    "admits = admits[['SUBJECT_ID', 'HADM_ID', 'ADMITTIME', 'DISCHTIME', 'DEATHTIME', 'ETHNICITY', 'DIAGNOSIS']]\n",
    "#print(admits)\n",
    "admits.ADMITTIME = pd.to_datetime(admits.ADMITTIME).dt.date\n",
    "admits.DISCHTIME = pd.to_datetime(admits.DISCHTIME).dt.date\n",
    "admits.DEATHTIME = pd.to_datetime(admits.DEATHTIME).dt.date\n",
    "print(admits.head())"
   ]
  },
  {
   "cell_type": "code",
   "execution_count": 139,
   "metadata": {},
   "outputs": [
    {
     "output_type": "stream",
     "name": "stdout",
     "text": [
      "   ROW_ID  SUBJECT_ID  HADM_ID  ICUSTAY_ID DBSOURCE FIRST_CAREUNIT  \\\n0     365         268   110404      280836  carevue           MICU   \n1     366         269   106296      206613  carevue           MICU   \n2     367         270   188028      220345  carevue            CCU   \n3     368         271   173727      249196  carevue           MICU   \n4     369         272   164716      210407  carevue            CCU   \n\n  LAST_CAREUNIT  FIRST_WARDID  LAST_WARDID      INTIME     OUTTIME     LOS  \n0          MICU            52           52  2198-02-14  2198-02-18  3.2490  \n1          MICU            52           52  2170-11-05  2170-11-08  3.2788  \n2           CCU            57           57  2128-06-24  2128-06-27  2.8939  \n3          SICU            52           23  2120-08-07  2120-08-10  2.0600  \n4           CCU            57           57  2186-12-25  2186-12-27  1.6202  \n"
     ]
    }
   ],
   "source": [
    "stays = pd.read_csv(os.path.join(mimic3_path, 'ICUSTAYS.csv'))\n",
    "stays.INTIME = pd.to_datetime(stays.INTIME).dt.date\n",
    "stays.OUTTIME = pd.to_datetime(stays.OUTTIME).dt.date\n",
    "print(stays.head())"
   ]
  },
  {
   "source": [
    "### 统计最原始的数据个数"
   ],
   "cell_type": "markdown",
   "metadata": {}
  },
  {
   "cell_type": "code",
   "execution_count": 140,
   "metadata": {},
   "outputs": [
    {
     "output_type": "stream",
     "name": "stdout",
     "text": [
      "START:\n\tICUSTAY_IDs: 61532\n\tHADM_IDs: 57786\n\tSUBJECT_IDs: 46476\n"
     ]
    }
   ],
   "source": [
    "print('START:\\n\\tICUSTAY_IDs: {}\\n\\tHADM_IDs: {}\\n\\tSUBJECT_IDs: {}'.format(stays.ICUSTAY_ID.unique().shape[0],\n",
    "          stays.HADM_ID.unique().shape[0], stays.SUBJECT_ID.unique().shape[0]))\n"
   ]
  },
  {
   "source": [
    "### remove icustays  with  transfers\n",
    "去掉在ICU内发生过病房转移（从一个ICU病房转移到另一个ICU病房 或 ICU护理类型发生过变化的患者\n",
    "\n",
    "这里的代码逻辑是只有没有发生过病房转移且ICU护理类型没有发生过变化的患者才可以保留下来"
   ],
   "cell_type": "markdown",
   "metadata": {}
  },
  {
   "cell_type": "code",
   "execution_count": 100,
   "metadata": {},
   "outputs": [
    {
     "output_type": "execute_result",
     "data": {
      "text/plain": [
       "' print(mask1)\\nprint(mask2)\\nprint(mask1 & mask2) '"
      ]
     },
     "metadata": {},
     "execution_count": 100
    }
   ],
   "source": [
    "mask1 = stays.FIRST_WARDID == stays.LAST_WARDID\n",
    "mask2 = stays.FIRST_CAREUNIT == stays.LAST_CAREUNIT\n",
    "\"\"\" print(mask1)\n",
    "print(mask2)\n",
    "print(mask1 & mask2) \"\"\""
   ]
  },
  {
   "cell_type": "code",
   "execution_count": 51,
   "metadata": {},
   "outputs": [
    {
     "output_type": "stream",
     "name": "stdout",
     "text": [
      "0     True\n1    False\n2    False\ndtype: bool\n0    1\ndtype: int64\n0    1\n2    3\ndtype: int64\n"
     ]
    }
   ],
   "source": [
    "s = pd.Series([1, 2, 3])\n",
    "s1 = pd.Series([True, False, False])\n",
    "s2 = pd.Series([True, False, True])\n",
    "print(s1 & s2)\n",
    "print(s[s1 & s2])\n",
    "print(s[s1 | s2])"
   ]
  },
  {
   "cell_type": "code",
   "execution_count": 141,
   "metadata": {},
   "outputs": [],
   "source": [
    "stay_no_transfer = stays[(stays.FIRST_WARDID == stays.LAST_WARDID) & (stays.FIRST_CAREUNIT == stays.LAST_CAREUNIT)]\n",
    "icustays = stay_no_transfer[['SUBJECT_ID', 'HADM_ID', 'ICUSTAY_ID', 'LAST_CAREUNIT', 'DBSOURCE', 'INTIME', 'OUTTIME', 'LOS']]\n"
   ]
  },
  {
   "cell_type": "code",
   "execution_count": 142,
   "metadata": {},
   "outputs": [
    {
     "output_type": "stream",
     "name": "stdout",
     "text": [
      "REMOVE ICU TRANSFERS:\n\tICUSTAY_IDs: 55830\n\tHADM_IDs: 52834\n\tSUBJECT_IDs: 43277\n"
     ]
    }
   ],
   "source": [
    "print('REMOVE ICU TRANSFERS:\\n\\tICUSTAY_IDs: {}\\n\\tHADM_IDs: {}\\n\\tSUBJECT_IDs: {}'.format(icustays.ICUSTAY_ID.unique().shape[0], icustays.HADM_ID.unique().shape[0], icustays.SUBJECT_ID.unique().shape[0]))"
   ]
  },
  {
   "source": [
    "### 合并表的操作\n",
    "\n",
    "1 合并stays和admits\n",
    "\n",
    "保留有入住icu记录的住院患者信息\n",
    "\n",
    "2 合并stays和patients\n"
   ],
   "cell_type": "markdown",
   "metadata": {}
  },
  {
   "cell_type": "code",
   "execution_count": 143,
   "metadata": {},
   "outputs": [
    {
     "output_type": "stream",
     "name": "stdout",
     "text": [
      "Index(['SUBJECT_ID', 'HADM_ID', 'ICUSTAY_ID', 'LAST_CAREUNIT', 'DBSOURCE',\n       'INTIME', 'OUTTIME', 'LOS', 'ADMITTIME', 'DISCHTIME', 'DEATHTIME',\n       'ETHNICITY', 'DIAGNOSIS'],\n      dtype='object')\n   SUBJECT_ID  HADM_ID  ICUSTAY_ID LAST_CAREUNIT DBSOURCE      INTIME  \\\n0         268   110404      280836          MICU  carevue  2198-02-14   \n1         269   106296      206613          MICU  carevue  2170-11-05   \n2         270   188028      220345           CCU  carevue  2128-06-24   \n3         272   164716      210407           CCU  carevue  2186-12-25   \n4         273   158689      241507          MICU  carevue  2141-04-19   \n\n      OUTTIME     LOS   ADMITTIME   DISCHTIME   DEATHTIME  \\\n0  2198-02-18  3.2490  2198-02-11  2198-02-18  2198-02-18   \n1  2170-11-08  3.2788  2170-11-05  2170-11-27         NaT   \n2  2128-06-27  2.8939  2128-06-23  2128-06-27         NaT   \n3  2186-12-27  1.6202  2186-12-25  2187-01-02         NaT   \n4  2141-04-20  1.4862  2141-04-19  2141-04-20         NaT   \n\n                ETHNICITY                                     DIAGNOSIS  \n0      HISPANIC OR LATINO                                       DYSPNEA  \n1                   WHITE                      SEPSIS;PILONIDAL ABSCESS  \n2   UNKNOWN/NOT SPECIFIED  CAROTID STENOSIS\\CAROTID ANGIOGRAM AND STENT  \n3                   WHITE                             PULMONARY EMBOLIS  \n4  BLACK/AFRICAN AMERICAN                        POLYSUBSTANCE OVERDOSE  \n"
     ]
    }
   ],
   "source": [
    "icustays = icustays.merge(admits, how='inner', left_on=['SUBJECT_ID', 'HADM_ID'], right_on=['SUBJECT_ID', 'HADM_ID'])\n",
    "print(icustays.columns)\n",
    "print(icustays.head())\n"
   ]
  },
  {
   "cell_type": "code",
   "execution_count": 144,
   "metadata": {},
   "outputs": [
    {
     "output_type": "stream",
     "name": "stdout",
     "text": [
      "Index(['SUBJECT_ID', 'HADM_ID', 'ICUSTAY_ID', 'LAST_CAREUNIT', 'DBSOURCE',\n       'INTIME', 'OUTTIME', 'LOS', 'ADMITTIME', 'DISCHTIME', 'DEATHTIME',\n       'ETHNICITY', 'DIAGNOSIS', 'GENDER', 'DOB', 'DOD'],\n      dtype='object')\n   SUBJECT_ID  HADM_ID  ICUSTAY_ID LAST_CAREUNIT DBSOURCE      INTIME  \\\n0         268   110404      280836          MICU  carevue  2198-02-14   \n1         269   106296      206613          MICU  carevue  2170-11-05   \n2         270   188028      220345           CCU  carevue  2128-06-24   \n3         272   164716      210407           CCU  carevue  2186-12-25   \n4         273   158689      241507          MICU  carevue  2141-04-19   \n\n      OUTTIME     LOS   ADMITTIME   DISCHTIME   DEATHTIME  \\\n0  2198-02-18  3.2490  2198-02-11  2198-02-18  2198-02-18   \n1  2170-11-08  3.2788  2170-11-05  2170-11-27         NaT   \n2  2128-06-27  2.8939  2128-06-23  2128-06-27         NaT   \n3  2186-12-27  1.6202  2186-12-25  2187-01-02         NaT   \n4  2141-04-20  1.4862  2141-04-19  2141-04-20         NaT   \n\n                ETHNICITY                                     DIAGNOSIS  \\\n0      HISPANIC OR LATINO                                       DYSPNEA   \n1                   WHITE                      SEPSIS;PILONIDAL ABSCESS   \n2   UNKNOWN/NOT SPECIFIED  CAROTID STENOSIS\\CAROTID ANGIOGRAM AND STENT   \n3                   WHITE                             PULMONARY EMBOLIS   \n4  BLACK/AFRICAN AMERICAN                        POLYSUBSTANCE OVERDOSE   \n\n  GENDER         DOB         DOD  \n0      F  2132-02-21  2198-02-18  \n1      M  2130-09-30         NaT  \n2      M  2048-05-26         NaT  \n3      M  2119-11-21         NaT  \n4      M  2107-08-10         NaT  \n"
     ]
    }
   ],
   "source": [
    "icustays = icustays.merge(patients, how='inner', left_on=['SUBJECT_ID'], right_on=['SUBJECT_ID'])\n",
    "print(icustays.columns)\n",
    "print(icustays.head())"
   ]
  },
  {
   "source": [
    "### 使用HADM进行分组(hadm相同的计为一组)\n",
    "REMOVE MULTIPLE STAYS PER ADMIT:\\n\\tICUSTAY_IDs"
   ],
   "cell_type": "markdown",
   "metadata": {}
  },
  {
   "cell_type": "code",
   "execution_count": 145,
   "metadata": {},
   "outputs": [],
   "source": [
    "# groupby('HADM_ID').count()是把hadm_id当做index，计算其余各列在该index下有多少个取值\n",
    "to_keep = icustays.groupby('HADM_ID').count()\n",
    "to_keep = to_keep[['ICUSTAY_ID']]\n",
    "# 释放index，即把hadm_id重新放到列位置\n",
    "to_keep = to_keep.reset_index()\n",
    "mask_min = to_keep.ICUSTAY_ID >= 1\n",
    "mask_max = to_keep.ICUSTAY_ID <= 1\n",
    "# to_keep保存的是住院期间只去过一种类型的ICU\n",
    "to_keep = to_keep[mask_min & mask_max][['HADM_ID']]"
   ]
  },
  {
   "cell_type": "code",
   "execution_count": 146,
   "metadata": {},
   "outputs": [],
   "source": [
    "icustays = icustays.merge(to_keep, how='inner', on=['HADM_ID'])"
   ]
  },
  {
   "cell_type": "code",
   "execution_count": 147,
   "metadata": {},
   "outputs": [
    {
     "output_type": "stream",
     "name": "stdout",
     "text": [
      "REMOVE MULTIPLE STAYS PER ADMIT:\n\tICUSTAY_IDs: 50186\n\tHADM_IDs: 50186\n\tSUBJECT_IDs: 41587\n"
     ]
    }
   ],
   "source": [
    "print('REMOVE MULTIPLE STAYS PER ADMIT:\\n\\tICUSTAY_IDs: {}\\n\\tHADM_IDs: {}\\n\\tSUBJECT_IDs: {}'.format(icustays.ICUSTAY_ID.unique().shape[0], icustays.HADM_ID.unique().shape[0], icustays.SUBJECT_ID.unique().shape[0]))"
   ]
  },
  {
   "cell_type": "code",
   "execution_count": 148,
   "metadata": {},
   "outputs": [
    {
     "output_type": "execute_result",
     "data": {
      "text/plain": [
       "       SUBJECT_ID  HADM_ID  ICUSTAY_ID LAST_CAREUNIT    DBSOURCE      INTIME  \\\n",
       "0             268   110404      280836          MICU     carevue  2198-02-14   \n",
       "1             269   106296      206613          MICU     carevue  2170-11-05   \n",
       "2             270   188028      220345           CCU     carevue  2128-06-24   \n",
       "3             272   164716      210407           CCU     carevue  2186-12-25   \n",
       "4             273   158689      241507          MICU     carevue  2141-04-19   \n",
       "...           ...      ...         ...           ...         ...         ...   \n",
       "50181       94944   143774      201233          CSRU  metavision  2104-04-15   \n",
       "50182       94950   123750      283653           CCU  metavision  2155-12-08   \n",
       "50183       94953   196881      241585          SICU  metavision  2160-03-03   \n",
       "50184       94954   118475      202802          CSRU  metavision  2183-03-25   \n",
       "50185       94956   156386      275346         TSICU  metavision  2157-05-19   \n",
       "\n",
       "          OUTTIME     LOS   ADMITTIME   DISCHTIME   DEATHTIME  \\\n",
       "0      2198-02-18  3.2490  2198-02-11  2198-02-18  2198-02-18   \n",
       "1      2170-11-08  3.2788  2170-11-05  2170-11-27         NaT   \n",
       "2      2128-06-27  2.8939  2128-06-23  2128-06-27         NaT   \n",
       "3      2186-12-27  1.6202  2186-12-25  2187-01-02         NaT   \n",
       "4      2141-04-20  1.4862  2141-04-19  2141-04-20         NaT   \n",
       "...           ...     ...         ...         ...         ...   \n",
       "50181  2104-04-17  2.1894  2104-04-11  2104-04-20         NaT   \n",
       "50182  2155-12-10  2.4942  2155-12-07  2155-12-12         NaT   \n",
       "50183  2160-03-04  0.9259  2160-03-03  2160-03-04         NaT   \n",
       "50184  2183-03-27  2.3346  2183-03-25  2183-04-01         NaT   \n",
       "50185  2157-05-23  4.5022  2157-05-19  2157-05-25         NaT   \n",
       "\n",
       "                        ETHNICITY  \\\n",
       "0              HISPANIC OR LATINO   \n",
       "1                           WHITE   \n",
       "2           UNKNOWN/NOT SPECIFIED   \n",
       "3                           WHITE   \n",
       "4          BLACK/AFRICAN AMERICAN   \n",
       "...                           ...   \n",
       "50181                       WHITE   \n",
       "50182                       WHITE   \n",
       "50183                       WHITE   \n",
       "50184  PATIENT DECLINED TO ANSWER   \n",
       "50185                       WHITE   \n",
       "\n",
       "                                               DIAGNOSIS GENDER         DOB  \\\n",
       "0                                                DYSPNEA      F  2132-02-21   \n",
       "1                               SEPSIS;PILONIDAL ABSCESS      M  2130-09-30   \n",
       "2           CAROTID STENOSIS\\CAROTID ANGIOGRAM AND STENT      M  2048-05-26   \n",
       "3                                      PULMONARY EMBOLIS      M  2119-11-21   \n",
       "4                                 POLYSUBSTANCE OVERDOSE      M  2107-08-10   \n",
       "...                                                  ...    ...         ...   \n",
       "50181  CHEST PAIN;RULE OUT CORONARY ARTERY DISEASE\\LE...      M  2027-03-02   \n",
       "50182                                  SYNCOPE;TELEMETRY      F  1855-12-07   \n",
       "50183                              CEREBRAL ANEURYSM/SDA      F  2107-01-29   \n",
       "50184      AORTIC STENOSIS\\AORTIC VALVE REPLACEMENT /SDA      F  2115-05-23   \n",
       "50185                         S/P MOTOR VEHICLE ACCIDENT      M  2123-03-01   \n",
       "\n",
       "              DOD  \n",
       "0      2198-02-18  \n",
       "1             NaT  \n",
       "2             NaT  \n",
       "3             NaT  \n",
       "4             NaT  \n",
       "...           ...  \n",
       "50181         NaT  \n",
       "50182         NaT  \n",
       "50183  2162-01-05  \n",
       "50184         NaT  \n",
       "50185         NaT  \n",
       "\n",
       "[50186 rows x 16 columns]"
      ],
      "text/html": "<div>\n<style scoped>\n    .dataframe tbody tr th:only-of-type {\n        vertical-align: middle;\n    }\n\n    .dataframe tbody tr th {\n        vertical-align: top;\n    }\n\n    .dataframe thead th {\n        text-align: right;\n    }\n</style>\n<table border=\"1\" class=\"dataframe\">\n  <thead>\n    <tr style=\"text-align: right;\">\n      <th></th>\n      <th>SUBJECT_ID</th>\n      <th>HADM_ID</th>\n      <th>ICUSTAY_ID</th>\n      <th>LAST_CAREUNIT</th>\n      <th>DBSOURCE</th>\n      <th>INTIME</th>\n      <th>OUTTIME</th>\n      <th>LOS</th>\n      <th>ADMITTIME</th>\n      <th>DISCHTIME</th>\n      <th>DEATHTIME</th>\n      <th>ETHNICITY</th>\n      <th>DIAGNOSIS</th>\n      <th>GENDER</th>\n      <th>DOB</th>\n      <th>DOD</th>\n    </tr>\n  </thead>\n  <tbody>\n    <tr>\n      <th>0</th>\n      <td>268</td>\n      <td>110404</td>\n      <td>280836</td>\n      <td>MICU</td>\n      <td>carevue</td>\n      <td>2198-02-14</td>\n      <td>2198-02-18</td>\n      <td>3.2490</td>\n      <td>2198-02-11</td>\n      <td>2198-02-18</td>\n      <td>2198-02-18</td>\n      <td>HISPANIC OR LATINO</td>\n      <td>DYSPNEA</td>\n      <td>F</td>\n      <td>2132-02-21</td>\n      <td>2198-02-18</td>\n    </tr>\n    <tr>\n      <th>1</th>\n      <td>269</td>\n      <td>106296</td>\n      <td>206613</td>\n      <td>MICU</td>\n      <td>carevue</td>\n      <td>2170-11-05</td>\n      <td>2170-11-08</td>\n      <td>3.2788</td>\n      <td>2170-11-05</td>\n      <td>2170-11-27</td>\n      <td>NaT</td>\n      <td>WHITE</td>\n      <td>SEPSIS;PILONIDAL ABSCESS</td>\n      <td>M</td>\n      <td>2130-09-30</td>\n      <td>NaT</td>\n    </tr>\n    <tr>\n      <th>2</th>\n      <td>270</td>\n      <td>188028</td>\n      <td>220345</td>\n      <td>CCU</td>\n      <td>carevue</td>\n      <td>2128-06-24</td>\n      <td>2128-06-27</td>\n      <td>2.8939</td>\n      <td>2128-06-23</td>\n      <td>2128-06-27</td>\n      <td>NaT</td>\n      <td>UNKNOWN/NOT SPECIFIED</td>\n      <td>CAROTID STENOSIS\\CAROTID ANGIOGRAM AND STENT</td>\n      <td>M</td>\n      <td>2048-05-26</td>\n      <td>NaT</td>\n    </tr>\n    <tr>\n      <th>3</th>\n      <td>272</td>\n      <td>164716</td>\n      <td>210407</td>\n      <td>CCU</td>\n      <td>carevue</td>\n      <td>2186-12-25</td>\n      <td>2186-12-27</td>\n      <td>1.6202</td>\n      <td>2186-12-25</td>\n      <td>2187-01-02</td>\n      <td>NaT</td>\n      <td>WHITE</td>\n      <td>PULMONARY EMBOLIS</td>\n      <td>M</td>\n      <td>2119-11-21</td>\n      <td>NaT</td>\n    </tr>\n    <tr>\n      <th>4</th>\n      <td>273</td>\n      <td>158689</td>\n      <td>241507</td>\n      <td>MICU</td>\n      <td>carevue</td>\n      <td>2141-04-19</td>\n      <td>2141-04-20</td>\n      <td>1.4862</td>\n      <td>2141-04-19</td>\n      <td>2141-04-20</td>\n      <td>NaT</td>\n      <td>BLACK/AFRICAN AMERICAN</td>\n      <td>POLYSUBSTANCE OVERDOSE</td>\n      <td>M</td>\n      <td>2107-08-10</td>\n      <td>NaT</td>\n    </tr>\n    <tr>\n      <th>...</th>\n      <td>...</td>\n      <td>...</td>\n      <td>...</td>\n      <td>...</td>\n      <td>...</td>\n      <td>...</td>\n      <td>...</td>\n      <td>...</td>\n      <td>...</td>\n      <td>...</td>\n      <td>...</td>\n      <td>...</td>\n      <td>...</td>\n      <td>...</td>\n      <td>...</td>\n      <td>...</td>\n    </tr>\n    <tr>\n      <th>50181</th>\n      <td>94944</td>\n      <td>143774</td>\n      <td>201233</td>\n      <td>CSRU</td>\n      <td>metavision</td>\n      <td>2104-04-15</td>\n      <td>2104-04-17</td>\n      <td>2.1894</td>\n      <td>2104-04-11</td>\n      <td>2104-04-20</td>\n      <td>NaT</td>\n      <td>WHITE</td>\n      <td>CHEST PAIN;RULE OUT CORONARY ARTERY DISEASE\\LE...</td>\n      <td>M</td>\n      <td>2027-03-02</td>\n      <td>NaT</td>\n    </tr>\n    <tr>\n      <th>50182</th>\n      <td>94950</td>\n      <td>123750</td>\n      <td>283653</td>\n      <td>CCU</td>\n      <td>metavision</td>\n      <td>2155-12-08</td>\n      <td>2155-12-10</td>\n      <td>2.4942</td>\n      <td>2155-12-07</td>\n      <td>2155-12-12</td>\n      <td>NaT</td>\n      <td>WHITE</td>\n      <td>SYNCOPE;TELEMETRY</td>\n      <td>F</td>\n      <td>1855-12-07</td>\n      <td>NaT</td>\n    </tr>\n    <tr>\n      <th>50183</th>\n      <td>94953</td>\n      <td>196881</td>\n      <td>241585</td>\n      <td>SICU</td>\n      <td>metavision</td>\n      <td>2160-03-03</td>\n      <td>2160-03-04</td>\n      <td>0.9259</td>\n      <td>2160-03-03</td>\n      <td>2160-03-04</td>\n      <td>NaT</td>\n      <td>WHITE</td>\n      <td>CEREBRAL ANEURYSM/SDA</td>\n      <td>F</td>\n      <td>2107-01-29</td>\n      <td>2162-01-05</td>\n    </tr>\n    <tr>\n      <th>50184</th>\n      <td>94954</td>\n      <td>118475</td>\n      <td>202802</td>\n      <td>CSRU</td>\n      <td>metavision</td>\n      <td>2183-03-25</td>\n      <td>2183-03-27</td>\n      <td>2.3346</td>\n      <td>2183-03-25</td>\n      <td>2183-04-01</td>\n      <td>NaT</td>\n      <td>PATIENT DECLINED TO ANSWER</td>\n      <td>AORTIC STENOSIS\\AORTIC VALVE REPLACEMENT /SDA</td>\n      <td>F</td>\n      <td>2115-05-23</td>\n      <td>NaT</td>\n    </tr>\n    <tr>\n      <th>50185</th>\n      <td>94956</td>\n      <td>156386</td>\n      <td>275346</td>\n      <td>TSICU</td>\n      <td>metavision</td>\n      <td>2157-05-19</td>\n      <td>2157-05-23</td>\n      <td>4.5022</td>\n      <td>2157-05-19</td>\n      <td>2157-05-25</td>\n      <td>NaT</td>\n      <td>WHITE</td>\n      <td>S/P MOTOR VEHICLE ACCIDENT</td>\n      <td>M</td>\n      <td>2123-03-01</td>\n      <td>NaT</td>\n    </tr>\n  </tbody>\n</table>\n<p>50186 rows × 16 columns</p>\n</div>"
     },
     "metadata": {},
     "execution_count": 148
    }
   ],
   "source": [
    "icustays"
   ]
  },
  {
   "cell_type": "code",
   "execution_count": 155,
   "metadata": {},
   "outputs": [
    {
     "output_type": "execute_result",
     "data": {
      "text/plain": [
       "0         66.027397\n",
       "1         40.126027\n",
       "2         80.131507\n",
       "3         67.139726\n",
       "4         33.715068\n",
       "            ...    \n",
       "50181     77.172603\n",
       "50182    300.202740\n",
       "50183     53.128767\n",
       "50184     67.884932\n",
       "50185     34.241096\n",
       "Length: 50186, dtype: float64"
      ]
     },
     "metadata": {},
     "execution_count": 155
    }
   ],
   "source": [
    "icustays.apply(lambda e: (e['INTIME'] - e['DOB']).days/365, axis=1)"
   ]
  },
  {
   "source": [
    "### 计算病人入住ICU时的年龄"
   ],
   "cell_type": "markdown",
   "metadata": {}
  },
  {
   "cell_type": "code",
   "execution_count": 156,
   "metadata": {},
   "outputs": [],
   "source": [
    "icustays['age'] = icustays.apply(lambda e: (e['INTIME'] - e['DOB']).days/365, axis=1)"
   ]
  },
  {
   "source": [
    "#### 筛选出年龄大于等于18岁的病人"
   ],
   "cell_type": "markdown",
   "metadata": {}
  },
  {
   "cell_type": "code",
   "execution_count": 161,
   "metadata": {},
   "outputs": [],
   "source": [
    "import numpy as np\n",
    "icustays = icustays[(icustays.age >= 18) & (icustays.age <= np.inf)]"
   ]
  },
  {
   "cell_type": "code",
   "execution_count": 174,
   "metadata": {},
   "outputs": [
    {
     "output_type": "stream",
     "name": "stdout",
     "text": [
      "REMOVE PATIENTS AGE < 18:\n\tICUSTAY_IDs: 42276\n\tHADM_IDs: 42276\n\tSUBJECT_IDs: 33798\n"
     ]
    }
   ],
   "source": [
    "print('REMOVE PATIENTS AGE < 18:\\n\\tICUSTAY_IDs: {}\\n\\tHADM_IDs: {}\\n\\tSUBJECT_IDs: {}'.format(icustays.ICUSTAY_ID.unique().shape[0],\n",
    "        icustays.HADM_ID.unique().shape[0], icustays.SUBJECT_ID.unique().shape[0]))\n"
   ]
  },
  {
   "source": [
    "## 添加在住院期间和在ICU期间内死亡的标志"
   ],
   "cell_type": "markdown",
   "metadata": {}
  },
  {
   "cell_type": "code",
   "execution_count": 166,
   "metadata": {},
   "outputs": [],
   "source": [
    "def add_inhospital_mortality_to_icustays(stays):\n",
    "    \"\"\"   DOD是从patient表得到的患者死亡日期； DEATHTIME是从admission表得到的患者死亡日期；\n",
    "        ADMITTIME和DISCHTIME分别为入院和出院时间；\n",
    "        如果患者的任何一个死亡日期在入院期间内，视为患者在住院期间死亡\n",
    "    \"\"\"\n",
    "    mortality_DOD = stays.DOD.notnull() & ((stays.ADMITTIME <= stays.DOD) & (stays.DISCHTIME >= stays.DOD))\n",
    "    mortality_DEA = stays.DEATHTIME.notnull() & ((stays.ADMITTIME <= stays.DEATHTIME) & (stays.DISCHTIME >= stays.DEATHTIME))\n",
    "    mortality_mask = mortality_DOD | mortality_DEA\n",
    "    # 得到患者在住院期间是否死亡的标志\n",
    "    stays['MORTALITY'] = mortality_mask.astype(int)\n",
    "    stays['MORTALITY_INHOSPITAL'] = stays['MORTALITY']\n",
    "    return stays\n"
   ]
  },
  {
   "cell_type": "code",
   "execution_count": 171,
   "metadata": {},
   "outputs": [],
   "source": [
    "def add_inunit_mortality_to_icustays(stays):\n",
    "    mortality_DOD = stays.DOD.notnull() & ((stays.INTIME <= stays.DOD) & (stays.OUTTIME >= stays.DOD))\n",
    "    mortality_DEA = stays.DEATHTIME.notnull() & ((stays.INTIME <= stays.DEATHTIME) & (stays.OUTTIME >= stays.DEATHTIME))\n",
    "    mortality_mask = mortality_DOD | mortality_DEA\n",
    "    stays['MORTALITY_INUNIT'] = mortality_mask.astype(int)\n",
    "    return stays"
   ]
  },
  {
   "cell_type": "code",
   "execution_count": 172,
   "metadata": {},
   "outputs": [],
   "source": [
    "icustays = add_inhospital_mortality_to_icustays(icustays)\n",
    "icustays = add_inunit_mortality_to_icustays(icustays)"
   ]
  },
  {
   "source": [
    "### 把处理好的icustay、patient、admission表存入文件"
   ],
   "cell_type": "markdown",
   "metadata": {}
  },
  {
   "cell_type": "code",
   "execution_count": 175,
   "metadata": {},
   "outputs": [],
   "source": [
    "icustays.to_csv(os.path.join(output_path, 'all_stays.csv'), index=False)"
   ]
  },
  {
   "source": [
    "##  读取患者的ICD-9 diagnoses\n",
    "D_ICD_DIAGNOSES.csv: Definition table for ICD diagnoses(诊断简介)\n",
    "\n",
    "DIAGNOSES_ICD.csv: Contains ICD diagnoses for patients, most notably ICD-9 diagnoses.(包含患者诊断信息)"
   ],
   "cell_type": "markdown",
   "metadata": {}
  },
  {
   "cell_type": "code",
   "execution_count": 233,
   "metadata": {},
   "outputs": [
    {
     "output_type": "stream",
     "name": "stdout",
     "text": [
      "       ROW_ID ICD9_CODE               SHORT_TITLE  \\\n0         174     01166     TB pneumonia-oth test   \n1         175     01170    TB pneumothorax-unspec   \n2         176     01171   TB pneumothorax-no exam   \n3         177     01172  TB pneumothorx-exam unkn   \n4         178     01173  TB pneumothorax-micro dx   \n...       ...       ...                       ...   \n14562   14432     V7399     Scrn unspcf viral dis   \n14563   14433      V740     Screening for cholera   \n14564   14434      V741    Screening-pulmonary TB   \n14565   14435      V742     Screening for leprosy   \n14566   14436      V743  Screening for diphtheria   \n\n                                              LONG_TITLE  \n0      Tuberculous pneumonia [any form], tubercle bac...  \n1                  Tuberculous pneumothorax, unspecified  \n2      Tuberculous pneumothorax, bacteriological or h...  \n3      Tuberculous pneumothorax, bacteriological or h...  \n4      Tuberculous pneumothorax, tubercle bacilli fou...  \n...                                                  ...  \n14562  Special screening examination for unspecified ...  \n14563                  Screening examination for cholera  \n14564   Screening examination for pulmonary tuberculosis  \n14565  Screening examination for leprosy (Hansen's di...  \n14566               Screening examination for diphtheria  \n\n[14567 rows x 4 columns]\n"
     ]
    }
   ],
   "source": [
    "\n",
    "codes = pd.read_csv(os.path.join(mimic3_path, 'D_ICD_DIAGNOSES.csv'))\n",
    "print(codes)\n"
   ]
  },
  {
   "cell_type": "code",
   "execution_count": 199,
   "metadata": {},
   "outputs": [
    {
     "output_type": "execute_result",
     "data": {
      "text/plain": [
       "Index(['ROW_ID', 'SUBJECT_ID', 'HADM_ID', 'SEQ_NUM', 'ICD9_CODE'], dtype='object')"
      ]
     },
     "metadata": {},
     "execution_count": 199
    }
   ],
   "source": [
    "diagnoses = pd.read_csv(os.path.join(mimic3_path, 'DIAGNOSES_ICD.csv'))\n",
    "diagnoses.columns"
   ]
  },
  {
   "cell_type": "code",
   "execution_count": 200,
   "metadata": {},
   "outputs": [],
   "source": [
    "diagnoses = diagnoses.merge(codes, how='inner', left_on='ICD9_CODE', right_on='ICD9_CODE')"
   ]
  },
  {
   "cell_type": "code",
   "execution_count": 191,
   "metadata": {},
   "outputs": [
    {
     "output_type": "execute_result",
     "data": {
      "text/plain": [
       "ROW_ID           int64\n",
       "SUBJECT_ID       int64\n",
       "HADM_ID          int64\n",
       "SEQ_NUM        float64\n",
       "ICD9_CODE       object\n",
       "SHORT_TITLE     object\n",
       "LONG_TITLE      object\n",
       "dtype: object"
      ]
     },
     "metadata": {},
     "execution_count": 191
    }
   ],
   "source": [
    "diagnoses.dtypes"
   ]
  },
  {
   "cell_type": "code",
   "execution_count": 201,
   "metadata": {},
   "outputs": [],
   "source": [
    "diagnoses[['SUBJECT_ID', 'HADM_ID', 'SEQ_NUM']] = diagnoses[['SUBJECT_ID', 'HADM_ID', 'SEQ_NUM']].astype(int)"
   ]
  },
  {
   "cell_type": "code",
   "execution_count": 202,
   "metadata": {},
   "outputs": [
    {
     "output_type": "execute_result",
     "data": {
      "text/plain": [
       "ROW_ID          int64\n",
       "SUBJECT_ID      int32\n",
       "HADM_ID         int32\n",
       "SEQ_NUM         int32\n",
       "ICD9_CODE      object\n",
       "SHORT_TITLE    object\n",
       "LONG_TITLE     object\n",
       "dtype: object"
      ]
     },
     "metadata": {},
     "execution_count": 202
    }
   ],
   "source": [
    "diagnoses.dtypes"
   ]
  },
  {
   "source": [
    "#### 把患者的icustay_id加入到diagnosis中"
   ],
   "cell_type": "markdown",
   "metadata": {}
  },
  {
   "cell_type": "code",
   "execution_count": 203,
   "metadata": {},
   "outputs": [
    {
     "output_type": "stream",
     "name": "stdout",
     "text": [
      "        ROW_ID  SUBJECT_ID  HADM_ID  SEQ_NUM ICD9_CODE  \\\n0         1297         109   172335        1     40301   \n1         1298         109   172335        2       486   \n2         1299         109   172335        3     58281   \n3         1300         109   172335        4      5855   \n4         1301         109   172335        5      4254   \n...        ...         ...      ...      ...       ...   \n477953  205925       18499   125788        1      1922   \n477954  348882       30377   104237        1     80336   \n477955  348883       30377   104237        2     E8852   \n477956  290675       25951   115991        1      1885   \n477957  523154       71275   157952        1     99561   \n\n                     SHORT_TITLE  \\\n0         Mal hyp kid w cr kid V   \n1        Pneumonia, organism NOS   \n2       Chr nephritis in oth dis   \n3       Chron kidney dis stage V   \n4        Prim cardiomyopathy NEC   \n...                          ...   \n477953       Mal neo spinal cord   \n477954  Cl skull fx NEC-coma NOS   \n477955      Fall from skateboard   \n477956      Mal neo bladder neck   \n477957    Anphylct react peanuts   \n\n                                               LONG_TITLE  ICUSTAY_ID  \n0       Hypertensive chronic kidney disease, malignant...      262652  \n1                         Pneumonia, organism unspecified      262652  \n2       Chronic glomerulonephritis in diseases classif...      262652  \n3                         Chronic kidney disease, Stage V      262652  \n4                          Other primary cardiomyopathies      262652  \n...                                                   ...         ...  \n477953                  Malignant neoplasm of spinal cord      217967  \n477954  Other closed skull fracture with other and uns...      276344  \n477955                               Fall from skateboard      276344  \n477956                 Malignant neoplasm of bladder neck      202859  \n477957               Anaphylactic reaction due to peanuts      217387  \n\n[477958 rows x 8 columns]\n"
     ]
    }
   ],
   "source": [
    "diagnoses = diagnoses.merge(icustays[['SUBJECT_ID', 'HADM_ID', 'ICUSTAY_ID']].drop_duplicates(), how='inner',\n",
    "                            on=['SUBJECT_ID', 'HADM_ID'])\n",
    "print(diagnoses)"
   ]
  },
  {
   "cell_type": "code",
   "execution_count": 205,
   "metadata": {},
   "outputs": [],
   "source": [
    "diagnoses.to_csv(os.path.join(output_path, 'all_diagnoses.csv'), index=False)"
   ]
  },
  {
   "source": [
    "### 去掉ICD-9中信息完全一样的记录（一个也没去掉）"
   ],
   "cell_type": "markdown",
   "metadata": {}
  },
  {
   "cell_type": "code",
   "execution_count": 234,
   "metadata": {},
   "outputs": [
    {
     "output_type": "execute_result",
     "data": {
      "text/plain": [
       "       ROW_ID ICD9_CODE               SHORT_TITLE  \\\n",
       "0         174     01166     TB pneumonia-oth test   \n",
       "1         175     01170    TB pneumothorax-unspec   \n",
       "2         176     01171   TB pneumothorax-no exam   \n",
       "3         177     01172  TB pneumothorx-exam unkn   \n",
       "4         178     01173  TB pneumothorax-micro dx   \n",
       "...       ...       ...                       ...   \n",
       "14562   14432     V7399     Scrn unspcf viral dis   \n",
       "14563   14433      V740     Screening for cholera   \n",
       "14564   14434      V741    Screening-pulmonary TB   \n",
       "14565   14435      V742     Screening for leprosy   \n",
       "14566   14436      V743  Screening for diphtheria   \n",
       "\n",
       "                                              LONG_TITLE  \n",
       "0      Tuberculous pneumonia [any form], tubercle bac...  \n",
       "1                  Tuberculous pneumothorax, unspecified  \n",
       "2      Tuberculous pneumothorax, bacteriological or h...  \n",
       "3      Tuberculous pneumothorax, bacteriological or h...  \n",
       "4      Tuberculous pneumothorax, tubercle bacilli fou...  \n",
       "...                                                  ...  \n",
       "14562  Special screening examination for unspecified ...  \n",
       "14563                  Screening examination for cholera  \n",
       "14564   Screening examination for pulmonary tuberculosis  \n",
       "14565  Screening examination for leprosy (Hansen's di...  \n",
       "14566               Screening examination for diphtheria  \n",
       "\n",
       "[14567 rows x 4 columns]"
      ],
      "text/html": "<div>\n<style scoped>\n    .dataframe tbody tr th:only-of-type {\n        vertical-align: middle;\n    }\n\n    .dataframe tbody tr th {\n        vertical-align: top;\n    }\n\n    .dataframe thead th {\n        text-align: right;\n    }\n</style>\n<table border=\"1\" class=\"dataframe\">\n  <thead>\n    <tr style=\"text-align: right;\">\n      <th></th>\n      <th>ROW_ID</th>\n      <th>ICD9_CODE</th>\n      <th>SHORT_TITLE</th>\n      <th>LONG_TITLE</th>\n    </tr>\n  </thead>\n  <tbody>\n    <tr>\n      <th>0</th>\n      <td>174</td>\n      <td>01166</td>\n      <td>TB pneumonia-oth test</td>\n      <td>Tuberculous pneumonia [any form], tubercle bac...</td>\n    </tr>\n    <tr>\n      <th>1</th>\n      <td>175</td>\n      <td>01170</td>\n      <td>TB pneumothorax-unspec</td>\n      <td>Tuberculous pneumothorax, unspecified</td>\n    </tr>\n    <tr>\n      <th>2</th>\n      <td>176</td>\n      <td>01171</td>\n      <td>TB pneumothorax-no exam</td>\n      <td>Tuberculous pneumothorax, bacteriological or h...</td>\n    </tr>\n    <tr>\n      <th>3</th>\n      <td>177</td>\n      <td>01172</td>\n      <td>TB pneumothorx-exam unkn</td>\n      <td>Tuberculous pneumothorax, bacteriological or h...</td>\n    </tr>\n    <tr>\n      <th>4</th>\n      <td>178</td>\n      <td>01173</td>\n      <td>TB pneumothorax-micro dx</td>\n      <td>Tuberculous pneumothorax, tubercle bacilli fou...</td>\n    </tr>\n    <tr>\n      <th>...</th>\n      <td>...</td>\n      <td>...</td>\n      <td>...</td>\n      <td>...</td>\n    </tr>\n    <tr>\n      <th>14562</th>\n      <td>14432</td>\n      <td>V7399</td>\n      <td>Scrn unspcf viral dis</td>\n      <td>Special screening examination for unspecified ...</td>\n    </tr>\n    <tr>\n      <th>14563</th>\n      <td>14433</td>\n      <td>V740</td>\n      <td>Screening for cholera</td>\n      <td>Screening examination for cholera</td>\n    </tr>\n    <tr>\n      <th>14564</th>\n      <td>14434</td>\n      <td>V741</td>\n      <td>Screening-pulmonary TB</td>\n      <td>Screening examination for pulmonary tuberculosis</td>\n    </tr>\n    <tr>\n      <th>14565</th>\n      <td>14435</td>\n      <td>V742</td>\n      <td>Screening for leprosy</td>\n      <td>Screening examination for leprosy (Hansen's di...</td>\n    </tr>\n    <tr>\n      <th>14566</th>\n      <td>14436</td>\n      <td>V743</td>\n      <td>Screening for diphtheria</td>\n      <td>Screening examination for diphtheria</td>\n    </tr>\n  </tbody>\n</table>\n<p>14567 rows × 4 columns</p>\n</div>"
     },
     "metadata": {},
     "execution_count": 234
    }
   ],
   "source": [
    "codes = codes.drop_duplicates()"
   ]
  },
  {
   "cell_type": "code",
   "execution_count": 235,
   "metadata": {},
   "outputs": [
    {
     "output_type": "stream",
     "name": "stdout",
     "text": [
      "     ICD9_CODE  COUNT\n0         0030      2\n1         0038      1\n2         0039      1\n3         0041      3\n4         0048      1\n...        ...    ...\n6164     V8821      3\n6165     V9010      1\n6166     V9039      1\n6167     V9081      3\n6168     V9089      1\n\n[6169 rows x 2 columns]\n"
     ]
    }
   ],
   "source": [
    "ICD_STAY_COUNT = diagnoses.groupby('ICD9_CODE')['ICUSTAY_ID'].count()\n",
    "ICD_STAY_COUNT = ICD_STAY_COUNT.reset_index()\n",
    "ICD_STAY_COUNT = ICD_STAY_COUNT.rename(columns={'ICUSTAY_ID':'COUNT'})\n",
    "print(ICD_STAY_COUNT)"
   ]
  },
  {
   "cell_type": "code",
   "execution_count": 249,
   "metadata": {},
   "outputs": [],
   "source": [
    "codes = codes.merge(ICD_STAY_COUNT, how='left', on=['ICD9_CODE'])"
   ]
  },
  {
   "cell_type": "code",
   "execution_count": 251,
   "metadata": {},
   "outputs": [],
   "source": [
    "mask_c = codes.COUNT.notnull()\n",
    "codes = codes[mask_c]"
   ]
  },
  {
   "cell_type": "code",
   "execution_count": 261,
   "metadata": {},
   "outputs": [],
   "source": [
    "codes.to_csv(os.path.join(output_path, 'diagnosis_counts.csv'), index =False)"
   ]
  },
  {
   "cell_type": "code",
   "execution_count": 260,
   "metadata": {},
   "outputs": [
    {
     "output_type": "execute_result",
     "data": {
      "text/plain": [
       "       ROW_ID ICD9_CODE               SHORT_TITLE  \\\n",
       "4303     4304      4019          Hypertension NOS   \n",
       "4472     4473      4280                   CHF NOS   \n",
       "4373     4374     41401  Crnry athrscl natve vssl   \n",
       "4461     4462     42731       Atrial fibrillation   \n",
       "1588     1591     25000  DMII wo cmp nt st uncntr   \n",
       "...       ...       ...                       ...   \n",
       "11526   11482     E8156    Mv coll w obj-ped cycl   \n",
       "5600     5602     61800  Vaginal wall prolpse NOS   \n",
       "5604     5606     61804                 Rectocele   \n",
       "5608     5610      6182  Uterovag prolaps-incompl   \n",
       "14        188     01186    Pulmon TB NEC-oth test   \n",
       "\n",
       "                                              LONG_TITLE    COUNT  \n",
       "4303                  Unspecified essential hypertension  17343.0  \n",
       "4472               Congestive heart failure, unspecified  10601.0  \n",
       "4373   Coronary atherosclerosis of native coronary ar...  10345.0  \n",
       "4461                                 Atrial fibrillation  10313.0  \n",
       "1588   Diabetes mellitus without mention of complicat...   7486.0  \n",
       "...                                                  ...      ...  \n",
       "11526  Other motor vehicle traffic accident involving...      1.0  \n",
       "5600               Unspecified prolapse of vaginal walls      1.0  \n",
       "5604                                           Rectocele      1.0  \n",
       "5608                   Uterovaginal prolapse, incomplete      1.0  \n",
       "14     Other specified pulmonary tuberculosis, tuberc...      1.0  \n",
       "\n",
       "[6169 rows x 5 columns]"
      ],
      "text/html": "<div>\n<style scoped>\n    .dataframe tbody tr th:only-of-type {\n        vertical-align: middle;\n    }\n\n    .dataframe tbody tr th {\n        vertical-align: top;\n    }\n\n    .dataframe thead th {\n        text-align: right;\n    }\n</style>\n<table border=\"1\" class=\"dataframe\">\n  <thead>\n    <tr style=\"text-align: right;\">\n      <th></th>\n      <th>ROW_ID</th>\n      <th>ICD9_CODE</th>\n      <th>SHORT_TITLE</th>\n      <th>LONG_TITLE</th>\n      <th>COUNT</th>\n    </tr>\n  </thead>\n  <tbody>\n    <tr>\n      <th>4303</th>\n      <td>4304</td>\n      <td>4019</td>\n      <td>Hypertension NOS</td>\n      <td>Unspecified essential hypertension</td>\n      <td>17343.0</td>\n    </tr>\n    <tr>\n      <th>4472</th>\n      <td>4473</td>\n      <td>4280</td>\n      <td>CHF NOS</td>\n      <td>Congestive heart failure, unspecified</td>\n      <td>10601.0</td>\n    </tr>\n    <tr>\n      <th>4373</th>\n      <td>4374</td>\n      <td>41401</td>\n      <td>Crnry athrscl natve vssl</td>\n      <td>Coronary atherosclerosis of native coronary ar...</td>\n      <td>10345.0</td>\n    </tr>\n    <tr>\n      <th>4461</th>\n      <td>4462</td>\n      <td>42731</td>\n      <td>Atrial fibrillation</td>\n      <td>Atrial fibrillation</td>\n      <td>10313.0</td>\n    </tr>\n    <tr>\n      <th>1588</th>\n      <td>1591</td>\n      <td>25000</td>\n      <td>DMII wo cmp nt st uncntr</td>\n      <td>Diabetes mellitus without mention of complicat...</td>\n      <td>7486.0</td>\n    </tr>\n    <tr>\n      <th>...</th>\n      <td>...</td>\n      <td>...</td>\n      <td>...</td>\n      <td>...</td>\n      <td>...</td>\n    </tr>\n    <tr>\n      <th>11526</th>\n      <td>11482</td>\n      <td>E8156</td>\n      <td>Mv coll w obj-ped cycl</td>\n      <td>Other motor vehicle traffic accident involving...</td>\n      <td>1.0</td>\n    </tr>\n    <tr>\n      <th>5600</th>\n      <td>5602</td>\n      <td>61800</td>\n      <td>Vaginal wall prolpse NOS</td>\n      <td>Unspecified prolapse of vaginal walls</td>\n      <td>1.0</td>\n    </tr>\n    <tr>\n      <th>5604</th>\n      <td>5606</td>\n      <td>61804</td>\n      <td>Rectocele</td>\n      <td>Rectocele</td>\n      <td>1.0</td>\n    </tr>\n    <tr>\n      <th>5608</th>\n      <td>5610</td>\n      <td>6182</td>\n      <td>Uterovag prolaps-incompl</td>\n      <td>Uterovaginal prolapse, incomplete</td>\n      <td>1.0</td>\n    </tr>\n    <tr>\n      <th>14</th>\n      <td>188</td>\n      <td>01186</td>\n      <td>Pulmon TB NEC-oth test</td>\n      <td>Other specified pulmonary tuberculosis, tuberc...</td>\n      <td>1.0</td>\n    </tr>\n  </tbody>\n</table>\n<p>6169 rows × 5 columns</p>\n</div>"
     },
     "metadata": {},
     "execution_count": 260
    }
   ],
   "source": [
    "codes.sort_values('COUNT', ascending=False)"
   ]
  },
  {
   "cell_type": "code",
   "execution_count": 269,
   "metadata": {},
   "outputs": [
    {
     "output_type": "execute_result",
     "data": {
      "text/plain": [
       "''"
      ]
     },
     "metadata": {},
     "execution_count": 269
    }
   ],
   "source": [
    "os.path.dirname(\"__file__\")"
   ]
  },
  {
   "cell_type": "code",
   "execution_count": 279,
   "metadata": {},
   "outputs": [],
   "source": [
    "phenotype_definitions = os.path.join(os.path.dirname(\"__file__\"), '../resources/hcup_ccs_2015_definitions.yaml')\n",
    "\n",
    "import yaml\n",
    "definitions = yaml.load(open(phenotype_definitions, 'r'))\n"
   ]
  },
  {
   "cell_type": "code",
   "execution_count": null,
   "metadata": {},
   "outputs": [],
   "source": [
    "def_map = {}\n",
    "    for dx in definitions:\n",
    "        for code in definitions[dx]['codes']:\n",
    "            def_map[code] = (dx, definitions[dx]['use_in_benchmark'])\n",
    "    diagnoses['HCUP_CCS_2015'] = diagnoses.ICD9_CODE.apply(lambda c: def_map[c][0] if c in def_map else None)\n",
    "    diagnoses['USE_IN_BENCHMARK'] = diagnoses.ICD9_CODE.apply(lambda c: int(def_map[c][1]) if c in def_map else None)"
   ]
  },
  {
   "cell_type": "code",
   "execution_count": 282,
   "metadata": {},
   "outputs": [],
   "source": [
    "def_map = {}\n",
    "for dx in definitions:\n",
    "    #print(dx)\n",
    "    codes_list = definitions[dx]['codes']\n",
    "    for code in codes_list:\n",
    "        def_map[code] = (dx, definitions[dx]['use_in_benchmark'])\n",
    "    "
   ]
  },
  {
   "source": [
    "### 25种急性表型分类"
   ],
   "cell_type": "markdown",
   "metadata": {}
  },
  {
   "cell_type": "code",
   "execution_count": 286,
   "metadata": {},
   "outputs": [],
   "source": [
    "diagnoses['HCUP_CCS_2015'] = diagnoses.ICD9_CODE.apply(lambda c: def_map[c][0] if c in def_map else None)\n",
    "diagnoses['USE_IN_BENCHMARK'] = diagnoses.ICD9_CODE.apply(lambda c: int(def_map[c][1]) if c in def_map else None)"
   ]
  },
  {
   "cell_type": "code",
   "execution_count": 291,
   "metadata": {},
   "outputs": [],
   "source": [
    "phenotypes = diagnoses\n",
    "phenotypes = phenotypes[['ICUSTAY_ID', 'HCUP_CCS_2015']].loc[phenotypes.USE_IN_BENCHMARK > 0].drop_duplicates()\n",
    "phenotypes['VALUE'] = 1"
   ]
  },
  {
   "cell_type": "code",
   "execution_count": 292,
   "metadata": {},
   "outputs": [],
   "source": [
    "phenotypes = phenotypes.pivot(index='ICUSTAY_ID', columns='HCUP_CCS_2015', values='VALUE')\n",
    "phenotypes = phenotypes.reindex(icustays.ICUSTAY_ID.sort_values())\n",
    "phenotypes_ = phenotypes.fillna(0).astype(int).sort_index(axis=0).sort_index(axis=1)"
   ]
  },
  {
   "cell_type": "code",
   "execution_count": 296,
   "metadata": {},
   "outputs": [],
   "source": [
    "phenotypes = phenotypes.reindex(icustays.ICUSTAY_ID.sort_values())\n",
    "phenotypes_ = phenotypes.fillna(0).astype(int).sort_index(axis=0).sort_index(axis=1)"
   ]
  },
  {
   "cell_type": "code",
   "execution_count": 299,
   "metadata": {},
   "outputs": [
    {
     "output_type": "error",
     "ename": "NameError",
     "evalue": "name 'csv' is not defined",
     "traceback": [
      "\u001b[1;31m---------------------------------------------------------------------------\u001b[0m",
      "\u001b[1;31mNameError\u001b[0m                                 Traceback (most recent call last)",
      "\u001b[1;32m<ipython-input-299-9ec072a03ad9>\u001b[0m in \u001b[0;36m<module>\u001b[1;34m\u001b[0m\n\u001b[0;32m      1\u001b[0m phenotypes_.to_csv(os.path.join(output_path, 'phenotype_labels.csv'),\n\u001b[1;32m----> 2\u001b[1;33m                                                       index=False, quoting=csv.QUOTE_NONNUMERIC)\n\u001b[0m",
      "\u001b[1;31mNameError\u001b[0m: name 'csv' is not defined"
     ]
    }
   ],
   "source": [
    "phenotypes_.to_csv(os.path.join(output_path, 'phenotype_labels.csv'),\n",
    "                                                      index=False, quoting=csv.QUOTE_NONNUMERIC)"
   ]
  },
  {
   "cell_type": "code",
   "execution_count": null,
   "metadata": {},
   "outputs": [],
   "source": []
  }
 ]
}