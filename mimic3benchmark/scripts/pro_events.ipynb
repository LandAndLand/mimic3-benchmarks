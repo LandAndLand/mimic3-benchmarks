{
 "metadata": {
  "language_info": {
   "codemirror_mode": {
    "name": "ipython",
    "version": 3
   },
   "file_extension": ".py",
   "mimetype": "text/x-python",
   "name": "python",
   "nbconvert_exporter": "python",
   "pygments_lexer": "ipython3",
   "version": "3.8.6-final"
  },
  "orig_nbformat": 2,
  "kernelspec": {
   "name": "python3",
   "display_name": "Python 3.8.6 64-bit ('normal')",
   "metadata": {
    "interpreter": {
     "hash": "f00aa4d08b5dbe9a4f4240f8270de016ce9f4f5bdff9dc19e01b094329a335d5"
    }
   }
  }
 },
 "nbformat": 4,
 "nbformat_minor": 2,
 "cells": [
  {
   "cell_type": "code",
   "execution_count": 4,
   "metadata": {},
   "outputs": [],
   "source": [
    "import pandas as pd"
   ]
  },
  {
   "cell_type": "code",
   "execution_count": 1,
   "metadata": {},
   "outputs": [],
   "source": [
    "output_path = 'data/root'\n",
    "obs_header = ['SUBJECT_ID', 'HADM_ID', 'ICUSTAY_ID', 'CHARTTIME', 'ITEMID', 'VALUE', 'VALUEUOM']"
   ]
  },
  {
   "cell_type": "code",
   "execution_count": null,
   "metadata": {},
   "outputs": [],
   "source": [
    "icustays = pd.read_csv('data/csvs/all_stays.csv', index_col = False)\n",
    "subjects = icustays.SUBJECT_ID.unique()"
   ]
  },
  {
   "cell_type": "code",
   "execution_count": 2,
   "metadata": {},
   "outputs": [],
   "source": [
    "subjects = [3, 4]"
   ]
  },
  {
   "cell_type": "code",
   "execution_count": 5,
   "metadata": {},
   "outputs": [],
   "source": [
    "mimic3_path = 'MIMIC-III Clinical Database 1.4'\n",
    "outputevents = pd.read_csv(os.path.join(mimic3_path, 'OUTPUTEVENTS.csv'))\n",
    "labevents = pd.read_csv(os.path.join(mimic3_path, 'LABEVENTS.csv'))\n",
    "if 'ICUSTAY_ID' not in labevents:\n",
    "    labevents['ICUSTAY_ID'] = ''"
   ]
  },
  {
   "cell_type": "code",
   "execution_count": 8,
   "metadata": {},
   "outputs": [
    {
     "output_type": "stream",
     "name": "stdout",
     "text": [
      "      SUBJECT_ID  HADM_ID  ICUSTAY_ID            CHARTTIME  ITEMID   VALUE  \\\n0              3      NaN         NaN  2101-10-12 16:07:00   50820    7.39   \n1              3      NaN         NaN  2101-10-12 18:17:00   50800     ART   \n2              3      NaN         NaN  2101-10-12 18:17:00   50802      -1   \n3              3      NaN         NaN  2101-10-12 18:17:00   50804      22   \n4              3      NaN         NaN  2101-10-12 18:17:00   50808    0.93   \n...          ...      ...         ...                  ...     ...     ...   \n1711           3      NaN         NaN  2101-12-20 12:00:00   51265     453   \n1712           3      NaN         NaN  2101-12-20 12:00:00   51266    HIGH   \n1713           3      NaN         NaN  2101-12-20 12:00:00   51267  NORMAL   \n1714           3      NaN         NaN  2101-12-20 12:00:00   51268  NORMAL   \n1715           3      NaN         NaN  2101-12-20 12:00:00   51274    13.2   \n\n     VALUEUOM  \n0       units  \n1         NaN  \n2       mEq/L  \n3       mEq/L  \n4      mmol/L  \n...       ...  \n1711     K/uL  \n1712      NaN  \n1713      NaN  \n1714      NaN  \n1715      sec  \n\n[1716 rows x 7 columns]\n病人3 错误数据数位： 1716\n"
     ]
    }
   ],
   "source": [
    "s = 3\n",
    "s_data = pd.read_csv(os.path.join(output_path, str(s), 'events.csv'), index_col = False)\n",
    "mask_true = s_data['SUBJECT_ID']==s\n",
    "s_data_true = s_data[mask_true]\n",
    "print(s_data_true)\n",
    "if(len(s_data_true)==len(s_data)):\n",
    "    print(f'该病人不存在数据错误！ID为{s}')\n",
    "else:\n",
    "    print(f'病人{s} 错误数据数位： {-(len(s_data_true)-len(s_data))}')\n",
    "    s_data_true.to_csv(os.path.join(output_path, str(s), 'events.csv'), index = False)"
   ]
  },
  {
   "cell_type": "code",
   "execution_count": 9,
   "metadata": {},
   "outputs": [
    {
     "output_type": "stream",
     "name": "stdout",
     "text": [
      "\n",
      "开始清除ID为3 的病人的错误数据！\n",
      "该病人不存在数据错误！ID为3\n",
      "\n",
      "病人3数据清除完毕! 现在开始存lab和out数据\n",
      "第1个 病人3 的events存取完毕。共 2 个病人\n",
      "\n",
      "开始清除ID为4 的病人的错误数据！\n",
      "该病人不存在数据错误！ID为4\n",
      "\n",
      "病人4数据清除完毕! 现在开始存lab和out数据\n",
      "第2个 病人4 的events存取完毕。共 2 个病人\n"
     ]
    }
   ],
   "source": [
    "count = 0 \n",
    "all_count = len(subjects)\n",
    "\n",
    "# 默认数据都不为空\n",
    "flag_dict = {}\n",
    "for s in subjects:\n",
    "    flag_dict[s] = False\n",
    "\n",
    "for s in subjects:\n",
    "    count = count + 1\n",
    "    #首先打开写好的event.csv， 清楚SUNKECT_ID 不为s的记录\n",
    "    print()\n",
    "    print(f'开始清除ID为{s} 的病人的错误数据！')\n",
    "    s_data = pd.read_csv(os.path.join(output_path, str(s), 'events.csv'), index_col = False)\n",
    "    mask_true = s_data['SUBJECT_ID']==s\n",
    "    s_data_true = s_data[mask_true]\n",
    "    if(len(s_data_true)==len(s_data)):\n",
    "        print(f'该病人不存在数据错误！ID为{s}')\n",
    "    else:\n",
    "        print(f'病人{s} 错误数据数有： {-(len(s_data_true)-len(s_data))} 个')\n",
    "        s_data_true.to_csv(os.path.join(output_path, str(s), 'events.csv'), index = False)\n",
    "    print()\n",
    "    print(f'病人{s}数据清除完毕! 现在开始存lab和out数据')\n",
    "    # 写入lab和out信息\n",
    "    dn = os.path.join(output_path, str(s))\n",
    "    fn = os.path.join(dn, 'events.csv')\n",
    "    mask_lab = labevents['SUBJECT_ID'] == s\n",
    "    mask_out = outputevents['SUBJECT_ID'] == s\n",
    "    lab = labevents[mask_lab][obs_header]\n",
    "    out = outputevents[mask_out][obs_header]\n",
    "    if s_data_true.empty: \n",
    "        flag_dict[s] = True\n",
    "\n",
    "    if not lab.empty:\n",
    "        if flag_dict[s]:\n",
    "            lab.to_csv(fn, index=False)\n",
    "            flag_dict[s] = False\n",
    "        else:\n",
    "            lab.to_csv(fn, mode='a', header=False, index=False)\n",
    "    if not out.empty:\n",
    "        if flag_dict[s]:\n",
    "            out.to_csv(fn, index=False)\n",
    "            flag_dict[s] = False\n",
    "        else:\n",
    "            out.to_csv(fn, mode='a', header=False, index=False)\n",
    "    print(f'第{count}个 病人{s} 的events存取完毕。共 {all_count} 个病人')"
   ]
  },
  {
   "cell_type": "code",
   "execution_count": null,
   "metadata": {},
   "outputs": [],
   "source": []
  }
 ]
}