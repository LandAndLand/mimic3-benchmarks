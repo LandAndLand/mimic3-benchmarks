{
 "metadata": {
  "language_info": {
   "codemirror_mode": {
    "name": "ipython",
    "version": 3
   },
   "file_extension": ".py",
   "mimetype": "text/x-python",
   "name": "python",
   "nbconvert_exporter": "python",
   "pygments_lexer": "ipython3",
   "version": "3.8.6-final"
  },
  "orig_nbformat": 2,
  "kernelspec": {
   "name": "python3",
   "display_name": "Python 3"
  }
 },
 "nbformat": 4,
 "nbformat_minor": 2,
 "cells": [
  {
   "cell_type": "code",
   "execution_count": 72,
   "metadata": {},
   "outputs": [],
   "source": [
    "import pandas as pd\n",
    "import json\n",
    "import random\n",
    "\n",
    "from tqdm import tqdm\n",
    "from collections import OrderedDict"
   ]
  },
  {
   "cell_type": "code",
   "execution_count": 73,
   "metadata": {},
   "outputs": [],
   "source": [
    "#subjects_root_path = 'data/root'\n",
    "train_data_path = 'data/root/train'\n",
    "json_data_path = 'data/json'"
   ]
  },
  {
   "cell_type": "code",
   "execution_count": 74,
   "metadata": {},
   "outputs": [
    {
     "output_type": "execute_result",
     "data": {
      "text/plain": [
       "\" subjects = []\\nfor subject_dir in tqdm(os.listdir(subjects_root_path), desc='Iterating over subjects'):\\n    #print(subject_dir)\\n    subjects.append(int(subject_dir))\\nprint(len(subjects)) \""
      ]
     },
     "metadata": {},
     "execution_count": 74
    }
   ],
   "source": [
    "\"\"\" subjects = []\n",
    "for subject_dir in tqdm(os.listdir(subjects_root_path), desc='Iterating over subjects'):\n",
    "    #print(subject_dir)\n",
    "    subjects.append(int(subject_dir))\n",
    "print(len(subjects)) \"\"\""
   ]
  },
  {
   "cell_type": "code",
   "execution_count": 75,
   "metadata": {},
   "outputs": [],
   "source": [
    "#print(len(subjects))"
   ]
  },
  {
   "cell_type": "code",
   "execution_count": 76,
   "metadata": {},
   "outputs": [
    {
     "output_type": "execute_result",
     "data": {
      "text/plain": [
       "\" for index, row in df.iterrows():\\n    print(row['ICUSTAY_ID'], row['CHARTTIME'], row['ITEMID'], row['VALUE'])  \""
      ]
     },
     "metadata": {},
     "execution_count": 76
    }
   ],
   "source": [
    "\"\"\" for index, row in df.iterrows():\n",
    "    print(row['ICUSTAY_ID'], row['CHARTTIME'], row['ITEMID'], row['VALUE'])  \"\"\""
   ]
  },
  {
   "cell_type": "code",
   "execution_count": 77,
   "metadata": {},
   "outputs": [
    {
     "output_type": "error",
     "ename": "FileNotFoundError",
     "evalue": "[WinError 3] 系统找不到指定的路径。: 'data/root/train'",
     "traceback": [
      "\u001b[1;31m---------------------------------------------------------------------------\u001b[0m",
      "\u001b[1;31mFileNotFoundError\u001b[0m                         Traceback (most recent call last)",
      "\u001b[1;32m<ipython-input-77-0010c22e163d>\u001b[0m in \u001b[0;36m<module>\u001b[1;34m\u001b[0m\n\u001b[0;32m     13\u001b[0m     \u001b[1;32mpass\u001b[0m\u001b[1;33m\u001b[0m\u001b[1;33m\u001b[0m\u001b[0m\n\u001b[0;32m     14\u001b[0m \u001b[1;33m\u001b[0m\u001b[0m\n\u001b[1;32m---> 15\u001b[1;33m \u001b[1;32mfor\u001b[0m \u001b[0msubject\u001b[0m \u001b[1;32min\u001b[0m \u001b[0mtqdm\u001b[0m\u001b[1;33m(\u001b[0m\u001b[0mos\u001b[0m\u001b[1;33m.\u001b[0m\u001b[0mlistdir\u001b[0m\u001b[1;33m(\u001b[0m\u001b[0mtrain_data_path\u001b[0m\u001b[1;33m)\u001b[0m\u001b[1;33m,\u001b[0m \u001b[0mdesc\u001b[0m\u001b[1;33m=\u001b[0m\u001b[1;34m'Iterating over subjects'\u001b[0m\u001b[1;33m)\u001b[0m\u001b[1;33m:\u001b[0m\u001b[1;33m\u001b[0m\u001b[1;33m\u001b[0m\u001b[0m\n\u001b[0m\u001b[0;32m     16\u001b[0m      \u001b[0msubjects_dict\u001b[0m \u001b[1;33m=\u001b[0m \u001b[0mOrderedDict\u001b[0m\u001b[1;33m(\u001b[0m\u001b[1;33m)\u001b[0m\u001b[1;33m\u001b[0m\u001b[1;33m\u001b[0m\u001b[0m\n\u001b[0;32m     17\u001b[0m      \u001b[0mpatient_dir\u001b[0m \u001b[1;33m=\u001b[0m \u001b[0mos\u001b[0m\u001b[1;33m.\u001b[0m\u001b[0mpath\u001b[0m\u001b[1;33m.\u001b[0m\u001b[0mjoin\u001b[0m\u001b[1;33m(\u001b[0m\u001b[0mtrain_data_path\u001b[0m\u001b[1;33m,\u001b[0m \u001b[0msubject\u001b[0m\u001b[1;33m)\u001b[0m\u001b[1;33m\u001b[0m\u001b[1;33m\u001b[0m\u001b[0m\n",
      "\u001b[1;31mFileNotFoundError\u001b[0m: [WinError 3] 系统找不到指定的路径。: 'data/root/train'"
     ]
    }
   ],
   "source": [
    "names = pd.read_csv('data/name.csv')\n",
    "names = [i[0] for i in names.values.tolist()]\n",
    "g_map = {1: '女', 2: '男', '3': '', 0: ''}\n",
    "e_map = {1: 'ASIAN',\n",
    "         2: 'BLACK',\n",
    "         3: 'SOUTH AMERICAN',\n",
    "         4: 'WHITE',\n",
    "         0: 'OTHER'\n",
    "         }\n",
    "try :\n",
    "    os.makedirs(json_data_path)\n",
    "except:\n",
    "    pass\n",
    "\n",
    "for subject in tqdm(os.listdir(train_data_path), desc='Iterating over subjects'):\n",
    "     subjects_dict = OrderedDict()\n",
    "     patient_dir = os.path.join(train_data_path, subject) \n",
    "     # 只读取某人第一次入住ICU的信息\n",
    "     static_info = pd.read_csv(os.path.join(patient_dir, 'episode1.csv'))\n",
    "     icustay_id = int(static_info['Icustay'])\n",
    "     events_info = pd.read_csv(os.path.join(patient_dir, 'events.csv'))\n",
    "     events_info = events_info['ICUSTAY_ID'].fillna(-1).astype(int)\n",
    "     events_info = events_info[events_info['ICUSTAY_ID'] == icustay_id]\n",
    "\n",
    "     patient_id = events_info['SUBJECT_ID']\n",
    "     name = random.choice(names)\n",
    "     age = static_info['Age']\n",
    "     weight = static_info['Weight']\n",
    "     height = static_info['Height']\n",
    "     gender = g_map[int(static_info['Gender'])]\n",
    "     ethnicity = e_map[int(static_info['Ethnicity'])]\n",
    "     subjects_dict['id'] = patient_id\n",
    "     subjects_dict['name'] = name\n",
    "     subjects_dict['age'] = age\n",
    "     subjects_dict['weight'] = weight\n",
    "     subjects_dict['height'] = height\n",
    "     subjects_dict['gender'] = gender\n",
    "     subjects_dict['ethnicity'] = ethnicity\n",
    "\n",
    "     chartevents = []\n",
    "     for index, row in df.iterrows():\n",
    "         chart_dict = OrderedDict()\n",
    "         #print(row['ICUSTAY_ID'], row['CHARTTIME'], row['ITEMID'], row['VALUE']) \n",
    "         charttime = row['CHARTTIME']\n",
    "         itemid = row['ITEMID']\n",
    "         value = row['VALUE']\n",
    "         valueuom = row['VALUEUOM']\n",
    "         chart_dict['charttime'] = charttime\n",
    "         chart_dict['itemid'] = itemid\n",
    "         chart_dict['value'] = value\n",
    "         chart_dict['valueuom'] = valueuom\n",
    "         chartevents.append(chart_dict)\n",
    "     subjects_dict['chartevents'] = chartevents\n",
    "     subject_json_path  = os.path.join(json_data_path, '{}_.json'.format(subject)) \n",
    "     with open(subject_json_path, 'w') as jf:\n",
    "         jf.write(subjects_dict)\n"
   ]
  }
 ]
}