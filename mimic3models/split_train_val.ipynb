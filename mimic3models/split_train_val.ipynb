{
 "metadata": {
  "language_info": {
   "codemirror_mode": {
    "name": "ipython",
    "version": 3
   },
   "file_extension": ".py",
   "mimetype": "text/x-python",
   "name": "python",
   "nbconvert_exporter": "python",
   "pygments_lexer": "ipython3",
   "version": "3.8.6-final"
  },
  "orig_nbformat": 2,
  "kernelspec": {
   "name": "python3",
   "display_name": "Python 3.8.6 64-bit ('normal')",
   "metadata": {
    "interpreter": {
     "hash": "304dd9ef76ad2d6bf7237ef8f6fde70bef676e0aff923029a3f8742854b86f8f"
    }
   }
  }
 },
 "nbformat": 4,
 "nbformat_minor": 2,
 "cells": [
  {
   "cell_type": "code",
   "execution_count": 6,
   "metadata": {},
   "outputs": [],
   "source": [
    "import shutil\n",
    "import os\n",
    "import pandas as pd\n"
   ]
  },
  {
   "cell_type": "code",
   "execution_count": 67,
   "metadata": {},
   "outputs": [],
   "source": [
    "valset_path = 'resources/valset.csv'\n",
    "data_dir = '../mimic3benchmark/scripts/data/in-hospital-mortality'\n",
    "out_dir = 'result'"
   ]
  },
  {
   "cell_type": "code",
   "execution_count": 54,
   "metadata": {},
   "outputs": [],
   "source": [
    "train_listfile_path = os.path.join(data_dir, 'train_listfile.csv')\n",
    "train_listfile = pd.read_csv(train_listfile_path)\n",
    "train_listfile = train_listfile.sample(frac=1.0)\n"
   ]
  },
  {
   "cell_type": "code",
   "execution_count": 64,
   "metadata": {},
   "outputs": [],
   "source": [
    "length_of_all = len(train_listfile)\n",
    "length_of_train = int(length_of_all * 0.8)\n",
    "length_of_val = length_of_all - length_of_train\n",
    "train_listfile_after_split = train_listfile[: length_of_train]\n",
    "val_listfile = train_listfile[length_of_train-1: -1] \n",
    "#print(f'length_of_all: {length_of_all}')\n",
    "#print(f'train_listfile_after_split length : {len(train_listfile_after_split)}')\n",
    "#print(f'val_listfile length: {len(val_listfile)}')\n",
    "assert len(train_listfile_after_split) + len(val_listfile) == length_of_all"
   ]
  },
  {
   "cell_type": "code",
   "execution_count": 71,
   "metadata": {},
   "outputs": [],
   "source": [
    "listfile_outpath = os.path.join(out_dir, 'mortality')\n",
    "\n",
    "train_listfile_after_split.to_csv(listfile_outpath + '/train_listfile.csv', index=False)\n",
    "val_listfile.to_csv(listfile_outpath + '/val_listfile.csv', index=False)"
   ]
  }
 ]
}